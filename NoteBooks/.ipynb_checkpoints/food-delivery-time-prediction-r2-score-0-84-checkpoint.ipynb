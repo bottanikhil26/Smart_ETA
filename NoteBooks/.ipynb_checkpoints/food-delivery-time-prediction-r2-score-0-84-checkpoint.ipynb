{
 "cells": [
  {
   "cell_type": "code",
   "execution_count": 1,
   "id": "d6d1a26a",
   "metadata": {
    "execution": {
     "iopub.execute_input": "2024-11-03T04:30:11.089273Z",
     "iopub.status.busy": "2024-11-03T04:30:11.088609Z",
     "iopub.status.idle": "2024-11-03T04:30:18.221437Z",
     "shell.execute_reply": "2024-11-03T04:30:18.220566Z"
    },
    "papermill": {
     "duration": 7.170957,
     "end_time": "2024-11-03T04:30:18.224181",
     "exception": false,
     "start_time": "2024-11-03T04:30:11.053224",
     "status": "completed"
    },
    "tags": []
   },
   "outputs": [],
   "source": [
    "import pandas as pd \n",
    "import numpy as np \n",
    "import matplotlib.pyplot as plt \n",
    "import seaborn as sns\n",
    "from scipy.stats import stats as st\n",
    "import statsmodels.api as sm\n",
    "\n",
    "import sklearn\n",
    "from sklearn.preprocessing import LabelEncoder,MinMaxScaler\n",
    "from sklearn.model_selection import train_test_split,GridSearchCV, cross_val_score\n",
    "from sklearn.linear_model import Ridge\n",
    "from sklearn.tree import DecisionTreeRegressor\n",
    "from sklearn.ensemble import RandomForestRegressor \n",
    "from xgboost import XGBRegressor\n",
    "from lightgbm import LGBMRegressor \n",
    "from sklearn.metrics import r2_score,mean_squared_error \n",
    "\n",
    "plt.style.use(\"ggplot\")\n",
    "import warnings\n",
    "warnings.filterwarnings(\"ignore\")"
   ]
  },
  {
   "cell_type": "markdown",
   "id": "063620fa",
   "metadata": {
    "papermill": {
     "duration": 0.031648,
     "end_time": "2024-11-03T04:30:18.290244",
     "exception": false,
     "start_time": "2024-11-03T04:30:18.258596",
     "status": "completed"
    },
    "tags": []
   },
   "source": [
    "## 1. Reading the Data "
   ]
  },
  {
   "cell_type": "code",
   "execution_count": 2,
   "id": "52cfbafe",
   "metadata": {
    "execution": {
     "iopub.execute_input": "2024-11-03T04:30:18.354677Z",
     "iopub.status.busy": "2024-11-03T04:30:18.354023Z",
     "iopub.status.idle": "2024-11-03T04:30:18.671866Z",
     "shell.execute_reply": "2024-11-03T04:30:18.670878Z"
    },
    "papermill": {
     "duration": 0.35216,
     "end_time": "2024-11-03T04:30:18.674083",
     "exception": false,
     "start_time": "2024-11-03T04:30:18.321923",
     "status": "completed"
    },
    "tags": []
   },
   "outputs": [
    {
     "data": {
      "text/html": [
       "<div>\n",
       "<style scoped>\n",
       "    .dataframe tbody tr th:only-of-type {\n",
       "        vertical-align: middle;\n",
       "    }\n",
       "\n",
       "    .dataframe tbody tr th {\n",
       "        vertical-align: top;\n",
       "    }\n",
       "\n",
       "    .dataframe thead th {\n",
       "        text-align: right;\n",
       "    }\n",
       "</style>\n",
       "<table border=\"1\" class=\"dataframe\">\n",
       "  <thead>\n",
       "    <tr style=\"text-align: right;\">\n",
       "      <th></th>\n",
       "      <th>ID</th>\n",
       "      <th>Delivery_person_ID</th>\n",
       "      <th>Delivery_person_Age</th>\n",
       "      <th>Delivery_person_Ratings</th>\n",
       "      <th>Restaurant_latitude</th>\n",
       "      <th>Restaurant_longitude</th>\n",
       "      <th>Delivery_location_latitude</th>\n",
       "      <th>Delivery_location_longitude</th>\n",
       "      <th>Order_Date</th>\n",
       "      <th>Time_Orderd</th>\n",
       "      <th>Time_Order_picked</th>\n",
       "      <th>Weatherconditions</th>\n",
       "      <th>Road_traffic_density</th>\n",
       "      <th>Vehicle_condition</th>\n",
       "      <th>Type_of_order</th>\n",
       "      <th>Type_of_vehicle</th>\n",
       "      <th>multiple_deliveries</th>\n",
       "      <th>Festival</th>\n",
       "      <th>City</th>\n",
       "      <th>Time_taken(min)</th>\n",
       "    </tr>\n",
       "  </thead>\n",
       "  <tbody>\n",
       "    <tr>\n",
       "      <th>0</th>\n",
       "      <td>0x4607</td>\n",
       "      <td>INDORES13DEL02</td>\n",
       "      <td>37</td>\n",
       "      <td>4.9</td>\n",
       "      <td>22.745049</td>\n",
       "      <td>75.892471</td>\n",
       "      <td>22.765049</td>\n",
       "      <td>75.912471</td>\n",
       "      <td>19-03-2022</td>\n",
       "      <td>11:30:00</td>\n",
       "      <td>11:45:00</td>\n",
       "      <td>conditions Sunny</td>\n",
       "      <td>High</td>\n",
       "      <td>2</td>\n",
       "      <td>Snack</td>\n",
       "      <td>motorcycle</td>\n",
       "      <td>0</td>\n",
       "      <td>No</td>\n",
       "      <td>Urban</td>\n",
       "      <td>(min) 24</td>\n",
       "    </tr>\n",
       "    <tr>\n",
       "      <th>1</th>\n",
       "      <td>0xb379</td>\n",
       "      <td>BANGRES18DEL02</td>\n",
       "      <td>34</td>\n",
       "      <td>4.5</td>\n",
       "      <td>12.913041</td>\n",
       "      <td>77.683237</td>\n",
       "      <td>13.043041</td>\n",
       "      <td>77.813237</td>\n",
       "      <td>25-03-2022</td>\n",
       "      <td>19:45:00</td>\n",
       "      <td>19:50:00</td>\n",
       "      <td>conditions Stormy</td>\n",
       "      <td>Jam</td>\n",
       "      <td>2</td>\n",
       "      <td>Snack</td>\n",
       "      <td>scooter</td>\n",
       "      <td>1</td>\n",
       "      <td>No</td>\n",
       "      <td>Metropolitian</td>\n",
       "      <td>(min) 33</td>\n",
       "    </tr>\n",
       "    <tr>\n",
       "      <th>2</th>\n",
       "      <td>0x5d6d</td>\n",
       "      <td>BANGRES19DEL01</td>\n",
       "      <td>23</td>\n",
       "      <td>4.4</td>\n",
       "      <td>12.914264</td>\n",
       "      <td>77.678400</td>\n",
       "      <td>12.924264</td>\n",
       "      <td>77.688400</td>\n",
       "      <td>19-03-2022</td>\n",
       "      <td>08:30:00</td>\n",
       "      <td>08:45:00</td>\n",
       "      <td>conditions Sandstorms</td>\n",
       "      <td>Low</td>\n",
       "      <td>0</td>\n",
       "      <td>Drinks</td>\n",
       "      <td>motorcycle</td>\n",
       "      <td>1</td>\n",
       "      <td>No</td>\n",
       "      <td>Urban</td>\n",
       "      <td>(min) 26</td>\n",
       "    </tr>\n",
       "    <tr>\n",
       "      <th>3</th>\n",
       "      <td>0x7a6a</td>\n",
       "      <td>COIMBRES13DEL02</td>\n",
       "      <td>38</td>\n",
       "      <td>4.7</td>\n",
       "      <td>11.003669</td>\n",
       "      <td>76.976494</td>\n",
       "      <td>11.053669</td>\n",
       "      <td>77.026494</td>\n",
       "      <td>05-04-2022</td>\n",
       "      <td>18:00:00</td>\n",
       "      <td>18:10:00</td>\n",
       "      <td>conditions Sunny</td>\n",
       "      <td>Medium</td>\n",
       "      <td>0</td>\n",
       "      <td>Buffet</td>\n",
       "      <td>motorcycle</td>\n",
       "      <td>1</td>\n",
       "      <td>No</td>\n",
       "      <td>Metropolitian</td>\n",
       "      <td>(min) 21</td>\n",
       "    </tr>\n",
       "    <tr>\n",
       "      <th>4</th>\n",
       "      <td>0x70a2</td>\n",
       "      <td>CHENRES12DEL01</td>\n",
       "      <td>32</td>\n",
       "      <td>4.6</td>\n",
       "      <td>12.972793</td>\n",
       "      <td>80.249982</td>\n",
       "      <td>13.012793</td>\n",
       "      <td>80.289982</td>\n",
       "      <td>26-03-2022</td>\n",
       "      <td>13:30:00</td>\n",
       "      <td>13:45:00</td>\n",
       "      <td>conditions Cloudy</td>\n",
       "      <td>High</td>\n",
       "      <td>1</td>\n",
       "      <td>Snack</td>\n",
       "      <td>scooter</td>\n",
       "      <td>1</td>\n",
       "      <td>No</td>\n",
       "      <td>Metropolitian</td>\n",
       "      <td>(min) 30</td>\n",
       "    </tr>\n",
       "  </tbody>\n",
       "</table>\n",
       "</div>"
      ],
      "text/plain": [
       "        ID Delivery_person_ID Delivery_person_Age Delivery_person_Ratings  \\\n",
       "0  0x4607     INDORES13DEL02                   37                     4.9   \n",
       "1  0xb379     BANGRES18DEL02                   34                     4.5   \n",
       "2  0x5d6d     BANGRES19DEL01                   23                     4.4   \n",
       "3  0x7a6a    COIMBRES13DEL02                   38                     4.7   \n",
       "4  0x70a2     CHENRES12DEL01                   32                     4.6   \n",
       "\n",
       "   Restaurant_latitude  Restaurant_longitude  Delivery_location_latitude  \\\n",
       "0            22.745049             75.892471                   22.765049   \n",
       "1            12.913041             77.683237                   13.043041   \n",
       "2            12.914264             77.678400                   12.924264   \n",
       "3            11.003669             76.976494                   11.053669   \n",
       "4            12.972793             80.249982                   13.012793   \n",
       "\n",
       "   Delivery_location_longitude  Order_Date Time_Orderd Time_Order_picked  \\\n",
       "0                    75.912471  19-03-2022    11:30:00          11:45:00   \n",
       "1                    77.813237  25-03-2022    19:45:00          19:50:00   \n",
       "2                    77.688400  19-03-2022    08:30:00          08:45:00   \n",
       "3                    77.026494  05-04-2022    18:00:00          18:10:00   \n",
       "4                    80.289982  26-03-2022    13:30:00          13:45:00   \n",
       "\n",
       "       Weatherconditions Road_traffic_density  Vehicle_condition  \\\n",
       "0       conditions Sunny                High                   2   \n",
       "1      conditions Stormy                 Jam                   2   \n",
       "2  conditions Sandstorms                 Low                   0   \n",
       "3       conditions Sunny              Medium                   0   \n",
       "4      conditions Cloudy                High                   1   \n",
       "\n",
       "  Type_of_order Type_of_vehicle multiple_deliveries Festival            City  \\\n",
       "0        Snack      motorcycle                    0      No           Urban    \n",
       "1        Snack         scooter                    1      No   Metropolitian    \n",
       "2       Drinks      motorcycle                    1      No           Urban    \n",
       "3       Buffet      motorcycle                    1      No   Metropolitian    \n",
       "4        Snack         scooter                    1      No   Metropolitian    \n",
       "\n",
       "  Time_taken(min)  \n",
       "0        (min) 24  \n",
       "1        (min) 33  \n",
       "2        (min) 26  \n",
       "3        (min) 21  \n",
       "4        (min) 30  "
      ]
     },
     "execution_count": 2,
     "metadata": {},
     "output_type": "execute_result"
    }
   ],
   "source": [
    "df = pd.read_csv(\"/kaggle/input/food-delivery-dataset/train.csv\")\n",
    "df.head()"
   ]
  },
  {
   "cell_type": "code",
   "execution_count": 3,
   "id": "3b79a407",
   "metadata": {
    "execution": {
     "iopub.execute_input": "2024-11-03T04:30:18.738391Z",
     "iopub.status.busy": "2024-11-03T04:30:18.738066Z",
     "iopub.status.idle": "2024-11-03T04:30:18.743986Z",
     "shell.execute_reply": "2024-11-03T04:30:18.743135Z"
    },
    "papermill": {
     "duration": 0.040069,
     "end_time": "2024-11-03T04:30:18.745863",
     "exception": false,
     "start_time": "2024-11-03T04:30:18.705794",
     "status": "completed"
    },
    "tags": []
   },
   "outputs": [
    {
     "data": {
      "text/plain": [
       "(45593, 20)"
      ]
     },
     "execution_count": 3,
     "metadata": {},
     "output_type": "execute_result"
    }
   ],
   "source": [
    "df.shape "
   ]
  },
  {
   "cell_type": "code",
   "execution_count": 4,
   "id": "9d72bdb9",
   "metadata": {
    "execution": {
     "iopub.execute_input": "2024-11-03T04:30:18.809054Z",
     "iopub.status.busy": "2024-11-03T04:30:18.808748Z",
     "iopub.status.idle": "2024-11-03T04:30:18.894226Z",
     "shell.execute_reply": "2024-11-03T04:30:18.893240Z"
    },
    "papermill": {
     "duration": 0.11926,
     "end_time": "2024-11-03T04:30:18.896218",
     "exception": false,
     "start_time": "2024-11-03T04:30:18.776958",
     "status": "completed"
    },
    "tags": []
   },
   "outputs": [
    {
     "name": "stdout",
     "output_type": "stream",
     "text": [
      "<class 'pandas.core.frame.DataFrame'>\n",
      "RangeIndex: 45593 entries, 0 to 45592\n",
      "Data columns (total 20 columns):\n",
      " #   Column                       Non-Null Count  Dtype  \n",
      "---  ------                       --------------  -----  \n",
      " 0   ID                           45593 non-null  object \n",
      " 1   Delivery_person_ID           45593 non-null  object \n",
      " 2   Delivery_person_Age          45593 non-null  object \n",
      " 3   Delivery_person_Ratings      45593 non-null  object \n",
      " 4   Restaurant_latitude          45593 non-null  float64\n",
      " 5   Restaurant_longitude         45593 non-null  float64\n",
      " 6   Delivery_location_latitude   45593 non-null  float64\n",
      " 7   Delivery_location_longitude  45593 non-null  float64\n",
      " 8   Order_Date                   45593 non-null  object \n",
      " 9   Time_Orderd                  45593 non-null  object \n",
      " 10  Time_Order_picked            45593 non-null  object \n",
      " 11  Weatherconditions            45593 non-null  object \n",
      " 12  Road_traffic_density         45593 non-null  object \n",
      " 13  Vehicle_condition            45593 non-null  int64  \n",
      " 14  Type_of_order                45593 non-null  object \n",
      " 15  Type_of_vehicle              45593 non-null  object \n",
      " 16  multiple_deliveries          45593 non-null  object \n",
      " 17  Festival                     45593 non-null  object \n",
      " 18  City                         45593 non-null  object \n",
      " 19  Time_taken(min)              45593 non-null  object \n",
      "dtypes: float64(4), int64(1), object(15)\n",
      "memory usage: 7.0+ MB\n"
     ]
    }
   ],
   "source": [
    "df.info()"
   ]
  },
  {
   "cell_type": "code",
   "execution_count": 5,
   "id": "0e927f88",
   "metadata": {
    "execution": {
     "iopub.execute_input": "2024-11-03T04:30:18.960370Z",
     "iopub.status.busy": "2024-11-03T04:30:18.960093Z",
     "iopub.status.idle": "2024-11-03T04:30:18.992479Z",
     "shell.execute_reply": "2024-11-03T04:30:18.991545Z"
    },
    "papermill": {
     "duration": 0.066899,
     "end_time": "2024-11-03T04:30:18.994558",
     "exception": false,
     "start_time": "2024-11-03T04:30:18.927659",
     "status": "completed"
    },
    "tags": []
   },
   "outputs": [
    {
     "data": {
      "text/html": [
       "<div>\n",
       "<style scoped>\n",
       "    .dataframe tbody tr th:only-of-type {\n",
       "        vertical-align: middle;\n",
       "    }\n",
       "\n",
       "    .dataframe tbody tr th {\n",
       "        vertical-align: top;\n",
       "    }\n",
       "\n",
       "    .dataframe thead th {\n",
       "        text-align: right;\n",
       "    }\n",
       "</style>\n",
       "<table border=\"1\" class=\"dataframe\">\n",
       "  <thead>\n",
       "    <tr style=\"text-align: right;\">\n",
       "      <th></th>\n",
       "      <th>count</th>\n",
       "      <th>mean</th>\n",
       "      <th>std</th>\n",
       "      <th>min</th>\n",
       "      <th>25%</th>\n",
       "      <th>50%</th>\n",
       "      <th>75%</th>\n",
       "      <th>max</th>\n",
       "    </tr>\n",
       "  </thead>\n",
       "  <tbody>\n",
       "    <tr>\n",
       "      <th>Restaurant_latitude</th>\n",
       "      <td>45593.0</td>\n",
       "      <td>17.017729</td>\n",
       "      <td>8.185109</td>\n",
       "      <td>-30.905562</td>\n",
       "      <td>12.933284</td>\n",
       "      <td>18.546947</td>\n",
       "      <td>22.728163</td>\n",
       "      <td>30.914057</td>\n",
       "    </tr>\n",
       "    <tr>\n",
       "      <th>Restaurant_longitude</th>\n",
       "      <td>45593.0</td>\n",
       "      <td>70.231332</td>\n",
       "      <td>22.883647</td>\n",
       "      <td>-88.366217</td>\n",
       "      <td>73.170000</td>\n",
       "      <td>75.898497</td>\n",
       "      <td>78.044095</td>\n",
       "      <td>88.433452</td>\n",
       "    </tr>\n",
       "    <tr>\n",
       "      <th>Delivery_location_latitude</th>\n",
       "      <td>45593.0</td>\n",
       "      <td>17.465186</td>\n",
       "      <td>7.335122</td>\n",
       "      <td>0.010000</td>\n",
       "      <td>12.988453</td>\n",
       "      <td>18.633934</td>\n",
       "      <td>22.785049</td>\n",
       "      <td>31.054057</td>\n",
       "    </tr>\n",
       "    <tr>\n",
       "      <th>Delivery_location_longitude</th>\n",
       "      <td>45593.0</td>\n",
       "      <td>70.845702</td>\n",
       "      <td>21.118812</td>\n",
       "      <td>0.010000</td>\n",
       "      <td>73.280000</td>\n",
       "      <td>76.002574</td>\n",
       "      <td>78.107044</td>\n",
       "      <td>88.563452</td>\n",
       "    </tr>\n",
       "    <tr>\n",
       "      <th>Vehicle_condition</th>\n",
       "      <td>45593.0</td>\n",
       "      <td>1.023359</td>\n",
       "      <td>0.839065</td>\n",
       "      <td>0.000000</td>\n",
       "      <td>0.000000</td>\n",
       "      <td>1.000000</td>\n",
       "      <td>2.000000</td>\n",
       "      <td>3.000000</td>\n",
       "    </tr>\n",
       "  </tbody>\n",
       "</table>\n",
       "</div>"
      ],
      "text/plain": [
       "                               count       mean        std        min  \\\n",
       "Restaurant_latitude          45593.0  17.017729   8.185109 -30.905562   \n",
       "Restaurant_longitude         45593.0  70.231332  22.883647 -88.366217   \n",
       "Delivery_location_latitude   45593.0  17.465186   7.335122   0.010000   \n",
       "Delivery_location_longitude  45593.0  70.845702  21.118812   0.010000   \n",
       "Vehicle_condition            45593.0   1.023359   0.839065   0.000000   \n",
       "\n",
       "                                   25%        50%        75%        max  \n",
       "Restaurant_latitude          12.933284  18.546947  22.728163  30.914057  \n",
       "Restaurant_longitude         73.170000  75.898497  78.044095  88.433452  \n",
       "Delivery_location_latitude   12.988453  18.633934  22.785049  31.054057  \n",
       "Delivery_location_longitude  73.280000  76.002574  78.107044  88.563452  \n",
       "Vehicle_condition             0.000000   1.000000   2.000000   3.000000  "
      ]
     },
     "execution_count": 5,
     "metadata": {},
     "output_type": "execute_result"
    }
   ],
   "source": [
    "df.describe().T"
   ]
  },
  {
   "cell_type": "code",
   "execution_count": 6,
   "id": "45f396fc",
   "metadata": {
    "execution": {
     "iopub.execute_input": "2024-11-03T04:30:19.059579Z",
     "iopub.status.busy": "2024-11-03T04:30:19.059269Z",
     "iopub.status.idle": "2024-11-03T04:30:19.264119Z",
     "shell.execute_reply": "2024-11-03T04:30:19.263167Z"
    },
    "papermill": {
     "duration": 0.239412,
     "end_time": "2024-11-03T04:30:19.266117",
     "exception": false,
     "start_time": "2024-11-03T04:30:19.026705",
     "status": "completed"
    },
    "tags": []
   },
   "outputs": [
    {
     "data": {
      "text/html": [
       "<div>\n",
       "<style scoped>\n",
       "    .dataframe tbody tr th:only-of-type {\n",
       "        vertical-align: middle;\n",
       "    }\n",
       "\n",
       "    .dataframe tbody tr th {\n",
       "        vertical-align: top;\n",
       "    }\n",
       "\n",
       "    .dataframe thead th {\n",
       "        text-align: right;\n",
       "    }\n",
       "</style>\n",
       "<table border=\"1\" class=\"dataframe\">\n",
       "  <thead>\n",
       "    <tr style=\"text-align: right;\">\n",
       "      <th></th>\n",
       "      <th>ID</th>\n",
       "      <th>Delivery_person_ID</th>\n",
       "      <th>Delivery_person_Age</th>\n",
       "      <th>Delivery_person_Ratings</th>\n",
       "      <th>Order_Date</th>\n",
       "      <th>Time_Orderd</th>\n",
       "      <th>Time_Order_picked</th>\n",
       "      <th>Weatherconditions</th>\n",
       "      <th>Road_traffic_density</th>\n",
       "      <th>Type_of_order</th>\n",
       "      <th>Type_of_vehicle</th>\n",
       "      <th>multiple_deliveries</th>\n",
       "      <th>Festival</th>\n",
       "      <th>City</th>\n",
       "      <th>Time_taken(min)</th>\n",
       "    </tr>\n",
       "  </thead>\n",
       "  <tbody>\n",
       "    <tr>\n",
       "      <th>count</th>\n",
       "      <td>45593</td>\n",
       "      <td>45593</td>\n",
       "      <td>45593</td>\n",
       "      <td>45593</td>\n",
       "      <td>45593</td>\n",
       "      <td>45593</td>\n",
       "      <td>45593</td>\n",
       "      <td>45593</td>\n",
       "      <td>45593</td>\n",
       "      <td>45593</td>\n",
       "      <td>45593</td>\n",
       "      <td>45593</td>\n",
       "      <td>45593</td>\n",
       "      <td>45593</td>\n",
       "      <td>45593</td>\n",
       "    </tr>\n",
       "    <tr>\n",
       "      <th>unique</th>\n",
       "      <td>45593</td>\n",
       "      <td>1320</td>\n",
       "      <td>23</td>\n",
       "      <td>29</td>\n",
       "      <td>44</td>\n",
       "      <td>177</td>\n",
       "      <td>193</td>\n",
       "      <td>7</td>\n",
       "      <td>5</td>\n",
       "      <td>4</td>\n",
       "      <td>4</td>\n",
       "      <td>5</td>\n",
       "      <td>3</td>\n",
       "      <td>4</td>\n",
       "      <td>45</td>\n",
       "    </tr>\n",
       "    <tr>\n",
       "      <th>top</th>\n",
       "      <td>0x5fb2</td>\n",
       "      <td>PUNERES01DEL01</td>\n",
       "      <td>35</td>\n",
       "      <td>4.8</td>\n",
       "      <td>15-03-2022</td>\n",
       "      <td>NaN</td>\n",
       "      <td>21:30:00</td>\n",
       "      <td>conditions Fog</td>\n",
       "      <td>Low</td>\n",
       "      <td>Snack</td>\n",
       "      <td>motorcycle</td>\n",
       "      <td>1</td>\n",
       "      <td>No</td>\n",
       "      <td>Metropolitian</td>\n",
       "      <td>(min) 26</td>\n",
       "    </tr>\n",
       "    <tr>\n",
       "      <th>freq</th>\n",
       "      <td>1</td>\n",
       "      <td>67</td>\n",
       "      <td>2262</td>\n",
       "      <td>7148</td>\n",
       "      <td>1192</td>\n",
       "      <td>1731</td>\n",
       "      <td>496</td>\n",
       "      <td>7654</td>\n",
       "      <td>15477</td>\n",
       "      <td>11533</td>\n",
       "      <td>26435</td>\n",
       "      <td>28159</td>\n",
       "      <td>44469</td>\n",
       "      <td>34093</td>\n",
       "      <td>2123</td>\n",
       "    </tr>\n",
       "  </tbody>\n",
       "</table>\n",
       "</div>"
      ],
      "text/plain": [
       "             ID Delivery_person_ID Delivery_person_Age  \\\n",
       "count     45593              45593               45593   \n",
       "unique    45593               1320                  23   \n",
       "top     0x5fb2     PUNERES01DEL01                   35   \n",
       "freq          1                 67                2262   \n",
       "\n",
       "       Delivery_person_Ratings  Order_Date Time_Orderd Time_Order_picked  \\\n",
       "count                    45593       45593       45593             45593   \n",
       "unique                      29          44         177               193   \n",
       "top                        4.8  15-03-2022        NaN           21:30:00   \n",
       "freq                      7148        1192        1731               496   \n",
       "\n",
       "       Weatherconditions Road_traffic_density Type_of_order Type_of_vehicle  \\\n",
       "count              45593                45593         45593           45593   \n",
       "unique                 7                    5             4               4   \n",
       "top       conditions Fog                 Low         Snack      motorcycle    \n",
       "freq                7654                15477         11533           26435   \n",
       "\n",
       "       multiple_deliveries Festival            City Time_taken(min)  \n",
       "count                45593    45593           45593           45593  \n",
       "unique                   5        3               4              45  \n",
       "top                      1      No   Metropolitian         (min) 26  \n",
       "freq                 28159    44469           34093            2123  "
      ]
     },
     "execution_count": 6,
     "metadata": {},
     "output_type": "execute_result"
    }
   ],
   "source": [
    "df.describe(include=\"object\")"
   ]
  },
  {
   "cell_type": "markdown",
   "id": "fd7d1b70",
   "metadata": {
    "papermill": {
     "duration": 0.032038,
     "end_time": "2024-11-03T04:30:19.331393",
     "exception": false,
     "start_time": "2024-11-03T04:30:19.299355",
     "status": "completed"
    },
    "tags": []
   },
   "source": [
    "## 2. Data Preprocessing and Visualization "
   ]
  },
  {
   "cell_type": "code",
   "execution_count": 7,
   "id": "c0cebeca",
   "metadata": {
    "execution": {
     "iopub.execute_input": "2024-11-03T04:30:19.396885Z",
     "iopub.status.busy": "2024-11-03T04:30:19.396512Z",
     "iopub.status.idle": "2024-11-03T04:30:19.415384Z",
     "shell.execute_reply": "2024-11-03T04:30:19.414440Z"
    },
    "papermill": {
     "duration": 0.053641,
     "end_time": "2024-11-03T04:30:19.417207",
     "exception": false,
     "start_time": "2024-11-03T04:30:19.363566",
     "status": "completed"
    },
    "tags": []
   },
   "outputs": [
    {
     "data": {
      "text/html": [
       "<div>\n",
       "<style scoped>\n",
       "    .dataframe tbody tr th:only-of-type {\n",
       "        vertical-align: middle;\n",
       "    }\n",
       "\n",
       "    .dataframe tbody tr th {\n",
       "        vertical-align: top;\n",
       "    }\n",
       "\n",
       "    .dataframe thead th {\n",
       "        text-align: right;\n",
       "    }\n",
       "</style>\n",
       "<table border=\"1\" class=\"dataframe\">\n",
       "  <thead>\n",
       "    <tr style=\"text-align: right;\">\n",
       "      <th></th>\n",
       "      <th>ID</th>\n",
       "      <th>Delivery_person_ID</th>\n",
       "      <th>Delivery_person_Age</th>\n",
       "      <th>Delivery_person_Ratings</th>\n",
       "      <th>Restaurant_latitude</th>\n",
       "      <th>Restaurant_longitude</th>\n",
       "      <th>Delivery_location_latitude</th>\n",
       "      <th>Delivery_location_longitude</th>\n",
       "      <th>Order_Date</th>\n",
       "      <th>Time_Orderd</th>\n",
       "      <th>Time_Order_picked</th>\n",
       "      <th>Weatherconditions</th>\n",
       "      <th>Road_traffic_density</th>\n",
       "      <th>Vehicle_condition</th>\n",
       "      <th>Type_of_order</th>\n",
       "      <th>Type_of_vehicle</th>\n",
       "      <th>multiple_deliveries</th>\n",
       "      <th>Festival</th>\n",
       "      <th>City</th>\n",
       "      <th>Time_taken(min)</th>\n",
       "    </tr>\n",
       "  </thead>\n",
       "  <tbody>\n",
       "    <tr>\n",
       "      <th>0</th>\n",
       "      <td>0x4607</td>\n",
       "      <td>INDORES13DEL02</td>\n",
       "      <td>37</td>\n",
       "      <td>4.9</td>\n",
       "      <td>22.745049</td>\n",
       "      <td>75.892471</td>\n",
       "      <td>22.765049</td>\n",
       "      <td>75.912471</td>\n",
       "      <td>19-03-2022</td>\n",
       "      <td>11:30:00</td>\n",
       "      <td>11:45:00</td>\n",
       "      <td>conditions Sunny</td>\n",
       "      <td>High</td>\n",
       "      <td>2</td>\n",
       "      <td>Snack</td>\n",
       "      <td>motorcycle</td>\n",
       "      <td>0</td>\n",
       "      <td>No</td>\n",
       "      <td>Urban</td>\n",
       "      <td>(min) 24</td>\n",
       "    </tr>\n",
       "    <tr>\n",
       "      <th>1</th>\n",
       "      <td>0xb379</td>\n",
       "      <td>BANGRES18DEL02</td>\n",
       "      <td>34</td>\n",
       "      <td>4.5</td>\n",
       "      <td>12.913041</td>\n",
       "      <td>77.683237</td>\n",
       "      <td>13.043041</td>\n",
       "      <td>77.813237</td>\n",
       "      <td>25-03-2022</td>\n",
       "      <td>19:45:00</td>\n",
       "      <td>19:50:00</td>\n",
       "      <td>conditions Stormy</td>\n",
       "      <td>Jam</td>\n",
       "      <td>2</td>\n",
       "      <td>Snack</td>\n",
       "      <td>scooter</td>\n",
       "      <td>1</td>\n",
       "      <td>No</td>\n",
       "      <td>Metropolitian</td>\n",
       "      <td>(min) 33</td>\n",
       "    </tr>\n",
       "    <tr>\n",
       "      <th>2</th>\n",
       "      <td>0x5d6d</td>\n",
       "      <td>BANGRES19DEL01</td>\n",
       "      <td>23</td>\n",
       "      <td>4.4</td>\n",
       "      <td>12.914264</td>\n",
       "      <td>77.678400</td>\n",
       "      <td>12.924264</td>\n",
       "      <td>77.688400</td>\n",
       "      <td>19-03-2022</td>\n",
       "      <td>08:30:00</td>\n",
       "      <td>08:45:00</td>\n",
       "      <td>conditions Sandstorms</td>\n",
       "      <td>Low</td>\n",
       "      <td>0</td>\n",
       "      <td>Drinks</td>\n",
       "      <td>motorcycle</td>\n",
       "      <td>1</td>\n",
       "      <td>No</td>\n",
       "      <td>Urban</td>\n",
       "      <td>(min) 26</td>\n",
       "    </tr>\n",
       "    <tr>\n",
       "      <th>3</th>\n",
       "      <td>0x7a6a</td>\n",
       "      <td>COIMBRES13DEL02</td>\n",
       "      <td>38</td>\n",
       "      <td>4.7</td>\n",
       "      <td>11.003669</td>\n",
       "      <td>76.976494</td>\n",
       "      <td>11.053669</td>\n",
       "      <td>77.026494</td>\n",
       "      <td>05-04-2022</td>\n",
       "      <td>18:00:00</td>\n",
       "      <td>18:10:00</td>\n",
       "      <td>conditions Sunny</td>\n",
       "      <td>Medium</td>\n",
       "      <td>0</td>\n",
       "      <td>Buffet</td>\n",
       "      <td>motorcycle</td>\n",
       "      <td>1</td>\n",
       "      <td>No</td>\n",
       "      <td>Metropolitian</td>\n",
       "      <td>(min) 21</td>\n",
       "    </tr>\n",
       "    <tr>\n",
       "      <th>4</th>\n",
       "      <td>0x70a2</td>\n",
       "      <td>CHENRES12DEL01</td>\n",
       "      <td>32</td>\n",
       "      <td>4.6</td>\n",
       "      <td>12.972793</td>\n",
       "      <td>80.249982</td>\n",
       "      <td>13.012793</td>\n",
       "      <td>80.289982</td>\n",
       "      <td>26-03-2022</td>\n",
       "      <td>13:30:00</td>\n",
       "      <td>13:45:00</td>\n",
       "      <td>conditions Cloudy</td>\n",
       "      <td>High</td>\n",
       "      <td>1</td>\n",
       "      <td>Snack</td>\n",
       "      <td>scooter</td>\n",
       "      <td>1</td>\n",
       "      <td>No</td>\n",
       "      <td>Metropolitian</td>\n",
       "      <td>(min) 30</td>\n",
       "    </tr>\n",
       "  </tbody>\n",
       "</table>\n",
       "</div>"
      ],
      "text/plain": [
       "        ID Delivery_person_ID Delivery_person_Age Delivery_person_Ratings  \\\n",
       "0  0x4607     INDORES13DEL02                   37                     4.9   \n",
       "1  0xb379     BANGRES18DEL02                   34                     4.5   \n",
       "2  0x5d6d     BANGRES19DEL01                   23                     4.4   \n",
       "3  0x7a6a    COIMBRES13DEL02                   38                     4.7   \n",
       "4  0x70a2     CHENRES12DEL01                   32                     4.6   \n",
       "\n",
       "   Restaurant_latitude  Restaurant_longitude  Delivery_location_latitude  \\\n",
       "0            22.745049             75.892471                   22.765049   \n",
       "1            12.913041             77.683237                   13.043041   \n",
       "2            12.914264             77.678400                   12.924264   \n",
       "3            11.003669             76.976494                   11.053669   \n",
       "4            12.972793             80.249982                   13.012793   \n",
       "\n",
       "   Delivery_location_longitude  Order_Date Time_Orderd Time_Order_picked  \\\n",
       "0                    75.912471  19-03-2022    11:30:00          11:45:00   \n",
       "1                    77.813237  25-03-2022    19:45:00          19:50:00   \n",
       "2                    77.688400  19-03-2022    08:30:00          08:45:00   \n",
       "3                    77.026494  05-04-2022    18:00:00          18:10:00   \n",
       "4                    80.289982  26-03-2022    13:30:00          13:45:00   \n",
       "\n",
       "       Weatherconditions Road_traffic_density  Vehicle_condition  \\\n",
       "0       conditions Sunny                High                   2   \n",
       "1      conditions Stormy                 Jam                   2   \n",
       "2  conditions Sandstorms                 Low                   0   \n",
       "3       conditions Sunny              Medium                   0   \n",
       "4      conditions Cloudy                High                   1   \n",
       "\n",
       "  Type_of_order Type_of_vehicle multiple_deliveries Festival            City  \\\n",
       "0        Snack      motorcycle                    0      No           Urban    \n",
       "1        Snack         scooter                    1      No   Metropolitian    \n",
       "2       Drinks      motorcycle                    1      No           Urban    \n",
       "3       Buffet      motorcycle                    1      No   Metropolitian    \n",
       "4        Snack         scooter                    1      No   Metropolitian    \n",
       "\n",
       "  Time_taken(min)  \n",
       "0        (min) 24  \n",
       "1        (min) 33  \n",
       "2        (min) 26  \n",
       "3        (min) 21  \n",
       "4        (min) 30  "
      ]
     },
     "execution_count": 7,
     "metadata": {},
     "output_type": "execute_result"
    }
   ],
   "source": [
    "df.head()"
   ]
  },
  {
   "cell_type": "code",
   "execution_count": 8,
   "id": "73fa94f5",
   "metadata": {
    "execution": {
     "iopub.execute_input": "2024-11-03T04:30:19.482551Z",
     "iopub.status.busy": "2024-11-03T04:30:19.482232Z",
     "iopub.status.idle": "2024-11-03T04:30:19.486774Z",
     "shell.execute_reply": "2024-11-03T04:30:19.485916Z"
    },
    "papermill": {
     "duration": 0.039548,
     "end_time": "2024-11-03T04:30:19.488687",
     "exception": false,
     "start_time": "2024-11-03T04:30:19.449139",
     "status": "completed"
    },
    "tags": []
   },
   "outputs": [],
   "source": [
    "# Rename the column names \n",
    "\n",
    "df.rename(columns = {\"City\":\"City_area\",\"Weatherconditions\":\"Weather_conditions\",\"Time_taken(min)\":\"Time_taken\"},inplace=True)"
   ]
  },
  {
   "cell_type": "markdown",
   "id": "b5a2bcb8",
   "metadata": {
    "papermill": {
     "duration": 0.032395,
     "end_time": "2024-11-03T04:30:19.554293",
     "exception": false,
     "start_time": "2024-11-03T04:30:19.521898",
     "status": "completed"
    },
    "tags": []
   },
   "source": [
    "* Extracting city from delivery person id col\n",
    "\n",
    "* Extracting time from time taken col and coverting to int"
   ]
  },
  {
   "cell_type": "code",
   "execution_count": 9,
   "id": "07ab0313",
   "metadata": {
    "execution": {
     "iopub.execute_input": "2024-11-03T04:30:19.620075Z",
     "iopub.status.busy": "2024-11-03T04:30:19.619768Z",
     "iopub.status.idle": "2024-11-03T04:30:19.865085Z",
     "shell.execute_reply": "2024-11-03T04:30:19.864086Z"
    },
    "papermill": {
     "duration": 0.281073,
     "end_time": "2024-11-03T04:30:19.867397",
     "exception": false,
     "start_time": "2024-11-03T04:30:19.586324",
     "status": "completed"
    },
    "tags": []
   },
   "outputs": [],
   "source": [
    "df[\"City\"] = df[\"Delivery_person_ID\"].str.split(\"RES\").str[0]\n",
    "df[\"Time_taken\"] = df[\"Time_taken\"].str.split(\" \").str[-1].astype(\"int\")"
   ]
  },
  {
   "cell_type": "code",
   "execution_count": 10,
   "id": "d4ca23bf",
   "metadata": {
    "execution": {
     "iopub.execute_input": "2024-11-03T04:30:19.933678Z",
     "iopub.status.busy": "2024-11-03T04:30:19.933351Z",
     "iopub.status.idle": "2024-11-03T04:30:19.945973Z",
     "shell.execute_reply": "2024-11-03T04:30:19.945271Z"
    },
    "papermill": {
     "duration": 0.047684,
     "end_time": "2024-11-03T04:30:19.947883",
     "exception": false,
     "start_time": "2024-11-03T04:30:19.900199",
     "status": "completed"
    },
    "tags": []
   },
   "outputs": [],
   "source": [
    "# drop unuseful columns \n",
    "\n",
    "df.drop(columns = [\"ID\",\"Delivery_person_ID\"],axis=1,inplace=True)"
   ]
  },
  {
   "cell_type": "code",
   "execution_count": 11,
   "id": "c3f67b2b",
   "metadata": {
    "execution": {
     "iopub.execute_input": "2024-11-03T04:30:20.014445Z",
     "iopub.status.busy": "2024-11-03T04:30:20.014159Z",
     "iopub.status.idle": "2024-11-03T04:30:20.085117Z",
     "shell.execute_reply": "2024-11-03T04:30:20.084245Z"
    },
    "papermill": {
     "duration": 0.106649,
     "end_time": "2024-11-03T04:30:20.087044",
     "exception": false,
     "start_time": "2024-11-03T04:30:19.980395",
     "status": "completed"
    },
    "scrolled": true,
    "tags": []
   },
   "outputs": [
    {
     "data": {
      "text/html": [
       "<div>\n",
       "<style scoped>\n",
       "    .dataframe tbody tr th:only-of-type {\n",
       "        vertical-align: middle;\n",
       "    }\n",
       "\n",
       "    .dataframe tbody tr th {\n",
       "        vertical-align: top;\n",
       "    }\n",
       "\n",
       "    .dataframe thead th {\n",
       "        text-align: right;\n",
       "    }\n",
       "</style>\n",
       "<table border=\"1\" class=\"dataframe\">\n",
       "  <thead>\n",
       "    <tr style=\"text-align: right;\">\n",
       "      <th></th>\n",
       "      <th>Delivery_person_Age</th>\n",
       "      <th>Delivery_person_Ratings</th>\n",
       "      <th>Restaurant_latitude</th>\n",
       "      <th>Restaurant_longitude</th>\n",
       "      <th>Delivery_location_latitude</th>\n",
       "      <th>Delivery_location_longitude</th>\n",
       "      <th>Order_Date</th>\n",
       "      <th>Time_Orderd</th>\n",
       "      <th>Time_Order_picked</th>\n",
       "      <th>Weather_conditions</th>\n",
       "      <th>Road_traffic_density</th>\n",
       "      <th>Vehicle_condition</th>\n",
       "      <th>Type_of_order</th>\n",
       "      <th>Type_of_vehicle</th>\n",
       "      <th>multiple_deliveries</th>\n",
       "      <th>Festival</th>\n",
       "      <th>City_area</th>\n",
       "      <th>Time_taken</th>\n",
       "      <th>City</th>\n",
       "    </tr>\n",
       "  </thead>\n",
       "  <tbody>\n",
       "  </tbody>\n",
       "</table>\n",
       "</div>"
      ],
      "text/plain": [
       "Empty DataFrame\n",
       "Columns: [Delivery_person_Age, Delivery_person_Ratings, Restaurant_latitude, Restaurant_longitude, Delivery_location_latitude, Delivery_location_longitude, Order_Date, Time_Orderd, Time_Order_picked, Weather_conditions, Road_traffic_density, Vehicle_condition, Type_of_order, Type_of_vehicle, multiple_deliveries, Festival, City_area, Time_taken, City]\n",
       "Index: []"
      ]
     },
     "execution_count": 11,
     "metadata": {},
     "output_type": "execute_result"
    }
   ],
   "source": [
    "# checking duplicates \n",
    "\n",
    "df[df.duplicated()]"
   ]
  },
  {
   "cell_type": "code",
   "execution_count": 12,
   "id": "3df57330",
   "metadata": {
    "execution": {
     "iopub.execute_input": "2024-11-03T04:30:20.154755Z",
     "iopub.status.busy": "2024-11-03T04:30:20.154337Z",
     "iopub.status.idle": "2024-11-03T04:30:20.216856Z",
     "shell.execute_reply": "2024-11-03T04:30:20.215926Z"
    },
    "papermill": {
     "duration": 0.099058,
     "end_time": "2024-11-03T04:30:20.219024",
     "exception": false,
     "start_time": "2024-11-03T04:30:20.119966",
     "status": "completed"
    },
    "tags": []
   },
   "outputs": [
    {
     "data": {
      "text/plain": [
       "Delivery_person_Age            0\n",
       "Delivery_person_Ratings        0\n",
       "Restaurant_latitude            0\n",
       "Restaurant_longitude           0\n",
       "Delivery_location_latitude     0\n",
       "Delivery_location_longitude    0\n",
       "Order_Date                     0\n",
       "Time_Orderd                    0\n",
       "Time_Order_picked              0\n",
       "Weather_conditions             0\n",
       "Road_traffic_density           0\n",
       "Vehicle_condition              0\n",
       "Type_of_order                  0\n",
       "Type_of_vehicle                0\n",
       "multiple_deliveries            0\n",
       "Festival                       0\n",
       "City_area                      0\n",
       "Time_taken                     0\n",
       "City                           0\n",
       "dtype: int64"
      ]
     },
     "execution_count": 12,
     "metadata": {},
     "output_type": "execute_result"
    }
   ],
   "source": [
    "# checking null values \n",
    "\n",
    "df.isnull().sum()"
   ]
  },
  {
   "cell_type": "code",
   "execution_count": 13,
   "id": "9f14deff",
   "metadata": {
    "execution": {
     "iopub.execute_input": "2024-11-03T04:30:20.285788Z",
     "iopub.status.busy": "2024-11-03T04:30:20.285463Z",
     "iopub.status.idle": "2024-11-03T04:30:20.296792Z",
     "shell.execute_reply": "2024-11-03T04:30:20.295894Z"
    },
    "papermill": {
     "duration": 0.046863,
     "end_time": "2024-11-03T04:30:20.298889",
     "exception": false,
     "start_time": "2024-11-03T04:30:20.252026",
     "status": "completed"
    },
    "tags": []
   },
   "outputs": [
    {
     "name": "stdout",
     "output_type": "stream",
     "text": [
      "NaN  nan_length : 4\n"
     ]
    }
   ],
   "source": [
    "# we have seen already nan in describe method \n",
    "\n",
    "nan_length = df[\"Time_Orderd\"].value_counts().index[0]\n",
    "print(f\"{nan_length} nan_length : {len(nan_length)}\")"
   ]
  },
  {
   "cell_type": "code",
   "execution_count": 14,
   "id": "eebde563",
   "metadata": {
    "execution": {
     "iopub.execute_input": "2024-11-03T04:30:20.366582Z",
     "iopub.status.busy": "2024-11-03T04:30:20.366229Z",
     "iopub.status.idle": "2024-11-03T04:30:20.904839Z",
     "shell.execute_reply": "2024-11-03T04:30:20.903872Z"
    },
    "papermill": {
     "duration": 0.574577,
     "end_time": "2024-11-03T04:30:20.907152",
     "exception": false,
     "start_time": "2024-11-03T04:30:20.332575",
     "status": "completed"
    },
    "scrolled": true,
    "tags": []
   },
   "outputs": [
    {
     "name": "stdout",
     "output_type": "stream",
     "text": [
      "Delivery_person_Age null count : 1854\n",
      "Delivery_person_Ratings null count : 1908\n",
      "Order_Date null count : 0\n",
      "Time_Orderd null count : 1731\n",
      "Time_Order_picked null count : 0\n",
      "Weather_conditions null count : 616\n",
      "Road_traffic_density null count : 601\n",
      "Type_of_order null count : 0\n",
      "Type_of_vehicle null count : 0\n",
      "multiple_deliveries null count : 993\n",
      "Festival null count : 228\n",
      "City_area null count : 1200\n",
      "City null count : 0\n"
     ]
    }
   ],
   "source": [
    "# checking string value of nan in every column may be there are chances that they have written in other form like 'nan'\n",
    "\n",
    "df1 = df.select_dtypes(include = \"object\")\n",
    "\n",
    "for col in df1.columns:\n",
    "    nan_count = (df1[col].apply(lambda x:x.strip().lower().find(\"nan\"))>=0).sum()\n",
    "    print(f\"{col} null count : {nan_count}\")"
   ]
  },
  {
   "cell_type": "code",
   "execution_count": 15,
   "id": "077ae4b9",
   "metadata": {
    "execution": {
     "iopub.execute_input": "2024-11-03T04:30:20.976037Z",
     "iopub.status.busy": "2024-11-03T04:30:20.975364Z",
     "iopub.status.idle": "2024-11-03T04:30:21.620299Z",
     "shell.execute_reply": "2024-11-03T04:30:21.619275Z"
    },
    "papermill": {
     "duration": 0.681923,
     "end_time": "2024-11-03T04:30:21.622789",
     "exception": false,
     "start_time": "2024-11-03T04:30:20.940866",
     "status": "completed"
    },
    "tags": []
   },
   "outputs": [],
   "source": [
    "# replacing string nan with float nan \n",
    "\n",
    "for col in df1.columns:\n",
    "    df1[col] = df1[col].apply(lambda x:x.strip().lower())\n",
    "    df1[col].replace(\"nan\",np.nan,regex = True,inplace=True)"
   ]
  },
  {
   "cell_type": "code",
   "execution_count": 16,
   "id": "4c88d205",
   "metadata": {
    "execution": {
     "iopub.execute_input": "2024-11-03T04:30:21.728894Z",
     "iopub.status.busy": "2024-11-03T04:30:21.728473Z",
     "iopub.status.idle": "2024-11-03T04:30:21.793787Z",
     "shell.execute_reply": "2024-11-03T04:30:21.792850Z"
    },
    "papermill": {
     "duration": 0.101962,
     "end_time": "2024-11-03T04:30:21.795825",
     "exception": false,
     "start_time": "2024-11-03T04:30:21.693863",
     "status": "completed"
    },
    "tags": []
   },
   "outputs": [
    {
     "data": {
      "text/plain": [
       "Delivery_person_Ratings    1908\n",
       "Delivery_person_Age        1854\n",
       "Time_Orderd                1731\n",
       "City_area                  1200\n",
       "multiple_deliveries         993\n",
       "Weather_conditions          616\n",
       "Road_traffic_density        601\n",
       "Festival                    228\n",
       "Order_Date                    0\n",
       "Time_Order_picked             0\n",
       "Type_of_order                 0\n",
       "Type_of_vehicle               0\n",
       "City                          0\n",
       "dtype: int64"
      ]
     },
     "execution_count": 16,
     "metadata": {},
     "output_type": "execute_result"
    }
   ],
   "source": [
    "# again checking nulls \n",
    "\n",
    "df1.isnull().sum().sort_values(ascending=False)"
   ]
  },
  {
   "cell_type": "code",
   "execution_count": 17,
   "id": "e14c5b3a",
   "metadata": {
    "execution": {
     "iopub.execute_input": "2024-11-03T04:30:21.865013Z",
     "iopub.status.busy": "2024-11-03T04:30:21.864687Z",
     "iopub.status.idle": "2024-11-03T04:30:21.913419Z",
     "shell.execute_reply": "2024-11-03T04:30:21.912505Z"
    },
    "papermill": {
     "duration": 0.085249,
     "end_time": "2024-11-03T04:30:21.915745",
     "exception": false,
     "start_time": "2024-11-03T04:30:21.830496",
     "status": "completed"
    },
    "scrolled": true,
    "tags": []
   },
   "outputs": [
    {
     "data": {
      "text/html": [
       "<div>\n",
       "<style scoped>\n",
       "    .dataframe tbody tr th:only-of-type {\n",
       "        vertical-align: middle;\n",
       "    }\n",
       "\n",
       "    .dataframe tbody tr th {\n",
       "        vertical-align: top;\n",
       "    }\n",
       "\n",
       "    .dataframe thead th {\n",
       "        text-align: right;\n",
       "    }\n",
       "</style>\n",
       "<table border=\"1\" class=\"dataframe\">\n",
       "  <thead>\n",
       "    <tr style=\"text-align: right;\">\n",
       "      <th></th>\n",
       "      <th>Delivery_person_Age</th>\n",
       "      <th>Delivery_person_Ratings</th>\n",
       "      <th>Order_Date</th>\n",
       "      <th>Time_Orderd</th>\n",
       "      <th>Time_Order_picked</th>\n",
       "      <th>Weather_conditions</th>\n",
       "      <th>Road_traffic_density</th>\n",
       "      <th>Type_of_order</th>\n",
       "      <th>Type_of_vehicle</th>\n",
       "      <th>multiple_deliveries</th>\n",
       "      <th>Festival</th>\n",
       "      <th>City_area</th>\n",
       "      <th>City</th>\n",
       "      <th>Restaurant_latitude</th>\n",
       "      <th>Restaurant_longitude</th>\n",
       "      <th>Delivery_location_latitude</th>\n",
       "      <th>Delivery_location_longitude</th>\n",
       "      <th>Vehicle_condition</th>\n",
       "      <th>Time_taken</th>\n",
       "    </tr>\n",
       "  </thead>\n",
       "  <tbody>\n",
       "    <tr>\n",
       "      <th>0</th>\n",
       "      <td>37</td>\n",
       "      <td>4.9</td>\n",
       "      <td>19-03-2022</td>\n",
       "      <td>11:30:00</td>\n",
       "      <td>11:45:00</td>\n",
       "      <td>conditions sunny</td>\n",
       "      <td>high</td>\n",
       "      <td>snack</td>\n",
       "      <td>motorcycle</td>\n",
       "      <td>0</td>\n",
       "      <td>no</td>\n",
       "      <td>urban</td>\n",
       "      <td>indo</td>\n",
       "      <td>22.745049</td>\n",
       "      <td>75.892471</td>\n",
       "      <td>22.765049</td>\n",
       "      <td>75.912471</td>\n",
       "      <td>2</td>\n",
       "      <td>24</td>\n",
       "    </tr>\n",
       "    <tr>\n",
       "      <th>1</th>\n",
       "      <td>34</td>\n",
       "      <td>4.5</td>\n",
       "      <td>25-03-2022</td>\n",
       "      <td>19:45:00</td>\n",
       "      <td>19:50:00</td>\n",
       "      <td>conditions stormy</td>\n",
       "      <td>jam</td>\n",
       "      <td>snack</td>\n",
       "      <td>scooter</td>\n",
       "      <td>1</td>\n",
       "      <td>no</td>\n",
       "      <td>metropolitian</td>\n",
       "      <td>bang</td>\n",
       "      <td>12.913041</td>\n",
       "      <td>77.683237</td>\n",
       "      <td>13.043041</td>\n",
       "      <td>77.813237</td>\n",
       "      <td>2</td>\n",
       "      <td>33</td>\n",
       "    </tr>\n",
       "    <tr>\n",
       "      <th>2</th>\n",
       "      <td>23</td>\n",
       "      <td>4.4</td>\n",
       "      <td>19-03-2022</td>\n",
       "      <td>08:30:00</td>\n",
       "      <td>08:45:00</td>\n",
       "      <td>conditions sandstorms</td>\n",
       "      <td>low</td>\n",
       "      <td>drinks</td>\n",
       "      <td>motorcycle</td>\n",
       "      <td>1</td>\n",
       "      <td>no</td>\n",
       "      <td>urban</td>\n",
       "      <td>bang</td>\n",
       "      <td>12.914264</td>\n",
       "      <td>77.678400</td>\n",
       "      <td>12.924264</td>\n",
       "      <td>77.688400</td>\n",
       "      <td>0</td>\n",
       "      <td>26</td>\n",
       "    </tr>\n",
       "    <tr>\n",
       "      <th>3</th>\n",
       "      <td>38</td>\n",
       "      <td>4.7</td>\n",
       "      <td>05-04-2022</td>\n",
       "      <td>18:00:00</td>\n",
       "      <td>18:10:00</td>\n",
       "      <td>conditions sunny</td>\n",
       "      <td>medium</td>\n",
       "      <td>buffet</td>\n",
       "      <td>motorcycle</td>\n",
       "      <td>1</td>\n",
       "      <td>no</td>\n",
       "      <td>metropolitian</td>\n",
       "      <td>coimb</td>\n",
       "      <td>11.003669</td>\n",
       "      <td>76.976494</td>\n",
       "      <td>11.053669</td>\n",
       "      <td>77.026494</td>\n",
       "      <td>0</td>\n",
       "      <td>21</td>\n",
       "    </tr>\n",
       "    <tr>\n",
       "      <th>4</th>\n",
       "      <td>32</td>\n",
       "      <td>4.6</td>\n",
       "      <td>26-03-2022</td>\n",
       "      <td>13:30:00</td>\n",
       "      <td>13:45:00</td>\n",
       "      <td>conditions cloudy</td>\n",
       "      <td>high</td>\n",
       "      <td>snack</td>\n",
       "      <td>scooter</td>\n",
       "      <td>1</td>\n",
       "      <td>no</td>\n",
       "      <td>metropolitian</td>\n",
       "      <td>chen</td>\n",
       "      <td>12.972793</td>\n",
       "      <td>80.249982</td>\n",
       "      <td>13.012793</td>\n",
       "      <td>80.289982</td>\n",
       "      <td>1</td>\n",
       "      <td>30</td>\n",
       "    </tr>\n",
       "  </tbody>\n",
       "</table>\n",
       "</div>"
      ],
      "text/plain": [
       "  Delivery_person_Age Delivery_person_Ratings  Order_Date Time_Orderd  \\\n",
       "0                  37                     4.9  19-03-2022    11:30:00   \n",
       "1                  34                     4.5  25-03-2022    19:45:00   \n",
       "2                  23                     4.4  19-03-2022    08:30:00   \n",
       "3                  38                     4.7  05-04-2022    18:00:00   \n",
       "4                  32                     4.6  26-03-2022    13:30:00   \n",
       "\n",
       "  Time_Order_picked     Weather_conditions Road_traffic_density Type_of_order  \\\n",
       "0          11:45:00       conditions sunny                 high         snack   \n",
       "1          19:50:00      conditions stormy                  jam         snack   \n",
       "2          08:45:00  conditions sandstorms                  low        drinks   \n",
       "3          18:10:00       conditions sunny               medium        buffet   \n",
       "4          13:45:00      conditions cloudy                 high         snack   \n",
       "\n",
       "  Type_of_vehicle multiple_deliveries Festival      City_area   City  \\\n",
       "0      motorcycle                   0       no          urban   indo   \n",
       "1         scooter                   1       no  metropolitian   bang   \n",
       "2      motorcycle                   1       no          urban   bang   \n",
       "3      motorcycle                   1       no  metropolitian  coimb   \n",
       "4         scooter                   1       no  metropolitian   chen   \n",
       "\n",
       "   Restaurant_latitude  Restaurant_longitude  Delivery_location_latitude  \\\n",
       "0            22.745049             75.892471                   22.765049   \n",
       "1            12.913041             77.683237                   13.043041   \n",
       "2            12.914264             77.678400                   12.924264   \n",
       "3            11.003669             76.976494                   11.053669   \n",
       "4            12.972793             80.249982                   13.012793   \n",
       "\n",
       "   Delivery_location_longitude  Vehicle_condition  Time_taken  \n",
       "0                    75.912471                  2          24  \n",
       "1                    77.813237                  2          33  \n",
       "2                    77.688400                  0          26  \n",
       "3                    77.026494                  0          21  \n",
       "4                    80.289982                  1          30  "
      ]
     },
     "execution_count": 17,
     "metadata": {},
     "output_type": "execute_result"
    }
   ],
   "source": [
    "df2 = pd.concat([df1,df.select_dtypes(exclude=\"object\")],axis=1)\n",
    "df2.head()"
   ]
  },
  {
   "cell_type": "code",
   "execution_count": 18,
   "id": "d489484a",
   "metadata": {
    "execution": {
     "iopub.execute_input": "2024-11-03T04:30:21.986224Z",
     "iopub.status.busy": "2024-11-03T04:30:21.985923Z",
     "iopub.status.idle": "2024-11-03T04:30:22.030725Z",
     "shell.execute_reply": "2024-11-03T04:30:22.030016Z"
    },
    "papermill": {
     "duration": 0.081447,
     "end_time": "2024-11-03T04:30:22.032595",
     "exception": false,
     "start_time": "2024-11-03T04:30:21.951148",
     "status": "completed"
    },
    "tags": []
   },
   "outputs": [],
   "source": [
    "# updating the datatype \n",
    "\n",
    "df2[\"Delivery_person_Age\"] = df2[\"Delivery_person_Age\"].astype(\"float\")\n",
    "df2[\"Delivery_person_Ratings\"] = df2[\"Delivery_person_Ratings\"].astype(\"float\")\n",
    "df2[\"Order_Date\"] = pd.to_datetime(df2[\"Order_Date\"])\n",
    "df2[\"multiple_deliveries\"] = df2[\"multiple_deliveries\"].astype(\"float\")"
   ]
  },
  {
   "cell_type": "code",
   "execution_count": 19,
   "id": "1e697a20",
   "metadata": {
    "execution": {
     "iopub.execute_input": "2024-11-03T04:30:22.101372Z",
     "iopub.status.busy": "2024-11-03T04:30:22.101058Z",
     "iopub.status.idle": "2024-11-03T04:30:22.188753Z",
     "shell.execute_reply": "2024-11-03T04:30:22.187849Z"
    },
    "papermill": {
     "duration": 0.125032,
     "end_time": "2024-11-03T04:30:22.191235",
     "exception": false,
     "start_time": "2024-11-03T04:30:22.066203",
     "status": "completed"
    },
    "tags": []
   },
   "outputs": [
    {
     "name": "stdout",
     "output_type": "stream",
     "text": [
      "Weather_conditions\n",
      "Weather_conditions\n",
      "conditions fog           7654\n",
      "conditions stormy        7586\n",
      "conditions cloudy        7536\n",
      "conditions sandstorms    7495\n",
      "conditions windy         7422\n",
      "conditions sunny         7284\n",
      "Name: count, dtype: int64\n",
      "\n",
      "Road_traffic_density\n",
      "Road_traffic_density\n",
      "low       15477\n",
      "jam       14143\n",
      "medium    10947\n",
      "high       4425\n",
      "Name: count, dtype: int64\n",
      "\n",
      "Type_of_order\n",
      "Type_of_order\n",
      "snack     11533\n",
      "meal      11458\n",
      "drinks    11322\n",
      "buffet    11280\n",
      "Name: count, dtype: int64\n",
      "\n",
      "Type_of_vehicle\n",
      "Type_of_vehicle\n",
      "motorcycle          26435\n",
      "scooter             15276\n",
      "electric_scooter     3814\n",
      "bicycle                68\n",
      "Name: count, dtype: int64\n",
      "\n",
      "Festival\n",
      "Festival\n",
      "no     44469\n",
      "yes      896\n",
      "Name: count, dtype: int64\n",
      "\n",
      "City_area\n",
      "City_area\n",
      "metropolitian    34093\n",
      "urban            10136\n",
      "semi-urban         164\n",
      "Name: count, dtype: int64\n",
      "\n",
      "City\n",
      "City\n",
      "jap       3443\n",
      "ranchi    3229\n",
      "bang      3195\n",
      "sur       3187\n",
      "hyd       3181\n",
      "mum       3173\n",
      "mys       3171\n",
      "coimb     3170\n",
      "vad       3166\n",
      "indo      3159\n",
      "chen      3145\n",
      "pune      3132\n",
      "agr        763\n",
      "ludh       758\n",
      "alh        740\n",
      "knp        740\n",
      "deh        737\n",
      "goa        709\n",
      "aurg       703\n",
      "koc        701\n",
      "kol        700\n",
      "bhp        691\n",
      "Name: count, dtype: int64\n",
      "\n"
     ]
    }
   ],
   "source": [
    "for col in df2.select_dtypes(include=\"object\").columns[2:]:\n",
    "    print(f\"{col}\\n{df2[col].value_counts()}\")\n",
    "    print()"
   ]
  },
  {
   "cell_type": "code",
   "execution_count": 20,
   "id": "5c4438a3",
   "metadata": {
    "execution": {
     "iopub.execute_input": "2024-11-03T04:30:22.260952Z",
     "iopub.status.busy": "2024-11-03T04:30:22.260623Z",
     "iopub.status.idle": "2024-11-03T04:30:22.324499Z",
     "shell.execute_reply": "2024-11-03T04:30:22.323737Z"
    },
    "papermill": {
     "duration": 0.100856,
     "end_time": "2024-11-03T04:30:22.326669",
     "exception": false,
     "start_time": "2024-11-03T04:30:22.225813",
     "status": "completed"
    },
    "tags": []
   },
   "outputs": [],
   "source": [
    "# extracting only the weather type from column\n",
    "\n",
    "df2[\"Weather_conditions\"] = df2[\"Weather_conditions\"].str.split(\" \").str[-1]"
   ]
  },
  {
   "cell_type": "markdown",
   "id": "b5303a74",
   "metadata": {
    "papermill": {
     "duration": 0.033799,
     "end_time": "2024-11-03T04:30:22.394935",
     "exception": false,
     "start_time": "2024-11-03T04:30:22.361136",
     "status": "completed"
    },
    "tags": []
   },
   "source": [
    "* <i> Target Variable </i>"
   ]
  },
  {
   "cell_type": "code",
   "execution_count": 21,
   "id": "b49c973e",
   "metadata": {
    "execution": {
     "iopub.execute_input": "2024-11-03T04:30:22.463880Z",
     "iopub.status.busy": "2024-11-03T04:30:22.463504Z",
     "iopub.status.idle": "2024-11-03T04:30:23.389315Z",
     "shell.execute_reply": "2024-11-03T04:30:23.388433Z"
    },
    "papermill": {
     "duration": 0.962801,
     "end_time": "2024-11-03T04:30:23.391604",
     "exception": false,
     "start_time": "2024-11-03T04:30:22.428803",
     "status": "completed"
    },
    "tags": []
   },
   "outputs": [
    {
     "data": {
      "image/png": "[encoded data removed]",
      "text/plain": [
       "<Figure size 1000x500 with 2 Axes>"
      ]
     },
     "metadata": {},
     "output_type": "display_data"
    }
   ],
   "source": [
    "fig,axes = plt.subplots(1,2,figsize=(10,5))\n",
    "numeric_df = df2.select_dtypes(exclude=\"object\")\n",
    "\n",
    "sns.kdeplot(numeric_df[\"Time_taken\"],ax = axes[0],fill = True,color=sns.color_palette(\"viridis\")[4])\n",
    "\n",
    "axes[0].set_title(\"KDE plot for Time Taken\")\n",
    "axes[0].set_xlabel(\"Time Taken\")\n",
    "axes[0].set_ylabel(\"Density\")\n",
    "\n",
    "sns.boxplot(numeric_df[\"Time_taken\"],ax = axes[1],palette=\"mako\")\n",
    "\n",
    "axes[1].set_title(\"Boxplot of Time Taken\")\n",
    "axes[1].set_xlabel(\"Time Taken\")\n",
    "\n",
    "plt.tight_layout()\n",
    "plt.show()"
   ]
  },
  {
   "cell_type": "markdown",
   "id": "f170110e",
   "metadata": {
    "papermill": {
     "duration": 0.035703,
     "end_time": "2024-11-03T04:30:23.462386",
     "exception": false,
     "start_time": "2024-11-03T04:30:23.426683",
     "status": "completed"
    },
    "tags": []
   },
   "source": [
    "* Time taken slightly follows right skewed distribution as we can see there are few outliers from the boxplot "
   ]
  },
  {
   "cell_type": "markdown",
   "id": "bc11aebc",
   "metadata": {
    "papermill": {
     "duration": 0.035311,
     "end_time": "2024-11-03T04:30:23.532429",
     "exception": false,
     "start_time": "2024-11-03T04:30:23.497118",
     "status": "completed"
    },
    "tags": []
   },
   "source": [
    "* categoical column "
   ]
  },
  {
   "cell_type": "code",
   "execution_count": 22,
   "id": "c4536d30",
   "metadata": {
    "execution": {
     "iopub.execute_input": "2024-11-03T04:30:23.603543Z",
     "iopub.status.busy": "2024-11-03T04:30:23.603200Z",
     "iopub.status.idle": "2024-11-03T04:30:23.628423Z",
     "shell.execute_reply": "2024-11-03T04:30:23.627643Z"
    },
    "papermill": {
     "duration": 0.062886,
     "end_time": "2024-11-03T04:30:23.630583",
     "exception": false,
     "start_time": "2024-11-03T04:30:23.567697",
     "status": "completed"
    },
    "tags": []
   },
   "outputs": [],
   "source": [
    "cat_df = df2.select_dtypes(include=\"object\").iloc[:,2:-1]"
   ]
  },
  {
   "cell_type": "code",
   "execution_count": 23,
   "id": "a253ba53",
   "metadata": {
    "execution": {
     "iopub.execute_input": "2024-11-03T04:30:23.702268Z",
     "iopub.status.busy": "2024-11-03T04:30:23.701904Z",
     "iopub.status.idle": "2024-11-03T04:30:24.959248Z",
     "shell.execute_reply": "2024-11-03T04:30:24.958371Z"
    },
    "papermill": {
     "duration": 1.2968,
     "end_time": "2024-11-03T04:30:24.962252",
     "exception": false,
     "start_time": "2024-11-03T04:30:23.665452",
     "status": "completed"
    },
    "tags": []
   },
   "outputs": [
    {
     "data": {
      "image/png": "[encoded data removed]",
      "text/plain": [
       "<Figure size 1500x800 with 6 Axes>"
      ]
     },
     "metadata": {},
     "output_type": "display_data"
    }
   ],
   "source": [
    "cat_df = df2.select_dtypes(include=\"object\").iloc[:,2:-1]\n",
    "palettes = [\"rocket\",\"crest\",\"viridis\"] * (len(cat_df.columns)//3)\n",
    "\n",
    "fig,axes = plt.subplots(3,2,figsize=(15,8))\n",
    "axes = axes.flatten()\n",
    "\n",
    "for ax,column,palette in zip(axes,cat_df.columns,palettes):\n",
    "    sns.countplot(x = cat_df[column],ax = ax,palette = palette)\n",
    "    ax.set_title(f\"{column}\")\n",
    "\n",
    "plt.tight_layout()  \n",
    "plt.show()"
   ]
  },
  {
   "cell_type": "markdown",
   "id": "763ed6b0",
   "metadata": {
    "papermill": {
     "duration": 0.035183,
     "end_time": "2024-11-03T04:30:25.034010",
     "exception": false,
     "start_time": "2024-11-03T04:30:24.998827",
     "status": "completed"
    },
    "tags": []
   },
   "source": [
    "* Weather conditions follows a uniform distribution\n",
    "\n",
    "* Deliveries are predominantly made via motorcycle \n",
    "\n",
    "* road traffic density typically low,medium or jammed"
   ]
  },
  {
   "cell_type": "code",
   "execution_count": 24,
   "id": "278d477a",
   "metadata": {
    "execution": {
     "iopub.execute_input": "2024-11-03T04:30:25.106487Z",
     "iopub.status.busy": "2024-11-03T04:30:25.106167Z",
     "iopub.status.idle": "2024-11-03T04:30:28.737461Z",
     "shell.execute_reply": "2024-11-03T04:30:28.736526Z"
    },
    "papermill": {
     "duration": 3.670203,
     "end_time": "2024-11-03T04:30:28.739476",
     "exception": false,
     "start_time": "2024-11-03T04:30:25.069273",
     "status": "completed"
    },
    "tags": []
   },
   "outputs": [
    {
     "data": {
      "image/png": "[encoded data removed]",
      "text/plain": [
       "<Figure size 1500x800 with 6 Axes>"
      ]
     },
     "metadata": {},
     "output_type": "display_data"
    }
   ],
   "source": [
    "palettes = [\"Set1\",\"Set2\",\"Set3\"] * (len(cat_df.columns)//3)\n",
    "\n",
    "fig,axes = plt.subplots(3,2,figsize=(15,8))\n",
    "axes = axes.flatten()\n",
    "\n",
    "for ax,column,palette in zip(axes,cat_df.columns,palettes):\n",
    "    sns.barplot(x = cat_df[column],y = numeric_df[\"Time_taken\"],ax = ax,palette = palette)\n",
    "    ax.set_title(f\"{column}\")\n",
    "\n",
    "plt.tight_layout()  \n",
    "plt.show()"
   ]
  },
  {
   "cell_type": "markdown",
   "id": "2260bf01",
   "metadata": {
    "papermill": {
     "duration": 0.036629,
     "end_time": "2024-11-03T04:30:28.813786",
     "exception": false,
     "start_time": "2024-11-03T04:30:28.777157",
     "status": "completed"
    },
    "tags": []
   },
   "source": [
    "<b>Less Time Taken</b> :- <i> Low Traffic or Sunny day or Electric Scooter or No Festival or Urban Area </i>\n",
    "\n",
    "\n",
    "\n",
    "<b>More Time Taken</b> :- <i> Jammed Traffic or Fog day or Bicycle or Festival or Semi-urban Area </i>"
   ]
  },
  {
   "cell_type": "markdown",
   "id": "76b1f0bb",
   "metadata": {
    "papermill": {
     "duration": 0.036418,
     "end_time": "2024-11-03T04:30:28.886605",
     "exception": false,
     "start_time": "2024-11-03T04:30:28.850187",
     "status": "completed"
    },
    "tags": []
   },
   "source": [
    "* Numeric one "
   ]
  },
  {
   "cell_type": "code",
   "execution_count": 25,
   "id": "731c6b20",
   "metadata": {
    "execution": {
     "iopub.execute_input": "2024-11-03T04:30:28.961485Z",
     "iopub.status.busy": "2024-11-03T04:30:28.961133Z",
     "iopub.status.idle": "2024-11-03T04:30:29.750816Z",
     "shell.execute_reply": "2024-11-03T04:30:29.749951Z"
    },
    "papermill": {
     "duration": 0.829977,
     "end_time": "2024-11-03T04:30:29.752954",
     "exception": false,
     "start_time": "2024-11-03T04:30:28.922977",
     "status": "completed"
    },
    "tags": []
   },
   "outputs": [
    {
     "data": {
      "image/png": "[encoded data removed]",
      "text/plain": [
       "<Figure size 1200x500 with 2 Axes>"
      ]
     },
     "metadata": {},
     "output_type": "display_data"
    },
    {
     "data": {
      "image/png": "[encoded data removed]",
      "text/plain": [
       "<Figure size 1200x500 with 2 Axes>"
      ]
     },
     "metadata": {},
     "output_type": "display_data"
    }
   ],
   "source": [
    "import math\n",
    "\n",
    "num_cols = [\"Delivery_person_Age\",\"Delivery_person_Ratings\"]\n",
    "\n",
    "palettes = [\"rocket\",\"crest\"]\n",
    "\n",
    "fig,axes = plt.subplots(1,2,figsize=(12,5))\n",
    "axes = axes.flatten()\n",
    "\n",
    "for ax,palette,column in zip(axes,palettes,num_cols):\n",
    "    n_bins = int(math.sqrt(numeric_df[column].max())) * 4\n",
    "    ax.hist(numeric_df[column],color = sns.color_palette(palette)[5],edgecolor=\"white\",bins=n_bins)\n",
    "    ax.set_title(f\"{column}\")\n",
    "\n",
    "\n",
    "\n",
    "fig_1,axes_1 = plt.subplots(1,2,figsize=(12,5))\n",
    "\n",
    "for ax,palette,column in zip(axes_1,palettes,num_cols):\n",
    "    sns.boxplot(numeric_df[column],ax = ax,palette = palette)\n",
    "    ax.set_title(f\"{column}\")\n",
    "\n",
    "plt.show()"
   ]
  },
  {
   "cell_type": "markdown",
   "id": "40eee802",
   "metadata": {
    "papermill": {
     "duration": 0.037259,
     "end_time": "2024-11-03T04:30:29.828085",
     "exception": false,
     "start_time": "2024-11-03T04:30:29.790826",
     "status": "completed"
    },
    "tags": []
   },
   "source": [
    "* Delivery person age are in a range of 20 to 40 \n",
    "\n",
    "* Quite a huge frequency between 4 to 5 (delivery person ratings) need to check for rating 6 "
   ]
  },
  {
   "cell_type": "code",
   "execution_count": 26,
   "id": "4264ca92",
   "metadata": {
    "execution": {
     "iopub.execute_input": "2024-11-03T04:30:29.904393Z",
     "iopub.status.busy": "2024-11-03T04:30:29.904083Z",
     "iopub.status.idle": "2024-11-03T04:30:30.202220Z",
     "shell.execute_reply": "2024-11-03T04:30:30.201315Z"
    },
    "papermill": {
     "duration": 0.338546,
     "end_time": "2024-11-03T04:30:30.204387",
     "exception": false,
     "start_time": "2024-11-03T04:30:29.865841",
     "status": "completed"
    },
    "scrolled": true,
    "tags": []
   },
   "outputs": [
    {
     "data": {
      "image/png": "[encoded data removed]",
      "text/plain": [
       "<Figure size 1200x500 with 2 Axes>"
      ]
     },
     "metadata": {},
     "output_type": "display_data"
    }
   ],
   "source": [
    "plt.figure(figsize=(12,5))\n",
    "\n",
    "\n",
    "plt.subplot(1,2,1)\n",
    "\n",
    "numeric_df[\"multiple_deliveries\"].value_counts().plot(kind=\"bar\",color=sns.color_palette(\"rocket\"))\n",
    "\n",
    "\n",
    "plt.subplot(1,2,2)\n",
    "\n",
    "numeric_df.groupby(\"multiple_deliveries\")[\"Time_taken\"].mean().plot(kind=\"bar\",color=sns.color_palette(\"Set1\"))\n",
    "plt.ylabel(\"Avg Time Taken\")\n",
    "\n",
    "plt.show()"
   ]
  },
  {
   "cell_type": "code",
   "execution_count": 27,
   "id": "4807b930",
   "metadata": {
    "execution": {
     "iopub.execute_input": "2024-11-03T04:30:30.281576Z",
     "iopub.status.busy": "2024-11-03T04:30:30.281234Z",
     "iopub.status.idle": "2024-11-03T04:30:30.633814Z",
     "shell.execute_reply": "2024-11-03T04:30:30.632873Z"
    },
    "papermill": {
     "duration": 0.393497,
     "end_time": "2024-11-03T04:30:30.635912",
     "exception": false,
     "start_time": "2024-11-03T04:30:30.242415",
     "status": "completed"
    },
    "tags": []
   },
   "outputs": [
    {
     "data": {
      "image/png": "[encoded data removed]",
      "text/plain": [
       "<Figure size 1200x500 with 2 Axes>"
      ]
     },
     "metadata": {},
     "output_type": "display_data"
    }
   ],
   "source": [
    "plt.figure(figsize=(12,5))\n",
    "\n",
    "\n",
    "plt.subplot(1,2,1)\n",
    "\n",
    "numeric_df[\"Vehicle_condition\"].value_counts().plot(kind=\"bar\",color=sns.color_palette(\"crest\"))\n",
    "\n",
    "\n",
    "plt.subplot(1,2,2)\n",
    "\n",
    "numeric_df.groupby(\"Vehicle_condition\")[\"Time_taken\"].mean().plot(kind=\"bar\",color=sns.color_palette(\"Set2\"))\n",
    "plt.ylabel(\"Avg Time Taken\")\n",
    "\n",
    "plt.show()"
   ]
  },
  {
   "cell_type": "markdown",
   "id": "cee7973a",
   "metadata": {
    "papermill": {
     "duration": 0.037966,
     "end_time": "2024-11-03T04:30:30.712187",
     "exception": false,
     "start_time": "2024-11-03T04:30:30.674221",
     "status": "completed"
    },
    "tags": []
   },
   "source": [
    "* Number of orders from each city with diff. location "
   ]
  },
  {
   "cell_type": "code",
   "execution_count": 28,
   "id": "f6c53dc8",
   "metadata": {
    "execution": {
     "iopub.execute_input": "2024-11-03T04:30:30.789683Z",
     "iopub.status.busy": "2024-11-03T04:30:30.789320Z",
     "iopub.status.idle": "2024-11-03T04:30:30.812455Z",
     "shell.execute_reply": "2024-11-03T04:30:30.811582Z"
    },
    "papermill": {
     "duration": 0.06396,
     "end_time": "2024-11-03T04:30:30.814457",
     "exception": false,
     "start_time": "2024-11-03T04:30:30.750497",
     "status": "completed"
    },
    "tags": []
   },
   "outputs": [
    {
     "data": {
      "text/html": [
       "<div>\n",
       "<style scoped>\n",
       "    .dataframe tbody tr th:only-of-type {\n",
       "        vertical-align: middle;\n",
       "    }\n",
       "\n",
       "    .dataframe tbody tr th {\n",
       "        vertical-align: top;\n",
       "    }\n",
       "\n",
       "    .dataframe thead th {\n",
       "        text-align: right;\n",
       "    }\n",
       "</style>\n",
       "<table border=\"1\" class=\"dataframe\">\n",
       "  <thead>\n",
       "    <tr style=\"text-align: right;\">\n",
       "      <th></th>\n",
       "      <th></th>\n",
       "      <th></th>\n",
       "      <th>count</th>\n",
       "    </tr>\n",
       "    <tr>\n",
       "      <th>City</th>\n",
       "      <th>Restaurant_latitude</th>\n",
       "      <th>Restaurant_longitude</th>\n",
       "      <th></th>\n",
       "    </tr>\n",
       "  </thead>\n",
       "  <tbody>\n",
       "    <tr>\n",
       "      <th>vad</th>\n",
       "      <th>0.000000</th>\n",
       "      <th>0.000000</th>\n",
       "      <td>1590</td>\n",
       "    </tr>\n",
       "    <tr>\n",
       "      <th>ranchi</th>\n",
       "      <th>0.000000</th>\n",
       "      <th>0.000000</th>\n",
       "      <td>665</td>\n",
       "    </tr>\n",
       "    <tr>\n",
       "      <th>deh</th>\n",
       "      <th>0.000000</th>\n",
       "      <th>0.000000</th>\n",
       "      <td>245</td>\n",
       "    </tr>\n",
       "    <tr>\n",
       "      <th>bhp</th>\n",
       "      <th>0.000000</th>\n",
       "      <th>0.000000</th>\n",
       "      <td>213</td>\n",
       "    </tr>\n",
       "    <tr>\n",
       "      <th>agr</th>\n",
       "      <th>0.000000</th>\n",
       "      <th>0.000000</th>\n",
       "      <td>213</td>\n",
       "    </tr>\n",
       "    <tr>\n",
       "      <th rowspan=\"5\" valign=\"top\">jap</th>\n",
       "      <th>26.911378</th>\n",
       "      <th>75.789034</th>\n",
       "      <td>182</td>\n",
       "    </tr>\n",
       "    <tr>\n",
       "      <th>26.914142</th>\n",
       "      <th>75.805704</th>\n",
       "      <td>180</td>\n",
       "    </tr>\n",
       "    <tr>\n",
       "      <th>26.902908</th>\n",
       "      <th>75.792934</th>\n",
       "      <td>176</td>\n",
       "    </tr>\n",
       "    <tr>\n",
       "      <th>26.892312</th>\n",
       "      <th>75.806896</th>\n",
       "      <td>176</td>\n",
       "    </tr>\n",
       "    <tr>\n",
       "      <th>26.902940</th>\n",
       "      <th>75.793007</th>\n",
       "      <td>176</td>\n",
       "    </tr>\n",
       "  </tbody>\n",
       "</table>\n",
       "</div>"
      ],
      "text/plain": [
       "                                                 count\n",
       "City   Restaurant_latitude Restaurant_longitude       \n",
       "vad    0.000000            0.000000               1590\n",
       "ranchi 0.000000            0.000000                665\n",
       "deh    0.000000            0.000000                245\n",
       "bhp    0.000000            0.000000                213\n",
       "agr    0.000000            0.000000                213\n",
       "jap    26.911378           75.789034               182\n",
       "       26.914142           75.805704               180\n",
       "       26.902908           75.792934               176\n",
       "       26.892312           75.806896               176\n",
       "       26.902940           75.793007               176"
      ]
     },
     "execution_count": 28,
     "metadata": {},
     "output_type": "execute_result"
    }
   ],
   "source": [
    "df2[[\"City\",\"Restaurant_latitude\",\"Restaurant_longitude\"]].value_counts().to_frame()[:10]"
   ]
  },
  {
   "cell_type": "markdown",
   "id": "ebc61f52",
   "metadata": {
    "papermill": {
     "duration": 0.038393,
     "end_time": "2024-11-03T04:30:30.891455",
     "exception": false,
     "start_time": "2024-11-03T04:30:30.853062",
     "status": "completed"
    },
    "tags": []
   },
   "source": [
    "* The coordinates (0, 0) are not valid locations for restaurants within India."
   ]
  },
  {
   "cell_type": "code",
   "execution_count": 29,
   "id": "9ac69e40",
   "metadata": {
    "execution": {
     "iopub.execute_input": "2024-11-03T04:30:30.969872Z",
     "iopub.status.busy": "2024-11-03T04:30:30.969304Z",
     "iopub.status.idle": "2024-11-03T04:30:30.985252Z",
     "shell.execute_reply": "2024-11-03T04:30:30.984382Z"
    },
    "papermill": {
     "duration": 0.057478,
     "end_time": "2024-11-03T04:30:30.987395",
     "exception": false,
     "start_time": "2024-11-03T04:30:30.929917",
     "status": "completed"
    },
    "tags": []
   },
   "outputs": [
    {
     "name": "stdout",
     "output_type": "stream",
     "text": [
      "3640\n",
      "3640\n"
     ]
    }
   ],
   "source": [
    "print(sum(df2[\"Restaurant_latitude\"]==0.0))\n",
    "print(sum(df2[\"Restaurant_longitude\"]==0.0))"
   ]
  },
  {
   "cell_type": "code",
   "execution_count": 30,
   "id": "9c9f7fd2",
   "metadata": {
    "execution": {
     "iopub.execute_input": "2024-11-03T04:30:31.065607Z",
     "iopub.status.busy": "2024-11-03T04:30:31.065285Z",
     "iopub.status.idle": "2024-11-03T04:30:31.092687Z",
     "shell.execute_reply": "2024-11-03T04:30:31.091796Z"
    },
    "papermill": {
     "duration": 0.068966,
     "end_time": "2024-11-03T04:30:31.094718",
     "exception": false,
     "start_time": "2024-11-03T04:30:31.025752",
     "status": "completed"
    },
    "scrolled": true,
    "tags": []
   },
   "outputs": [
    {
     "name": "stdout",
     "output_type": "stream",
     "text": [
      "41522\n",
      "41791\n"
     ]
    }
   ],
   "source": [
    "#check the coordinates within india \n",
    "\n",
    "print(len(df2[(df2[\"Restaurant_latitude\"]>=8) & (df2[\"Restaurant_latitude\"]<=37)]))\n",
    "print(len(df2[(df2[\"Restaurant_longitude\"]>=68) & (df2[\"Restaurant_longitude\"]<=97)]))"
   ]
  },
  {
   "cell_type": "markdown",
   "id": "6c7d6db4",
   "metadata": {
    "papermill": {
     "duration": 0.038782,
     "end_time": "2024-11-03T04:30:31.173888",
     "exception": false,
     "start_time": "2024-11-03T04:30:31.135106",
     "status": "completed"
    },
    "tags": []
   },
   "source": [
    "* We can drop coordinates those showing (0,0)"
   ]
  },
  {
   "cell_type": "code",
   "execution_count": 31,
   "id": "da8dd811",
   "metadata": {
    "execution": {
     "iopub.execute_input": "2024-11-03T04:30:31.252189Z",
     "iopub.status.busy": "2024-11-03T04:30:31.251823Z",
     "iopub.status.idle": "2024-11-03T04:30:31.264773Z",
     "shell.execute_reply": "2024-11-03T04:30:31.264003Z"
    },
    "papermill": {
     "duration": 0.054397,
     "end_time": "2024-11-03T04:30:31.266781",
     "exception": false,
     "start_time": "2024-11-03T04:30:31.212384",
     "status": "completed"
    },
    "tags": []
   },
   "outputs": [],
   "source": [
    "df3 = df2[-((df2[\"Restaurant_latitude\"]==0.0) & (df2[\"Restaurant_longitude\"]==0.0)) ]"
   ]
  },
  {
   "cell_type": "code",
   "execution_count": 32,
   "id": "2387df5c",
   "metadata": {
    "execution": {
     "iopub.execute_input": "2024-11-03T04:30:31.345267Z",
     "iopub.status.busy": "2024-11-03T04:30:31.344955Z",
     "iopub.status.idle": "2024-11-03T04:30:31.350503Z",
     "shell.execute_reply": "2024-11-03T04:30:31.349692Z"
    },
    "papermill": {
     "duration": 0.046725,
     "end_time": "2024-11-03T04:30:31.352473",
     "exception": false,
     "start_time": "2024-11-03T04:30:31.305748",
     "status": "completed"
    },
    "tags": []
   },
   "outputs": [
    {
     "data": {
      "text/plain": [
       "(41953, 19)"
      ]
     },
     "execution_count": 32,
     "metadata": {},
     "output_type": "execute_result"
    }
   ],
   "source": [
    "df3.shape "
   ]
  },
  {
   "cell_type": "code",
   "execution_count": 33,
   "id": "0a4a7e11",
   "metadata": {
    "execution": {
     "iopub.execute_input": "2024-11-03T04:30:31.431436Z",
     "iopub.status.busy": "2024-11-03T04:30:31.430806Z",
     "iopub.status.idle": "2024-11-03T04:30:31.446157Z",
     "shell.execute_reply": "2024-11-03T04:30:31.445433Z"
    },
    "papermill": {
     "duration": 0.057243,
     "end_time": "2024-11-03T04:30:31.448199",
     "exception": false,
     "start_time": "2024-11-03T04:30:31.390956",
     "status": "completed"
    },
    "tags": []
   },
   "outputs": [],
   "source": [
    "restaurant_df = df3.groupby([\"City\",\"Restaurant_latitude\",\"Restaurant_longitude\"]).size().reset_index(name = \"num_orders\")"
   ]
  },
  {
   "cell_type": "code",
   "execution_count": 34,
   "id": "8762aba0",
   "metadata": {
    "execution": {
     "iopub.execute_input": "2024-11-03T04:30:31.532809Z",
     "iopub.status.busy": "2024-11-03T04:30:31.532225Z",
     "iopub.status.idle": "2024-11-03T04:30:31.549676Z",
     "shell.execute_reply": "2024-11-03T04:30:31.548745Z"
    },
    "papermill": {
     "duration": 0.064233,
     "end_time": "2024-11-03T04:30:31.552380",
     "exception": false,
     "start_time": "2024-11-03T04:30:31.488147",
     "status": "completed"
    },
    "scrolled": true,
    "tags": []
   },
   "outputs": [
    {
     "data": {
      "text/html": [
       "<div>\n",
       "<style scoped>\n",
       "    .dataframe tbody tr th:only-of-type {\n",
       "        vertical-align: middle;\n",
       "    }\n",
       "\n",
       "    .dataframe tbody tr th {\n",
       "        vertical-align: top;\n",
       "    }\n",
       "\n",
       "    .dataframe thead th {\n",
       "        text-align: right;\n",
       "    }\n",
       "</style>\n",
       "<table border=\"1\" class=\"dataframe\">\n",
       "  <thead>\n",
       "    <tr style=\"text-align: right;\">\n",
       "      <th></th>\n",
       "      <th>City</th>\n",
       "      <th>Restaurant_latitude</th>\n",
       "      <th>Restaurant_longitude</th>\n",
       "      <th>num_orders</th>\n",
       "    </tr>\n",
       "  </thead>\n",
       "  <tbody>\n",
       "    <tr>\n",
       "      <th>368</th>\n",
       "      <td>jap</td>\n",
       "      <td>26.911378</td>\n",
       "      <td>75.789034</td>\n",
       "      <td>182</td>\n",
       "    </tr>\n",
       "    <tr>\n",
       "      <th>694</th>\n",
       "      <td>vad</td>\n",
       "      <td>22.308096</td>\n",
       "      <td>73.167753</td>\n",
       "      <td>172</td>\n",
       "    </tr>\n",
       "    <tr>\n",
       "      <th>293</th>\n",
       "      <td>hyd</td>\n",
       "      <td>17.430448</td>\n",
       "      <td>78.418213</td>\n",
       "      <td>170</td>\n",
       "    </tr>\n",
       "    <tr>\n",
       "      <th>576</th>\n",
       "      <td>mys</td>\n",
       "      <td>12.323978</td>\n",
       "      <td>76.627961</td>\n",
       "      <td>170</td>\n",
       "    </tr>\n",
       "    <tr>\n",
       "      <th>116</th>\n",
       "      <td>bang</td>\n",
       "      <td>12.979166</td>\n",
       "      <td>77.640709</td>\n",
       "      <td>170</td>\n",
       "    </tr>\n",
       "    <tr>\n",
       "      <th>642</th>\n",
       "      <td>ranchi</td>\n",
       "      <td>23.371292</td>\n",
       "      <td>85.327872</td>\n",
       "      <td>169</td>\n",
       "    </tr>\n",
       "    <tr>\n",
       "      <th>176</th>\n",
       "      <td>chen</td>\n",
       "      <td>13.058616</td>\n",
       "      <td>80.264151</td>\n",
       "      <td>168</td>\n",
       "    </tr>\n",
       "    <tr>\n",
       "      <th>323</th>\n",
       "      <td>indo</td>\n",
       "      <td>22.725748</td>\n",
       "      <td>75.898497</td>\n",
       "      <td>168</td>\n",
       "    </tr>\n",
       "    <tr>\n",
       "      <th>212</th>\n",
       "      <td>coimb</td>\n",
       "      <td>11.025083</td>\n",
       "      <td>77.015393</td>\n",
       "      <td>168</td>\n",
       "    </tr>\n",
       "    <tr>\n",
       "      <th>614</th>\n",
       "      <td>pune</td>\n",
       "      <td>18.569156</td>\n",
       "      <td>73.774723</td>\n",
       "      <td>167</td>\n",
       "    </tr>\n",
       "  </tbody>\n",
       "</table>\n",
       "</div>"
      ],
      "text/plain": [
       "       City  Restaurant_latitude  Restaurant_longitude  num_orders\n",
       "368     jap            26.911378             75.789034         182\n",
       "694     vad            22.308096             73.167753         172\n",
       "293     hyd            17.430448             78.418213         170\n",
       "576     mys            12.323978             76.627961         170\n",
       "116    bang            12.979166             77.640709         170\n",
       "642  ranchi            23.371292             85.327872         169\n",
       "176    chen            13.058616             80.264151         168\n",
       "323    indo            22.725748             75.898497         168\n",
       "212   coimb            11.025083             77.015393         168\n",
       "614    pune            18.569156             73.774723         167"
      ]
     },
     "execution_count": 34,
     "metadata": {},
     "output_type": "execute_result"
    }
   ],
   "source": [
    "# max orders with each city and the restaurant coordinates \n",
    "\n",
    "top_restaurant = restaurant_df.loc[restaurant_df.groupby(\"City\")[\"num_orders\"].idxmax()]\n",
    "top_restaurant.sort_values(by=\"num_orders\",ascending=False)[:10]"
   ]
  },
  {
   "cell_type": "markdown",
   "id": "88c5f766",
   "metadata": {
    "papermill": {
     "duration": 0.042981,
     "end_time": "2024-11-03T04:30:31.638908",
     "exception": false,
     "start_time": "2024-11-03T04:30:31.595927",
     "status": "completed"
    },
    "tags": []
   },
   "source": [
    "* Order_Date "
   ]
  },
  {
   "cell_type": "code",
   "execution_count": 35,
   "id": "48b6fa28",
   "metadata": {
    "execution": {
     "iopub.execute_input": "2024-11-03T04:30:31.721945Z",
     "iopub.status.busy": "2024-11-03T04:30:31.721587Z",
     "iopub.status.idle": "2024-11-03T04:30:31.732124Z",
     "shell.execute_reply": "2024-11-03T04:30:31.731006Z"
    },
    "papermill": {
     "duration": 0.053488,
     "end_time": "2024-11-03T04:30:31.734157",
     "exception": false,
     "start_time": "2024-11-03T04:30:31.680669",
     "status": "completed"
    },
    "scrolled": true,
    "tags": []
   },
   "outputs": [
    {
     "name": "stdout",
     "output_type": "stream",
     "text": [
      " year 1\n",
      " month 3\n",
      " days 30\n"
     ]
    }
   ],
   "source": [
    "print(f' year {df3[\"Order_Date\"].dt.year.nunique()}')\n",
    "print(f' month {df3[\"Order_Date\"].dt.month.nunique()}')\n",
    "print(f' days {df3[\"Order_Date\"].dt.day.nunique()}')"
   ]
  },
  {
   "cell_type": "code",
   "execution_count": 36,
   "id": "5211af0c",
   "metadata": {
    "execution": {
     "iopub.execute_input": "2024-11-03T04:30:31.814330Z",
     "iopub.status.busy": "2024-11-03T04:30:31.813735Z",
     "iopub.status.idle": "2024-11-03T04:30:31.821682Z",
     "shell.execute_reply": "2024-11-03T04:30:31.820952Z"
    },
    "papermill": {
     "duration": 0.050135,
     "end_time": "2024-11-03T04:30:31.823572",
     "exception": false,
     "start_time": "2024-11-03T04:30:31.773437",
     "status": "completed"
    },
    "tags": []
   },
   "outputs": [],
   "source": [
    "df3[\"month\"] = df3[\"Order_Date\"].dt.month\n",
    "df3[\"day\"] = df3[\"Order_Date\"].dt.day"
   ]
  },
  {
   "cell_type": "code",
   "execution_count": 37,
   "id": "f7fc4208",
   "metadata": {
    "execution": {
     "iopub.execute_input": "2024-11-03T04:30:31.903314Z",
     "iopub.status.busy": "2024-11-03T04:30:31.902647Z",
     "iopub.status.idle": "2024-11-03T04:30:32.532233Z",
     "shell.execute_reply": "2024-11-03T04:30:32.531352Z"
    },
    "papermill": {
     "duration": 0.672006,
     "end_time": "2024-11-03T04:30:32.534507",
     "exception": false,
     "start_time": "2024-11-03T04:30:31.862501",
     "status": "completed"
    },
    "tags": []
   },
   "outputs": [
    {
     "data": {
      "image/png": "[encoded data removed]",
      "text/plain": [
       "<Figure size 1200x500 with 2 Axes>"
      ]
     },
     "metadata": {},
     "output_type": "display_data"
    }
   ],
   "source": [
    "fig,axes = plt.subplots(1,2,figsize=(12,5))\n",
    "\n",
    "df3[\"month\"].value_counts().plot(kind=\"bar\",color=sns.color_palette(\"crest\"),ax = axes[0])\n",
    "df3[\"day\"].value_counts().plot(kind=\"bar\",color=sns.color_palette(\"flare\"),ax = axes[1])\n",
    "\n",
    "plt.show()"
   ]
  },
  {
   "cell_type": "markdown",
   "id": "110f1076",
   "metadata": {
    "papermill": {
     "duration": 0.03889,
     "end_time": "2024-11-03T04:30:32.614995",
     "exception": false,
     "start_time": "2024-11-03T04:30:32.576105",
     "status": "completed"
    },
    "tags": []
   },
   "source": [
    "* Majority of orders came form 3rd month of year \n",
    "\n",
    "* Also we can see that 3rd day of every month represent high number of orders "
   ]
  },
  {
   "cell_type": "markdown",
   "id": "3901a4b4",
   "metadata": {
    "papermill": {
     "duration": 0.039236,
     "end_time": "2024-11-03T04:30:32.693696",
     "exception": false,
     "start_time": "2024-11-03T04:30:32.654460",
     "status": "completed"
    },
    "tags": []
   },
   "source": [
    "## 3. Missing Values Treatment "
   ]
  },
  {
   "cell_type": "code",
   "execution_count": 38,
   "id": "faa8207a",
   "metadata": {
    "execution": {
     "iopub.execute_input": "2024-11-03T04:30:32.773841Z",
     "iopub.status.busy": "2024-11-03T04:30:32.773206Z",
     "iopub.status.idle": "2024-11-03T04:30:32.817292Z",
     "shell.execute_reply": "2024-11-03T04:30:32.816408Z"
    },
    "papermill": {
     "duration": 0.086192,
     "end_time": "2024-11-03T04:30:32.819249",
     "exception": false,
     "start_time": "2024-11-03T04:30:32.733057",
     "status": "completed"
    },
    "tags": []
   },
   "outputs": [
    {
     "data": {
      "text/plain": [
       "Delivery_person_Ratings        1763\n",
       "Delivery_person_Age            1719\n",
       "Time_Orderd                    1600\n",
       "City_area                      1114\n",
       "multiple_deliveries             905\n",
       "Weather_conditions              569\n",
       "Road_traffic_density            555\n",
       "Festival                        215\n",
       "Order_Date                        0\n",
       "Time_Order_picked                 0\n",
       "Type_of_order                     0\n",
       "Type_of_vehicle                   0\n",
       "City                              0\n",
       "Restaurant_latitude               0\n",
       "Restaurant_longitude              0\n",
       "Delivery_location_latitude        0\n",
       "Delivery_location_longitude       0\n",
       "Vehicle_condition                 0\n",
       "Time_taken                        0\n",
       "month                             0\n",
       "day                               0\n",
       "dtype: int64"
      ]
     },
     "execution_count": 38,
     "metadata": {},
     "output_type": "execute_result"
    }
   ],
   "source": [
    "# lets check again for missing values \n",
    "\n",
    "df3.isnull().sum().sort_values(ascending=False)"
   ]
  },
  {
   "cell_type": "markdown",
   "id": "e0fb8419",
   "metadata": {
    "papermill": {
     "duration": 0.039665,
     "end_time": "2024-11-03T04:30:32.898649",
     "exception": false,
     "start_time": "2024-11-03T04:30:32.858984",
     "status": "completed"
    },
    "tags": []
   },
   "source": [
    "* Delivery Person Age \n",
    "\n",
    "* By seeing the distribution it looks like it is a uniform distribution"
   ]
  },
  {
   "cell_type": "code",
   "execution_count": 39,
   "id": "a6c20466",
   "metadata": {
    "execution": {
     "iopub.execute_input": "2024-11-03T04:30:32.979218Z",
     "iopub.status.busy": "2024-11-03T04:30:32.978916Z",
     "iopub.status.idle": "2024-11-03T04:30:32.987211Z",
     "shell.execute_reply": "2024-11-03T04:30:32.986257Z"
    },
    "papermill": {
     "duration": 0.05127,
     "end_time": "2024-11-03T04:30:32.989290",
     "exception": false,
     "start_time": "2024-11-03T04:30:32.938020",
     "status": "completed"
    },
    "scrolled": true,
    "tags": []
   },
   "outputs": [
    {
     "data": {
      "text/plain": [
       "array([38, 43, 34, ..., 24, 41, 22])"
      ]
     },
     "execution_count": 39,
     "metadata": {},
     "output_type": "execute_result"
    }
   ],
   "source": [
    "null_count = df3[\"Delivery_person_Age\"].isnull().sum()\n",
    "min_value = df3[\"Delivery_person_Age\"].min()\n",
    "max_value = df3[\"Delivery_person_Age\"].max()\n",
    "uniform_age_ary = np.random.randint(min_value,max_value,null_count)\n",
    "uniform_age_ary"
   ]
  },
  {
   "cell_type": "code",
   "execution_count": 40,
   "id": "c661e611",
   "metadata": {
    "execution": {
     "iopub.execute_input": "2024-11-03T04:30:33.070036Z",
     "iopub.status.busy": "2024-11-03T04:30:33.069735Z",
     "iopub.status.idle": "2024-11-03T04:30:33.090100Z",
     "shell.execute_reply": "2024-11-03T04:30:33.089316Z"
    },
    "papermill": {
     "duration": 0.063189,
     "end_time": "2024-11-03T04:30:33.092171",
     "exception": false,
     "start_time": "2024-11-03T04:30:33.028982",
     "status": "completed"
    },
    "tags": []
   },
   "outputs": [],
   "source": [
    "# for checking \n",
    "\n",
    "age_b_df = df3.copy()"
   ]
  },
  {
   "cell_type": "code",
   "execution_count": 41,
   "id": "159b1279",
   "metadata": {
    "execution": {
     "iopub.execute_input": "2024-11-03T04:30:33.176203Z",
     "iopub.status.busy": "2024-11-03T04:30:33.175806Z",
     "iopub.status.idle": "2024-11-03T04:30:33.183746Z",
     "shell.execute_reply": "2024-11-03T04:30:33.182909Z"
    },
    "papermill": {
     "duration": 0.052872,
     "end_time": "2024-11-03T04:30:33.185812",
     "exception": false,
     "start_time": "2024-11-03T04:30:33.132940",
     "status": "completed"
    },
    "tags": []
   },
   "outputs": [],
   "source": [
    "null_indices = df3[df3[\"Delivery_person_Age\"].isnull()].index"
   ]
  },
  {
   "cell_type": "code",
   "execution_count": 42,
   "id": "196b6bba",
   "metadata": {
    "execution": {
     "iopub.execute_input": "2024-11-03T04:30:33.279936Z",
     "iopub.status.busy": "2024-11-03T04:30:33.279578Z",
     "iopub.status.idle": "2024-11-03T04:30:33.286162Z",
     "shell.execute_reply": "2024-11-03T04:30:33.285276Z"
    },
    "papermill": {
     "duration": 0.057139,
     "end_time": "2024-11-03T04:30:33.288605",
     "exception": false,
     "start_time": "2024-11-03T04:30:33.231466",
     "status": "completed"
    },
    "tags": []
   },
   "outputs": [],
   "source": [
    "df3.loc[null_indices,\"Delivery_person_Age\"] = uniform_age_ary"
   ]
  },
  {
   "cell_type": "code",
   "execution_count": 43,
   "id": "e78eeaf9",
   "metadata": {
    "execution": {
     "iopub.execute_input": "2024-11-03T04:30:33.377368Z",
     "iopub.status.busy": "2024-11-03T04:30:33.377076Z",
     "iopub.status.idle": "2024-11-03T04:30:33.762272Z",
     "shell.execute_reply": "2024-11-03T04:30:33.761300Z"
    },
    "papermill": {
     "duration": 0.42868,
     "end_time": "2024-11-03T04:30:33.764559",
     "exception": false,
     "start_time": "2024-11-03T04:30:33.335879",
     "status": "completed"
    },
    "scrolled": true,
    "tags": []
   },
   "outputs": [
    {
     "data": {
      "image/png": "[encoded data removed]",
      "text/plain": [
       "<Figure size 1200x500 with 2 Axes>"
      ]
     },
     "metadata": {},
     "output_type": "display_data"
    }
   ],
   "source": [
    "plt.figure(figsize=(12,5))\n",
    "\n",
    "plt.subplot(1,2,1)\n",
    "\n",
    "df3[\"Delivery_person_Age\"].plot(kind=\"hist\",color=sns.color_palette(\"flare\"),edgecolor=\"white\")\n",
    "plt.xlabel(\"Delivery person age after imputation\")\n",
    "\n",
    "plt.subplot(1,2,2)\n",
    "\n",
    "age_b_df[\"Delivery_person_Age\"].plot(kind=\"hist\",color=sns.color_palette(\"crest\"),edgecolor=\"white\")\n",
    "plt.xlabel(\"Delivery person age before imputation\")\n",
    "\n",
    "plt.show()"
   ]
  },
  {
   "cell_type": "markdown",
   "id": "f3143db1",
   "metadata": {
    "papermill": {
     "duration": 0.042651,
     "end_time": "2024-11-03T04:30:33.848774",
     "exception": false,
     "start_time": "2024-11-03T04:30:33.806123",
     "status": "completed"
    },
    "tags": []
   },
   "source": [
    "* Delivery person ratings "
   ]
  },
  {
   "cell_type": "code",
   "execution_count": 44,
   "id": "c5481ec8",
   "metadata": {
    "execution": {
     "iopub.execute_input": "2024-11-03T04:30:33.931243Z",
     "iopub.status.busy": "2024-11-03T04:30:33.930393Z",
     "iopub.status.idle": "2024-11-03T04:30:33.942172Z",
     "shell.execute_reply": "2024-11-03T04:30:33.941363Z"
    },
    "papermill": {
     "duration": 0.054687,
     "end_time": "2024-11-03T04:30:33.944047",
     "exception": false,
     "start_time": "2024-11-03T04:30:33.889360",
     "status": "completed"
    },
    "tags": []
   },
   "outputs": [
    {
     "data": {
      "text/plain": [
       "count    40190.000000\n",
       "mean         4.632386\n",
       "std          0.335541\n",
       "min          1.000000\n",
       "25%          4.500000\n",
       "50%          4.700000\n",
       "75%          4.900000\n",
       "max          6.000000\n",
       "Name: Delivery_person_Ratings, dtype: float64"
      ]
     },
     "execution_count": 44,
     "metadata": {},
     "output_type": "execute_result"
    }
   ],
   "source": [
    "df3[\"Delivery_person_Ratings\"].describe()"
   ]
  },
  {
   "cell_type": "code",
   "execution_count": 45,
   "id": "41c0db11",
   "metadata": {
    "execution": {
     "iopub.execute_input": "2024-11-03T04:30:34.027206Z",
     "iopub.status.busy": "2024-11-03T04:30:34.026477Z",
     "iopub.status.idle": "2024-11-03T04:30:34.053848Z",
     "shell.execute_reply": "2024-11-03T04:30:34.052957Z"
    },
    "papermill": {
     "duration": 0.071748,
     "end_time": "2024-11-03T04:30:34.056038",
     "exception": false,
     "start_time": "2024-11-03T04:30:33.984290",
     "status": "completed"
    },
    "tags": []
   },
   "outputs": [
    {
     "data": {
      "text/html": [
       "<div>\n",
       "<style scoped>\n",
       "    .dataframe tbody tr th:only-of-type {\n",
       "        vertical-align: middle;\n",
       "    }\n",
       "\n",
       "    .dataframe tbody tr th {\n",
       "        vertical-align: top;\n",
       "    }\n",
       "\n",
       "    .dataframe thead th {\n",
       "        text-align: right;\n",
       "    }\n",
       "</style>\n",
       "<table border=\"1\" class=\"dataframe\">\n",
       "  <thead>\n",
       "    <tr style=\"text-align: right;\">\n",
       "      <th></th>\n",
       "      <th>Delivery_person_Age</th>\n",
       "      <th>Delivery_person_Ratings</th>\n",
       "      <th>Order_Date</th>\n",
       "      <th>Time_Orderd</th>\n",
       "      <th>Time_Order_picked</th>\n",
       "      <th>Weather_conditions</th>\n",
       "      <th>Road_traffic_density</th>\n",
       "      <th>Type_of_order</th>\n",
       "      <th>Type_of_vehicle</th>\n",
       "      <th>multiple_deliveries</th>\n",
       "      <th>...</th>\n",
       "      <th>City_area</th>\n",
       "      <th>City</th>\n",
       "      <th>Restaurant_latitude</th>\n",
       "      <th>Restaurant_longitude</th>\n",
       "      <th>Delivery_location_latitude</th>\n",
       "      <th>Delivery_location_longitude</th>\n",
       "      <th>Vehicle_condition</th>\n",
       "      <th>Time_taken</th>\n",
       "      <th>month</th>\n",
       "      <th>day</th>\n",
       "    </tr>\n",
       "  </thead>\n",
       "  <tbody>\n",
       "    <tr>\n",
       "      <th>25285</th>\n",
       "      <td>50.0</td>\n",
       "      <td>6.0</td>\n",
       "      <td>2022-03-01</td>\n",
       "      <td>NaN</td>\n",
       "      <td>17:50:00</td>\n",
       "      <td>NaN</td>\n",
       "      <td>NaN</td>\n",
       "      <td>meal</td>\n",
       "      <td>electric_scooter</td>\n",
       "      <td>0.0</td>\n",
       "      <td>...</td>\n",
       "      <td>metropolitian</td>\n",
       "      <td>coimb</td>\n",
       "      <td>11.001852</td>\n",
       "      <td>76.976268</td>\n",
       "      <td>11.061852</td>\n",
       "      <td>77.036268</td>\n",
       "      <td>3</td>\n",
       "      <td>16</td>\n",
       "      <td>3</td>\n",
       "      <td>1</td>\n",
       "    </tr>\n",
       "    <tr>\n",
       "      <th>13257</th>\n",
       "      <td>50.0</td>\n",
       "      <td>6.0</td>\n",
       "      <td>2022-03-23</td>\n",
       "      <td>NaN</td>\n",
       "      <td>20:50:00</td>\n",
       "      <td>NaN</td>\n",
       "      <td>NaN</td>\n",
       "      <td>buffet</td>\n",
       "      <td>electric_scooter</td>\n",
       "      <td>1.0</td>\n",
       "      <td>...</td>\n",
       "      <td>urban</td>\n",
       "      <td>coimb</td>\n",
       "      <td>11.025083</td>\n",
       "      <td>77.015393</td>\n",
       "      <td>11.105083</td>\n",
       "      <td>77.095393</td>\n",
       "      <td>3</td>\n",
       "      <td>11</td>\n",
       "      <td>3</td>\n",
       "      <td>23</td>\n",
       "    </tr>\n",
       "    <tr>\n",
       "      <th>4714</th>\n",
       "      <td>50.0</td>\n",
       "      <td>6.0</td>\n",
       "      <td>2022-04-04</td>\n",
       "      <td>NaN</td>\n",
       "      <td>23:20:00</td>\n",
       "      <td>NaN</td>\n",
       "      <td>NaN</td>\n",
       "      <td>snack</td>\n",
       "      <td>bicycle</td>\n",
       "      <td>0.0</td>\n",
       "      <td>...</td>\n",
       "      <td>metropolitian</td>\n",
       "      <td>hyd</td>\n",
       "      <td>-17.451976</td>\n",
       "      <td>-78.385883</td>\n",
       "      <td>17.561976</td>\n",
       "      <td>78.495883</td>\n",
       "      <td>3</td>\n",
       "      <td>27</td>\n",
       "      <td>4</td>\n",
       "      <td>4</td>\n",
       "    </tr>\n",
       "    <tr>\n",
       "      <th>30579</th>\n",
       "      <td>50.0</td>\n",
       "      <td>6.0</td>\n",
       "      <td>2022-02-16</td>\n",
       "      <td>NaN</td>\n",
       "      <td>23:10:00</td>\n",
       "      <td>NaN</td>\n",
       "      <td>NaN</td>\n",
       "      <td>snack</td>\n",
       "      <td>bicycle</td>\n",
       "      <td>2.0</td>\n",
       "      <td>...</td>\n",
       "      <td>metropolitian</td>\n",
       "      <td>bhp</td>\n",
       "      <td>23.235123</td>\n",
       "      <td>77.398886</td>\n",
       "      <td>23.325123</td>\n",
       "      <td>77.488886</td>\n",
       "      <td>3</td>\n",
       "      <td>39</td>\n",
       "      <td>2</td>\n",
       "      <td>16</td>\n",
       "    </tr>\n",
       "  </tbody>\n",
       "</table>\n",
       "<p>4 rows × 21 columns</p>\n",
       "</div>"
      ],
      "text/plain": [
       "       Delivery_person_Age  Delivery_person_Ratings Order_Date Time_Orderd  \\\n",
       "25285                 50.0                      6.0 2022-03-01         NaN   \n",
       "13257                 50.0                      6.0 2022-03-23         NaN   \n",
       "4714                  50.0                      6.0 2022-04-04         NaN   \n",
       "30579                 50.0                      6.0 2022-02-16         NaN   \n",
       "\n",
       "      Time_Order_picked Weather_conditions Road_traffic_density Type_of_order  \\\n",
       "25285          17:50:00                NaN                  NaN          meal   \n",
       "13257          20:50:00                NaN                  NaN        buffet   \n",
       "4714           23:20:00                NaN                  NaN         snack   \n",
       "30579          23:10:00                NaN                  NaN         snack   \n",
       "\n",
       "        Type_of_vehicle  multiple_deliveries  ...      City_area   City  \\\n",
       "25285  electric_scooter                  0.0  ...  metropolitian  coimb   \n",
       "13257  electric_scooter                  1.0  ...          urban  coimb   \n",
       "4714            bicycle                  0.0  ...  metropolitian    hyd   \n",
       "30579           bicycle                  2.0  ...  metropolitian    bhp   \n",
       "\n",
       "      Restaurant_latitude  Restaurant_longitude  Delivery_location_latitude  \\\n",
       "25285           11.001852             76.976268                   11.061852   \n",
       "13257           11.025083             77.015393                   11.105083   \n",
       "4714           -17.451976            -78.385883                   17.561976   \n",
       "30579           23.235123             77.398886                   23.325123   \n",
       "\n",
       "       Delivery_location_longitude  Vehicle_condition  Time_taken  month  day  \n",
       "25285                    77.036268                  3          16      3    1  \n",
       "13257                    77.095393                  3          11      3   23  \n",
       "4714                     78.495883                  3          27      4    4  \n",
       "30579                    77.488886                  3          39      2   16  \n",
       "\n",
       "[4 rows x 21 columns]"
      ]
     },
     "execution_count": 45,
     "metadata": {},
     "output_type": "execute_result"
    }
   ],
   "source": [
    "df3[df3[\"Delivery_person_Ratings\"]>5].sample(4)"
   ]
  },
  {
   "cell_type": "code",
   "execution_count": 46,
   "id": "102453f8",
   "metadata": {
    "execution": {
     "iopub.execute_input": "2024-11-03T04:30:34.141563Z",
     "iopub.status.busy": "2024-11-03T04:30:34.140848Z",
     "iopub.status.idle": "2024-11-03T04:30:34.146500Z",
     "shell.execute_reply": "2024-11-03T04:30:34.145476Z"
    },
    "papermill": {
     "duration": 0.051121,
     "end_time": "2024-11-03T04:30:34.148484",
     "exception": false,
     "start_time": "2024-11-03T04:30:34.097363",
     "status": "completed"
    },
    "tags": []
   },
   "outputs": [
    {
     "name": "stdout",
     "output_type": "stream",
     "text": [
      "46\n"
     ]
    }
   ],
   "source": [
    "print((df3[\"Delivery_person_Ratings\"]>5).sum())"
   ]
  },
  {
   "cell_type": "markdown",
   "id": "af6d27c1",
   "metadata": {
    "papermill": {
     "duration": 0.04146,
     "end_time": "2024-11-03T04:30:34.231155",
     "exception": false,
     "start_time": "2024-11-03T04:30:34.189695",
     "status": "completed"
    },
    "tags": []
   },
   "source": [
    "* I assume that ratings feature have rating between 1 to 5\n",
    "\n",
    "* We can considered as a missing values and we can impute with median value based on distribution "
   ]
  },
  {
   "cell_type": "code",
   "execution_count": 47,
   "id": "88a44697",
   "metadata": {
    "execution": {
     "iopub.execute_input": "2024-11-03T04:30:34.314447Z",
     "iopub.status.busy": "2024-11-03T04:30:34.314148Z",
     "iopub.status.idle": "2024-11-03T04:30:34.343952Z",
     "shell.execute_reply": "2024-11-03T04:30:34.343096Z"
    },
    "papermill": {
     "duration": 0.073875,
     "end_time": "2024-11-03T04:30:34.346057",
     "exception": false,
     "start_time": "2024-11-03T04:30:34.272182",
     "status": "completed"
    },
    "tags": []
   },
   "outputs": [],
   "source": [
    "# for checking \n",
    "\n",
    "rating_b_df = df3.copy()"
   ]
  },
  {
   "cell_type": "code",
   "execution_count": 48,
   "id": "acb5759c",
   "metadata": {
    "execution": {
     "iopub.execute_input": "2024-11-03T04:30:34.430947Z",
     "iopub.status.busy": "2024-11-03T04:30:34.430624Z",
     "iopub.status.idle": "2024-11-03T04:30:34.437259Z",
     "shell.execute_reply": "2024-11-03T04:30:34.436569Z"
    },
    "papermill": {
     "duration": 0.051393,
     "end_time": "2024-11-03T04:30:34.439122",
     "exception": false,
     "start_time": "2024-11-03T04:30:34.387729",
     "status": "completed"
    },
    "tags": []
   },
   "outputs": [],
   "source": [
    "df3[\"Delivery_person_Ratings\"].fillna(df3[\"Delivery_person_Ratings\"].median(),inplace=True)"
   ]
  },
  {
   "cell_type": "code",
   "execution_count": 49,
   "id": "1fa94a0c",
   "metadata": {
    "execution": {
     "iopub.execute_input": "2024-11-03T04:30:34.522356Z",
     "iopub.status.busy": "2024-11-03T04:30:34.521698Z",
     "iopub.status.idle": "2024-11-03T04:30:34.529803Z",
     "shell.execute_reply": "2024-11-03T04:30:34.528914Z"
    },
    "papermill": {
     "duration": 0.051967,
     "end_time": "2024-11-03T04:30:34.531806",
     "exception": false,
     "start_time": "2024-11-03T04:30:34.479839",
     "status": "completed"
    },
    "tags": []
   },
   "outputs": [],
   "source": [
    "rating_indices = df3[df3[\"Delivery_person_Ratings\"]==6].index\n",
    "df3.loc[rating_indices,\"Delivery_person_Ratings\"] = df3[\"Delivery_person_Ratings\"].median()"
   ]
  },
  {
   "cell_type": "code",
   "execution_count": 50,
   "id": "0f52b582",
   "metadata": {
    "execution": {
     "iopub.execute_input": "2024-11-03T04:30:34.616938Z",
     "iopub.status.busy": "2024-11-03T04:30:34.616635Z",
     "iopub.status.idle": "2024-11-03T04:30:34.631707Z",
     "shell.execute_reply": "2024-11-03T04:30:34.630506Z"
    },
    "papermill": {
     "duration": 0.059192,
     "end_time": "2024-11-03T04:30:34.633879",
     "exception": false,
     "start_time": "2024-11-03T04:30:34.574687",
     "status": "completed"
    },
    "tags": []
   },
   "outputs": [
    {
     "name": "stdout",
     "output_type": "stream",
     "text": [
      "Before\n",
      "count    40190.000000\n",
      "mean         4.632386\n",
      "std          0.335541\n",
      "min          1.000000\n",
      "25%          4.500000\n",
      "50%          4.700000\n",
      "75%          4.900000\n",
      "max          6.000000\n",
      "Name: Delivery_person_Ratings, dtype: float64\n",
      "------------------------------\n",
      "After\n",
      "count    41953.000000\n",
      "mean         4.633802\n",
      "std          0.325577\n",
      "min          1.000000\n",
      "25%          4.500000\n",
      "50%          4.700000\n",
      "75%          4.800000\n",
      "max          5.000000\n",
      "Name: Delivery_person_Ratings, dtype: float64\n"
     ]
    }
   ],
   "source": [
    "print(\"Before\")\n",
    "print(rating_b_df[\"Delivery_person_Ratings\"].describe())\n",
    "print(\"------------------------------\")\n",
    "print(\"After\")\n",
    "print(df3[\"Delivery_person_Ratings\"].describe())"
   ]
  },
  {
   "cell_type": "markdown",
   "id": "c048340c",
   "metadata": {
    "papermill": {
     "duration": 0.0412,
     "end_time": "2024-11-03T04:30:34.717895",
     "exception": false,
     "start_time": "2024-11-03T04:30:34.676695",
     "status": "completed"
    },
    "tags": []
   },
   "source": [
    "* Imputing in categorical columns "
   ]
  },
  {
   "cell_type": "code",
   "execution_count": 51,
   "id": "291e4218",
   "metadata": {
    "execution": {
     "iopub.execute_input": "2024-11-03T04:30:34.800836Z",
     "iopub.status.busy": "2024-11-03T04:30:34.800545Z",
     "iopub.status.idle": "2024-11-03T04:30:34.840687Z",
     "shell.execute_reply": "2024-11-03T04:30:34.839949Z"
    },
    "papermill": {
     "duration": 0.083801,
     "end_time": "2024-11-03T04:30:34.842481",
     "exception": false,
     "start_time": "2024-11-03T04:30:34.758680",
     "status": "completed"
    },
    "tags": []
   },
   "outputs": [],
   "source": [
    "cols = [\"multiple_deliveries\",\"Road_traffic_density\",\"City_area\",\"Festival\"]\n",
    "\n",
    "for col in cols:\n",
    "    df3[col].fillna(df3[col].mode()[0],inplace=True)    "
   ]
  },
  {
   "cell_type": "code",
   "execution_count": 52,
   "id": "6e115069",
   "metadata": {
    "execution": {
     "iopub.execute_input": "2024-11-03T04:30:34.928354Z",
     "iopub.status.busy": "2024-11-03T04:30:34.928047Z",
     "iopub.status.idle": "2024-11-03T04:30:34.935685Z",
     "shell.execute_reply": "2024-11-03T04:30:34.934892Z"
    },
    "papermill": {
     "duration": 0.053845,
     "end_time": "2024-11-03T04:30:34.937602",
     "exception": false,
     "start_time": "2024-11-03T04:30:34.883757",
     "status": "completed"
    },
    "tags": []
   },
   "outputs": [],
   "source": [
    "w_types = df3[\"Weather_conditions\"].unique()[:-1]"
   ]
  },
  {
   "cell_type": "code",
   "execution_count": 53,
   "id": "ad67e3e9",
   "metadata": {
    "execution": {
     "iopub.execute_input": "2024-11-03T04:30:35.021258Z",
     "iopub.status.busy": "2024-11-03T04:30:35.020959Z",
     "iopub.status.idle": "2024-11-03T04:30:35.029369Z",
     "shell.execute_reply": "2024-11-03T04:30:35.028558Z"
    },
    "papermill": {
     "duration": 0.052959,
     "end_time": "2024-11-03T04:30:35.031281",
     "exception": false,
     "start_time": "2024-11-03T04:30:34.978322",
     "status": "completed"
    },
    "tags": []
   },
   "outputs": [],
   "source": [
    "null_count_for_w = df3[\"Weather_conditions\"].isnull().sum()"
   ]
  },
  {
   "cell_type": "code",
   "execution_count": 54,
   "id": "75437cb0",
   "metadata": {
    "execution": {
     "iopub.execute_input": "2024-11-03T04:30:35.114500Z",
     "iopub.status.busy": "2024-11-03T04:30:35.114216Z",
     "iopub.status.idle": "2024-11-03T04:30:35.119105Z",
     "shell.execute_reply": "2024-11-03T04:30:35.118189Z"
    },
    "papermill": {
     "duration": 0.049099,
     "end_time": "2024-11-03T04:30:35.121025",
     "exception": false,
     "start_time": "2024-11-03T04:30:35.071926",
     "status": "completed"
    },
    "tags": []
   },
   "outputs": [],
   "source": [
    "w_missing_list = []\n",
    "\n",
    "for w_type in w_types:\n",
    "    l = []\n",
    "    for i in range(null_count_for_w//len(w_types)):\n",
    "        l.append(w_type)\n",
    "    w_missing_list.extend(l)"
   ]
  },
  {
   "cell_type": "code",
   "execution_count": 55,
   "id": "4e970075",
   "metadata": {
    "execution": {
     "iopub.execute_input": "2024-11-03T04:30:35.205593Z",
     "iopub.status.busy": "2024-11-03T04:30:35.205265Z",
     "iopub.status.idle": "2024-11-03T04:30:35.223605Z",
     "shell.execute_reply": "2024-11-03T04:30:35.222834Z"
    },
    "papermill": {
     "duration": 0.062783,
     "end_time": "2024-11-03T04:30:35.225533",
     "exception": false,
     "start_time": "2024-11-03T04:30:35.162750",
     "status": "completed"
    },
    "tags": []
   },
   "outputs": [],
   "source": [
    "temp_df = df3[-(df3[\"Weather_conditions\"].isnull())]\n",
    "\n",
    "w_missing_list.extend(temp_df[\"Weather_conditions\"].sample(null_count_for_w-len(w_missing_list)).values)"
   ]
  },
  {
   "cell_type": "code",
   "execution_count": 56,
   "id": "c24f1d6e",
   "metadata": {
    "execution": {
     "iopub.execute_input": "2024-11-03T04:30:35.309417Z",
     "iopub.status.busy": "2024-11-03T04:30:35.308720Z",
     "iopub.status.idle": "2024-11-03T04:30:35.321935Z",
     "shell.execute_reply": "2024-11-03T04:30:35.320900Z"
    },
    "papermill": {
     "duration": 0.057217,
     "end_time": "2024-11-03T04:30:35.323920",
     "exception": false,
     "start_time": "2024-11-03T04:30:35.266703",
     "status": "completed"
    },
    "tags": []
   },
   "outputs": [],
   "source": [
    "w_indices = df3[df3[\"Weather_conditions\"].isnull()].index\n",
    "df3.loc[w_indices,\"Weather_conditions\"] = w_missing_list"
   ]
  },
  {
   "cell_type": "code",
   "execution_count": 57,
   "id": "5a9fdf98",
   "metadata": {
    "execution": {
     "iopub.execute_input": "2024-11-03T04:30:35.406933Z",
     "iopub.status.busy": "2024-11-03T04:30:35.406605Z",
     "iopub.status.idle": "2024-11-03T04:30:35.421040Z",
     "shell.execute_reply": "2024-11-03T04:30:35.420148Z"
    },
    "papermill": {
     "duration": 0.058212,
     "end_time": "2024-11-03T04:30:35.422941",
     "exception": false,
     "start_time": "2024-11-03T04:30:35.364729",
     "status": "completed"
    },
    "scrolled": true,
    "tags": []
   },
   "outputs": [
    {
     "data": {
      "text/plain": [
       "Weather_conditions\n",
       "fog           7106\n",
       "stormy        7070\n",
       "cloudy        7027\n",
       "sandstorms    7001\n",
       "windy         6926\n",
       "sunny         6823\n",
       "Name: count, dtype: int64"
      ]
     },
     "execution_count": 57,
     "metadata": {},
     "output_type": "execute_result"
    }
   ],
   "source": [
    "df3[\"Weather_conditions\"].value_counts()"
   ]
  },
  {
   "cell_type": "markdown",
   "id": "42dd9a87",
   "metadata": {
    "papermill": {
     "duration": 0.042049,
     "end_time": "2024-11-03T04:30:35.508765",
     "exception": false,
     "start_time": "2024-11-03T04:30:35.466716",
     "status": "completed"
    },
    "tags": []
   },
   "source": [
    "## 4. Feature Engineering "
   ]
  },
  {
   "cell_type": "code",
   "execution_count": 58,
   "id": "505daa98",
   "metadata": {
    "execution": {
     "iopub.execute_input": "2024-11-03T04:30:35.594555Z",
     "iopub.status.busy": "2024-11-03T04:30:35.593748Z",
     "iopub.status.idle": "2024-11-03T04:30:35.635863Z",
     "shell.execute_reply": "2024-11-03T04:30:35.634459Z"
    },
    "papermill": {
     "duration": 0.089335,
     "end_time": "2024-11-03T04:30:35.639176",
     "exception": false,
     "start_time": "2024-11-03T04:30:35.549841",
     "status": "completed"
    },
    "tags": []
   },
   "outputs": [],
   "source": [
    "# adding is_weekend col and dayofweek\n",
    "\n",
    "df3[\"day_of_week\"] = df3[\"Order_Date\"].dt.dayofweek # monday = 0 and sunday = 6\n",
    "df3[\"is_weekend\"] = df3[\"day_of_week\"].apply(lambda x:1 if x in [5,6] else 0) # 5 = saturday and 6 = sunday\n",
    "df3[\"quarter\"] = df3[\"Order_Date\"].dt.quarter "
   ]
  },
  {
   "cell_type": "code",
   "execution_count": 59,
   "id": "3d3c64e3",
   "metadata": {
    "execution": {
     "iopub.execute_input": "2024-11-03T04:30:35.740255Z",
     "iopub.status.busy": "2024-11-03T04:30:35.739448Z",
     "iopub.status.idle": "2024-11-03T04:30:35.752298Z",
     "shell.execute_reply": "2024-11-03T04:30:35.751453Z"
    },
    "papermill": {
     "duration": 0.057978,
     "end_time": "2024-11-03T04:30:35.754421",
     "exception": false,
     "start_time": "2024-11-03T04:30:35.696443",
     "status": "completed"
    },
    "tags": []
   },
   "outputs": [
    {
     "data": {
      "text/plain": [
       "array([19, 26, 20, 12, 13,  2, 27,  5,  3,  6], dtype=int32)"
      ]
     },
     "execution_count": 59,
     "metadata": {},
     "output_type": "execute_result"
    }
   ],
   "source": [
    "df3[df3[\"is_weekend\"]==1][\"day\"].unique()"
   ]
  },
  {
   "cell_type": "markdown",
   "id": "96d06a53",
   "metadata": {
    "papermill": {
     "duration": 0.04144,
     "end_time": "2024-11-03T04:30:35.839548",
     "exception": false,
     "start_time": "2024-11-03T04:30:35.798108",
     "status": "completed"
    },
    "tags": []
   },
   "source": [
    "* Feature Transformation"
   ]
  },
  {
   "cell_type": "code",
   "execution_count": 60,
   "id": "bf106aa5",
   "metadata": {
    "execution": {
     "iopub.execute_input": "2024-11-03T04:30:35.923106Z",
     "iopub.status.busy": "2024-11-03T04:30:35.922791Z",
     "iopub.status.idle": "2024-11-03T04:30:36.023685Z",
     "shell.execute_reply": "2024-11-03T04:30:36.022880Z"
    },
    "papermill": {
     "duration": 0.145371,
     "end_time": "2024-11-03T04:30:36.025967",
     "exception": false,
     "start_time": "2024-11-03T04:30:35.880596",
     "status": "completed"
    },
    "tags": []
   },
   "outputs": [],
   "source": [
    "# convert categorical column to numerical form \n",
    "\n",
    "cat_cols = df3.select_dtypes(include = \"object\").columns[2:]\n",
    "\n",
    "label_encoder = LabelEncoder()\n",
    "for col in cat_cols:\n",
    "    df3[col] = label_encoder.fit_transform(df3[col])"
   ]
  },
  {
   "cell_type": "code",
   "execution_count": 61,
   "id": "4820579c",
   "metadata": {
    "execution": {
     "iopub.execute_input": "2024-11-03T04:30:36.110188Z",
     "iopub.status.busy": "2024-11-03T04:30:36.109841Z",
     "iopub.status.idle": "2024-11-03T04:30:36.123380Z",
     "shell.execute_reply": "2024-11-03T04:30:36.122493Z"
    },
    "papermill": {
     "duration": 0.057764,
     "end_time": "2024-11-03T04:30:36.125399",
     "exception": false,
     "start_time": "2024-11-03T04:30:36.067635",
     "status": "completed"
    },
    "tags": []
   },
   "outputs": [
    {
     "data": {
      "text/html": [
       "<div>\n",
       "<style scoped>\n",
       "    .dataframe tbody tr th:only-of-type {\n",
       "        vertical-align: middle;\n",
       "    }\n",
       "\n",
       "    .dataframe tbody tr th {\n",
       "        vertical-align: top;\n",
       "    }\n",
       "\n",
       "    .dataframe thead th {\n",
       "        text-align: right;\n",
       "    }\n",
       "</style>\n",
       "<table border=\"1\" class=\"dataframe\">\n",
       "  <thead>\n",
       "    <tr style=\"text-align: right;\">\n",
       "      <th></th>\n",
       "      <th>Weather_conditions</th>\n",
       "      <th>Road_traffic_density</th>\n",
       "      <th>Type_of_order</th>\n",
       "      <th>Type_of_vehicle</th>\n",
       "      <th>Festival</th>\n",
       "      <th>City_area</th>\n",
       "      <th>City</th>\n",
       "    </tr>\n",
       "  </thead>\n",
       "  <tbody>\n",
       "    <tr>\n",
       "      <th>15957</th>\n",
       "      <td>3</td>\n",
       "      <td>1</td>\n",
       "      <td>3</td>\n",
       "      <td>1</td>\n",
       "      <td>0</td>\n",
       "      <td>0</td>\n",
       "      <td>20</td>\n",
       "    </tr>\n",
       "    <tr>\n",
       "      <th>7484</th>\n",
       "      <td>2</td>\n",
       "      <td>2</td>\n",
       "      <td>3</td>\n",
       "      <td>3</td>\n",
       "      <td>0</td>\n",
       "      <td>2</td>\n",
       "      <td>3</td>\n",
       "    </tr>\n",
       "    <tr>\n",
       "      <th>12169</th>\n",
       "      <td>0</td>\n",
       "      <td>0</td>\n",
       "      <td>2</td>\n",
       "      <td>3</td>\n",
       "      <td>0</td>\n",
       "      <td>2</td>\n",
       "      <td>19</td>\n",
       "    </tr>\n",
       "    <tr>\n",
       "      <th>38646</th>\n",
       "      <td>5</td>\n",
       "      <td>2</td>\n",
       "      <td>2</td>\n",
       "      <td>2</td>\n",
       "      <td>0</td>\n",
       "      <td>0</td>\n",
       "      <td>10</td>\n",
       "    </tr>\n",
       "  </tbody>\n",
       "</table>\n",
       "</div>"
      ],
      "text/plain": [
       "       Weather_conditions  Road_traffic_density  Type_of_order  \\\n",
       "15957                   3                     1              3   \n",
       "7484                    2                     2              3   \n",
       "12169                   0                     0              2   \n",
       "38646                   5                     2              2   \n",
       "\n",
       "       Type_of_vehicle  Festival  City_area  City  \n",
       "15957                1         0          0    20  \n",
       "7484                 3         0          2     3  \n",
       "12169                3         0          2    19  \n",
       "38646                2         0          0    10  "
      ]
     },
     "execution_count": 61,
     "metadata": {},
     "output_type": "execute_result"
    }
   ],
   "source": [
    "df3[cat_cols].sample(4)"
   ]
  },
  {
   "cell_type": "markdown",
   "id": "da9824e7",
   "metadata": {
    "papermill": {
     "duration": 0.04121,
     "end_time": "2024-11-03T04:30:36.211549",
     "exception": false,
     "start_time": "2024-11-03T04:30:36.170339",
     "status": "completed"
    },
    "tags": []
   },
   "source": [
    "* Calculating distance between restaurant loc and delivery loc"
   ]
  },
  {
   "cell_type": "code",
   "execution_count": 62,
   "id": "ac6f9d89",
   "metadata": {
    "execution": {
     "iopub.execute_input": "2024-11-03T04:30:36.296823Z",
     "iopub.status.busy": "2024-11-03T04:30:36.296149Z",
     "iopub.status.idle": "2024-11-03T04:30:36.300580Z",
     "shell.execute_reply": "2024-11-03T04:30:36.299684Z"
    },
    "papermill": {
     "duration": 0.049103,
     "end_time": "2024-11-03T04:30:36.302397",
     "exception": false,
     "start_time": "2024-11-03T04:30:36.253294",
     "status": "completed"
    },
    "tags": []
   },
   "outputs": [],
   "source": [
    "df3.reset_index(drop=True,inplace=True)"
   ]
  },
  {
   "cell_type": "code",
   "execution_count": 63,
   "id": "fd68b4f3",
   "metadata": {
    "execution": {
     "iopub.execute_input": "2024-11-03T04:30:36.386411Z",
     "iopub.status.busy": "2024-11-03T04:30:36.386139Z",
     "iopub.status.idle": "2024-11-03T04:30:36.392309Z",
     "shell.execute_reply": "2024-11-03T04:30:36.391530Z"
    },
    "papermill": {
     "duration": 0.050204,
     "end_time": "2024-11-03T04:30:36.394119",
     "exception": false,
     "start_time": "2024-11-03T04:30:36.343915",
     "status": "completed"
    },
    "tags": []
   },
   "outputs": [],
   "source": [
    "# using haversine method \n",
    "\n",
    "def haversine_distance(loc_list):\n",
    " \n",
    "\n",
    "    # earth's radius in km\n",
    "\n",
    "    R = 6371.0\n",
    "\n",
    "\n",
    "    # convert lat and lon from deg to radians \n",
    "\n",
    "    lat1,lon1,lat2,lon2 = map(np.radians,loc_list)\n",
    "\n",
    "    \n",
    "    # diff between lat and lon\n",
    "\n",
    "    d_lat = lat2 - lat1 \n",
    "\n",
    "    d_lon = lon2 - lon1 \n",
    "\n",
    "        \n",
    "    # applying haversine formula \n",
    "\n",
    "    a = np.sin(d_lat / 2)**2 + np.cos(lat1) * np.cos(lat2) * np.sin(d_lon / 2)**2\n",
    "\n",
    "    c = 2 * np.arctan2(np.sqrt(a), np.sqrt(1 - a))\n",
    "\n",
    "\n",
    "    d = R * c \n",
    "\n",
    "\n",
    "    return round(d,2)"
   ]
  },
  {
   "cell_type": "code",
   "execution_count": 64,
   "id": "bcd0dca9",
   "metadata": {
    "execution": {
     "iopub.execute_input": "2024-11-03T04:30:36.478190Z",
     "iopub.status.busy": "2024-11-03T04:30:36.477919Z",
     "iopub.status.idle": "2024-11-03T04:30:36.481896Z",
     "shell.execute_reply": "2024-11-03T04:30:36.481051Z"
    },
    "papermill": {
     "duration": 0.048485,
     "end_time": "2024-11-03T04:30:36.483802",
     "exception": false,
     "start_time": "2024-11-03T04:30:36.435317",
     "status": "completed"
    },
    "tags": []
   },
   "outputs": [],
   "source": [
    "loc_cols = [\"Restaurant_latitude\",\"Restaurant_longitude\",\"Delivery_location_latitude\",\"Delivery_location_longitude\"]"
   ]
  },
  {
   "cell_type": "code",
   "execution_count": 65,
   "id": "9d516339",
   "metadata": {
    "execution": {
     "iopub.execute_input": "2024-11-03T04:30:36.567295Z",
     "iopub.status.busy": "2024-11-03T04:30:36.567006Z",
     "iopub.status.idle": "2024-11-03T04:30:39.501102Z",
     "shell.execute_reply": "2024-11-03T04:30:39.500311Z"
    },
    "papermill": {
     "duration": 2.978682,
     "end_time": "2024-11-03T04:30:39.503364",
     "exception": false,
     "start_time": "2024-11-03T04:30:36.524682",
     "status": "completed"
    },
    "tags": []
   },
   "outputs": [],
   "source": [
    "distance = []\n",
    "\n",
    "for i in range(len(df3[loc_cols[0]])):\n",
    "    location_list = [df3[loc_cols[j]][i] for j in range(len(loc_cols))]\n",
    "    distance.append(haversine_distance(location_list))"
   ]
  },
  {
   "cell_type": "code",
   "execution_count": 66,
   "id": "2e7cdb54",
   "metadata": {
    "execution": {
     "iopub.execute_input": "2024-11-03T04:30:39.592910Z",
     "iopub.status.busy": "2024-11-03T04:30:39.592531Z",
     "iopub.status.idle": "2024-11-03T04:30:39.610272Z",
     "shell.execute_reply": "2024-11-03T04:30:39.609541Z"
    },
    "papermill": {
     "duration": 0.063866,
     "end_time": "2024-11-03T04:30:39.612118",
     "exception": false,
     "start_time": "2024-11-03T04:30:39.548252",
     "status": "completed"
    },
    "tags": []
   },
   "outputs": [],
   "source": [
    "df3[\"Distance\"] = distance "
   ]
  },
  {
   "cell_type": "code",
   "execution_count": 67,
   "id": "300fa788",
   "metadata": {
    "execution": {
     "iopub.execute_input": "2024-11-03T04:30:39.696127Z",
     "iopub.status.busy": "2024-11-03T04:30:39.695800Z",
     "iopub.status.idle": "2024-11-03T04:30:39.719661Z",
     "shell.execute_reply": "2024-11-03T04:30:39.718745Z"
    },
    "papermill": {
     "duration": 0.068137,
     "end_time": "2024-11-03T04:30:39.721559",
     "exception": false,
     "start_time": "2024-11-03T04:30:39.653422",
     "status": "completed"
    },
    "tags": []
   },
   "outputs": [
    {
     "data": {
      "text/html": [
       "<div>\n",
       "<style scoped>\n",
       "    .dataframe tbody tr th:only-of-type {\n",
       "        vertical-align: middle;\n",
       "    }\n",
       "\n",
       "    .dataframe tbody tr th {\n",
       "        vertical-align: top;\n",
       "    }\n",
       "\n",
       "    .dataframe thead th {\n",
       "        text-align: right;\n",
       "    }\n",
       "</style>\n",
       "<table border=\"1\" class=\"dataframe\">\n",
       "  <thead>\n",
       "    <tr style=\"text-align: right;\">\n",
       "      <th></th>\n",
       "      <th>Delivery_person_Age</th>\n",
       "      <th>Delivery_person_Ratings</th>\n",
       "      <th>Order_Date</th>\n",
       "      <th>Time_Orderd</th>\n",
       "      <th>Time_Order_picked</th>\n",
       "      <th>Weather_conditions</th>\n",
       "      <th>Road_traffic_density</th>\n",
       "      <th>Type_of_order</th>\n",
       "      <th>Type_of_vehicle</th>\n",
       "      <th>multiple_deliveries</th>\n",
       "      <th>...</th>\n",
       "      <th>Delivery_location_latitude</th>\n",
       "      <th>Delivery_location_longitude</th>\n",
       "      <th>Vehicle_condition</th>\n",
       "      <th>Time_taken</th>\n",
       "      <th>month</th>\n",
       "      <th>day</th>\n",
       "      <th>day_of_week</th>\n",
       "      <th>is_weekend</th>\n",
       "      <th>quarter</th>\n",
       "      <th>Distance</th>\n",
       "    </tr>\n",
       "  </thead>\n",
       "  <tbody>\n",
       "    <tr>\n",
       "      <th>0</th>\n",
       "      <td>37.0</td>\n",
       "      <td>4.9</td>\n",
       "      <td>2022-03-19</td>\n",
       "      <td>11:30:00</td>\n",
       "      <td>11:45:00</td>\n",
       "      <td>4</td>\n",
       "      <td>0</td>\n",
       "      <td>3</td>\n",
       "      <td>2</td>\n",
       "      <td>0.0</td>\n",
       "      <td>...</td>\n",
       "      <td>22.765049</td>\n",
       "      <td>75.912471</td>\n",
       "      <td>2</td>\n",
       "      <td>24</td>\n",
       "      <td>3</td>\n",
       "      <td>19</td>\n",
       "      <td>5</td>\n",
       "      <td>1</td>\n",
       "      <td>1</td>\n",
       "      <td>3.03</td>\n",
       "    </tr>\n",
       "    <tr>\n",
       "      <th>1</th>\n",
       "      <td>34.0</td>\n",
       "      <td>4.5</td>\n",
       "      <td>2022-03-25</td>\n",
       "      <td>19:45:00</td>\n",
       "      <td>19:50:00</td>\n",
       "      <td>3</td>\n",
       "      <td>1</td>\n",
       "      <td>3</td>\n",
       "      <td>3</td>\n",
       "      <td>1.0</td>\n",
       "      <td>...</td>\n",
       "      <td>13.043041</td>\n",
       "      <td>77.813237</td>\n",
       "      <td>2</td>\n",
       "      <td>33</td>\n",
       "      <td>3</td>\n",
       "      <td>25</td>\n",
       "      <td>4</td>\n",
       "      <td>0</td>\n",
       "      <td>1</td>\n",
       "      <td>20.18</td>\n",
       "    </tr>\n",
       "    <tr>\n",
       "      <th>2</th>\n",
       "      <td>23.0</td>\n",
       "      <td>4.4</td>\n",
       "      <td>2022-03-19</td>\n",
       "      <td>08:30:00</td>\n",
       "      <td>08:45:00</td>\n",
       "      <td>2</td>\n",
       "      <td>2</td>\n",
       "      <td>1</td>\n",
       "      <td>2</td>\n",
       "      <td>1.0</td>\n",
       "      <td>...</td>\n",
       "      <td>12.924264</td>\n",
       "      <td>77.688400</td>\n",
       "      <td>0</td>\n",
       "      <td>26</td>\n",
       "      <td>3</td>\n",
       "      <td>19</td>\n",
       "      <td>5</td>\n",
       "      <td>1</td>\n",
       "      <td>1</td>\n",
       "      <td>1.55</td>\n",
       "    </tr>\n",
       "    <tr>\n",
       "      <th>3</th>\n",
       "      <td>38.0</td>\n",
       "      <td>4.7</td>\n",
       "      <td>2022-04-05</td>\n",
       "      <td>18:00:00</td>\n",
       "      <td>18:10:00</td>\n",
       "      <td>4</td>\n",
       "      <td>3</td>\n",
       "      <td>0</td>\n",
       "      <td>2</td>\n",
       "      <td>1.0</td>\n",
       "      <td>...</td>\n",
       "      <td>11.053669</td>\n",
       "      <td>77.026494</td>\n",
       "      <td>0</td>\n",
       "      <td>21</td>\n",
       "      <td>4</td>\n",
       "      <td>5</td>\n",
       "      <td>1</td>\n",
       "      <td>0</td>\n",
       "      <td>2</td>\n",
       "      <td>7.79</td>\n",
       "    </tr>\n",
       "    <tr>\n",
       "      <th>4</th>\n",
       "      <td>32.0</td>\n",
       "      <td>4.6</td>\n",
       "      <td>2022-03-26</td>\n",
       "      <td>13:30:00</td>\n",
       "      <td>13:45:00</td>\n",
       "      <td>0</td>\n",
       "      <td>0</td>\n",
       "      <td>3</td>\n",
       "      <td>3</td>\n",
       "      <td>1.0</td>\n",
       "      <td>...</td>\n",
       "      <td>13.012793</td>\n",
       "      <td>80.289982</td>\n",
       "      <td>1</td>\n",
       "      <td>30</td>\n",
       "      <td>3</td>\n",
       "      <td>26</td>\n",
       "      <td>5</td>\n",
       "      <td>1</td>\n",
       "      <td>1</td>\n",
       "      <td>6.21</td>\n",
       "    </tr>\n",
       "  </tbody>\n",
       "</table>\n",
       "<p>5 rows × 25 columns</p>\n",
       "</div>"
      ],
      "text/plain": [
       "   Delivery_person_Age  Delivery_person_Ratings Order_Date Time_Orderd  \\\n",
       "0                 37.0                      4.9 2022-03-19    11:30:00   \n",
       "1                 34.0                      4.5 2022-03-25    19:45:00   \n",
       "2                 23.0                      4.4 2022-03-19    08:30:00   \n",
       "3                 38.0                      4.7 2022-04-05    18:00:00   \n",
       "4                 32.0                      4.6 2022-03-26    13:30:00   \n",
       "\n",
       "  Time_Order_picked  Weather_conditions  Road_traffic_density  Type_of_order  \\\n",
       "0          11:45:00                   4                     0              3   \n",
       "1          19:50:00                   3                     1              3   \n",
       "2          08:45:00                   2                     2              1   \n",
       "3          18:10:00                   4                     3              0   \n",
       "4          13:45:00                   0                     0              3   \n",
       "\n",
       "   Type_of_vehicle  multiple_deliveries  ...  Delivery_location_latitude  \\\n",
       "0                2                  0.0  ...                   22.765049   \n",
       "1                3                  1.0  ...                   13.043041   \n",
       "2                2                  1.0  ...                   12.924264   \n",
       "3                2                  1.0  ...                   11.053669   \n",
       "4                3                  1.0  ...                   13.012793   \n",
       "\n",
       "   Delivery_location_longitude  Vehicle_condition  Time_taken  month  day  \\\n",
       "0                    75.912471                  2          24      3   19   \n",
       "1                    77.813237                  2          33      3   25   \n",
       "2                    77.688400                  0          26      3   19   \n",
       "3                    77.026494                  0          21      4    5   \n",
       "4                    80.289982                  1          30      3   26   \n",
       "\n",
       "   day_of_week  is_weekend  quarter  Distance  \n",
       "0            5           1        1      3.03  \n",
       "1            4           0        1     20.18  \n",
       "2            5           1        1      1.55  \n",
       "3            1           0        2      7.79  \n",
       "4            5           1        1      6.21  \n",
       "\n",
       "[5 rows x 25 columns]"
      ]
     },
     "execution_count": 67,
     "metadata": {},
     "output_type": "execute_result"
    }
   ],
   "source": [
    "df3.head()"
   ]
  },
  {
   "cell_type": "markdown",
   "id": "a0d58af9",
   "metadata": {
    "papermill": {
     "duration": 0.041264,
     "end_time": "2024-11-03T04:30:39.804674",
     "exception": false,
     "start_time": "2024-11-03T04:30:39.763410",
     "status": "completed"
    },
    "tags": []
   },
   "source": [
    "* <b> Now we will impute the order time value by creating another model </b>"
   ]
  },
  {
   "cell_type": "code",
   "execution_count": 68,
   "id": "b629864a",
   "metadata": {
    "execution": {
     "iopub.execute_input": "2024-11-03T04:30:39.889270Z",
     "iopub.status.busy": "2024-11-03T04:30:39.888467Z",
     "iopub.status.idle": "2024-11-03T04:30:39.905466Z",
     "shell.execute_reply": "2024-11-03T04:30:39.904633Z"
    },
    "papermill": {
     "duration": 0.061285,
     "end_time": "2024-11-03T04:30:39.907343",
     "exception": false,
     "start_time": "2024-11-03T04:30:39.846058",
     "status": "completed"
    },
    "tags": []
   },
   "outputs": [
    {
     "data": {
      "text/plain": [
       "Index(['Delivery_person_Age', 'Delivery_person_Ratings', 'Order_Date',\n",
       "       'Time_Orderd', 'Time_Order_picked', 'Weather_conditions',\n",
       "       'Road_traffic_density', 'Type_of_order', 'Type_of_vehicle',\n",
       "       'multiple_deliveries', 'Festival', 'City_area', 'City',\n",
       "       'Restaurant_latitude', 'Restaurant_longitude',\n",
       "       'Delivery_location_latitude', 'Delivery_location_longitude',\n",
       "       'Vehicle_condition', 'Time_taken', 'month', 'day', 'day_of_week',\n",
       "       'is_weekend', 'quarter', 'Distance'],\n",
       "      dtype='object')"
      ]
     },
     "execution_count": 68,
     "metadata": {},
     "output_type": "execute_result"
    }
   ],
   "source": [
    "df5 = df3.copy()\n",
    "df5.columns"
   ]
  },
  {
   "cell_type": "code",
   "execution_count": 69,
   "id": "421aa731",
   "metadata": {
    "execution": {
     "iopub.execute_input": "2024-11-03T04:30:39.992739Z",
     "iopub.status.busy": "2024-11-03T04:30:39.992087Z",
     "iopub.status.idle": "2024-11-03T04:30:40.006384Z",
     "shell.execute_reply": "2024-11-03T04:30:40.005558Z"
    },
    "papermill": {
     "duration": 0.058874,
     "end_time": "2024-11-03T04:30:40.008240",
     "exception": false,
     "start_time": "2024-11-03T04:30:39.949366",
     "status": "completed"
    },
    "tags": []
   },
   "outputs": [
    {
     "data": {
      "text/plain": [
       "(40353, 25)"
      ]
     },
     "execution_count": 69,
     "metadata": {},
     "output_type": "execute_result"
    }
   ],
   "source": [
    "# taking non null order time records for training the model \n",
    "\n",
    "train_val_df = df5[-(df5[\"Time_Orderd\"].isnull())]\n",
    "train_val_df.shape "
   ]
  },
  {
   "cell_type": "code",
   "execution_count": 70,
   "id": "c9bce81e",
   "metadata": {
    "execution": {
     "iopub.execute_input": "2024-11-03T04:30:40.093997Z",
     "iopub.status.busy": "2024-11-03T04:30:40.093709Z",
     "iopub.status.idle": "2024-11-03T04:30:40.107416Z",
     "shell.execute_reply": "2024-11-03T04:30:40.106750Z"
    },
    "papermill": {
     "duration": 0.058585,
     "end_time": "2024-11-03T04:30:40.109295",
     "exception": false,
     "start_time": "2024-11-03T04:30:40.050710",
     "status": "completed"
    },
    "tags": []
   },
   "outputs": [],
   "source": [
    "train_val_df = pd.concat([train_val_df.iloc[:,:13],train_val_df.iloc[:,17:]],axis=1)"
   ]
  },
  {
   "cell_type": "code",
   "execution_count": 71,
   "id": "5cb6de9c",
   "metadata": {
    "execution": {
     "iopub.execute_input": "2024-11-03T04:30:40.195753Z",
     "iopub.status.busy": "2024-11-03T04:30:40.195407Z",
     "iopub.status.idle": "2024-11-03T04:30:40.239315Z",
     "shell.execute_reply": "2024-11-03T04:30:40.238297Z"
    },
    "papermill": {
     "duration": 0.089552,
     "end_time": "2024-11-03T04:30:40.241164",
     "exception": false,
     "start_time": "2024-11-03T04:30:40.151612",
     "status": "completed"
    },
    "tags": []
   },
   "outputs": [
    {
     "name": "stdout",
     "output_type": "stream",
     "text": [
      "True\n",
      "True\n"
     ]
    }
   ],
   "source": [
    "# checking for 24 hour format\n",
    "\n",
    "print((pd.to_datetime(train_val_df[\"Time_Orderd\"]).dt.hour>12).max())\n",
    "print((pd.to_datetime(train_val_df[\"Time_Order_picked\"]).dt.hour>12).max())"
   ]
  },
  {
   "cell_type": "code",
   "execution_count": 72,
   "id": "01b5a307",
   "metadata": {
    "execution": {
     "iopub.execute_input": "2024-11-03T04:30:40.327859Z",
     "iopub.status.busy": "2024-11-03T04:30:40.327488Z",
     "iopub.status.idle": "2024-11-03T04:30:40.347634Z",
     "shell.execute_reply": "2024-11-03T04:30:40.346769Z"
    },
    "papermill": {
     "duration": 0.065997,
     "end_time": "2024-11-03T04:30:40.349432",
     "exception": false,
     "start_time": "2024-11-03T04:30:40.283435",
     "status": "completed"
    },
    "tags": []
   },
   "outputs": [
    {
     "data": {
      "text/plain": [
       "array(['00'], dtype=object)"
      ]
     },
     "execution_count": 72,
     "metadata": {},
     "output_type": "execute_result"
    }
   ],
   "source": [
    "train_val_df[train_val_df[\"Time_Order_picked\"]<train_val_df[\"Time_Orderd\"]][\"Time_Order_picked\"].str.split(\":\").str[0].unique()"
   ]
  },
  {
   "cell_type": "code",
   "execution_count": 73,
   "id": "d55dd4a8",
   "metadata": {
    "execution": {
     "iopub.execute_input": "2024-11-03T04:30:40.436158Z",
     "iopub.status.busy": "2024-11-03T04:30:40.435856Z",
     "iopub.status.idle": "2024-11-03T04:30:40.441239Z",
     "shell.execute_reply": "2024-11-03T04:30:40.440471Z"
    },
    "papermill": {
     "duration": 0.050454,
     "end_time": "2024-11-03T04:30:40.443109",
     "exception": false,
     "start_time": "2024-11-03T04:30:40.392655",
     "status": "completed"
    },
    "tags": []
   },
   "outputs": [],
   "source": [
    "def order_picked_frac(a):\n",
    "    curr_time = sum([int(item) * 3600/60**i for i,item in enumerate(a.split(\":\"))]) \n",
    "    if a.split(\":\")[0]==\"00\":\n",
    "        lag_time = 24 * 3600 \n",
    "        return (lag_time + curr_time)/(24 * 3600)\n",
    "    else:\n",
    "        return curr_time/(24 * 3600)"
   ]
  },
  {
   "cell_type": "code",
   "execution_count": 74,
   "id": "90e3c44d",
   "metadata": {
    "execution": {
     "iopub.execute_input": "2024-11-03T04:30:40.528685Z",
     "iopub.status.busy": "2024-11-03T04:30:40.528367Z",
     "iopub.status.idle": "2024-11-03T04:30:40.675475Z",
     "shell.execute_reply": "2024-11-03T04:30:40.674781Z"
    },
    "papermill": {
     "duration": 0.192248,
     "end_time": "2024-11-03T04:30:40.677460",
     "exception": false,
     "start_time": "2024-11-03T04:30:40.485212",
     "status": "completed"
    },
    "tags": []
   },
   "outputs": [],
   "source": [
    "train_val_df[\"order_picked_frac\"] = train_val_df[\"Time_Order_picked\"].apply(lambda x:order_picked_frac(x))"
   ]
  },
  {
   "cell_type": "code",
   "execution_count": 75,
   "id": "55cbf2ab",
   "metadata": {
    "execution": {
     "iopub.execute_input": "2024-11-03T04:30:40.763488Z",
     "iopub.status.busy": "2024-11-03T04:30:40.763178Z",
     "iopub.status.idle": "2024-11-03T04:30:40.768297Z",
     "shell.execute_reply": "2024-11-03T04:30:40.767568Z"
    },
    "papermill": {
     "duration": 0.050518,
     "end_time": "2024-11-03T04:30:40.770126",
     "exception": false,
     "start_time": "2024-11-03T04:30:40.719608",
     "status": "completed"
    },
    "tags": []
   },
   "outputs": [],
   "source": [
    "def order_time_frac(a):\n",
    "    if sum(map(int,a.split(\":\")))==0:\n",
    "           return 1.0\n",
    "    else:\n",
    "        return sum([int(item) * 3600/60**i for i,item in enumerate(a.split(\":\"))])/(24*3600)"
   ]
  },
  {
   "cell_type": "code",
   "execution_count": 76,
   "id": "fe378888",
   "metadata": {
    "execution": {
     "iopub.execute_input": "2024-11-03T04:30:40.855201Z",
     "iopub.status.busy": "2024-11-03T04:30:40.854912Z",
     "iopub.status.idle": "2024-11-03T04:30:41.027983Z",
     "shell.execute_reply": "2024-11-03T04:30:41.027288Z"
    },
    "papermill": {
     "duration": 0.218106,
     "end_time": "2024-11-03T04:30:41.029993",
     "exception": false,
     "start_time": "2024-11-03T04:30:40.811887",
     "status": "completed"
    },
    "tags": []
   },
   "outputs": [],
   "source": [
    "train_val_df[\"order_time_frac\"] = train_val_df[\"Time_Orderd\"].apply(lambda x:order_time_frac(x))"
   ]
  },
  {
   "cell_type": "code",
   "execution_count": 77,
   "id": "1c4ee592",
   "metadata": {
    "execution": {
     "iopub.execute_input": "2024-11-03T04:30:41.116438Z",
     "iopub.status.busy": "2024-11-03T04:30:41.116101Z",
     "iopub.status.idle": "2024-11-03T04:30:41.138210Z",
     "shell.execute_reply": "2024-11-03T04:30:41.137289Z"
    },
    "papermill": {
     "duration": 0.067947,
     "end_time": "2024-11-03T04:30:41.140266",
     "exception": false,
     "start_time": "2024-11-03T04:30:41.072319",
     "status": "completed"
    },
    "tags": []
   },
   "outputs": [
    {
     "data": {
      "text/html": [
       "<div>\n",
       "<style scoped>\n",
       "    .dataframe tbody tr th:only-of-type {\n",
       "        vertical-align: middle;\n",
       "    }\n",
       "\n",
       "    .dataframe tbody tr th {\n",
       "        vertical-align: top;\n",
       "    }\n",
       "\n",
       "    .dataframe thead th {\n",
       "        text-align: right;\n",
       "    }\n",
       "</style>\n",
       "<table border=\"1\" class=\"dataframe\">\n",
       "  <thead>\n",
       "    <tr style=\"text-align: right;\">\n",
       "      <th></th>\n",
       "      <th>Delivery_person_Age</th>\n",
       "      <th>Delivery_person_Ratings</th>\n",
       "      <th>Order_Date</th>\n",
       "      <th>Time_Orderd</th>\n",
       "      <th>Time_Order_picked</th>\n",
       "      <th>Weather_conditions</th>\n",
       "      <th>Road_traffic_density</th>\n",
       "      <th>Type_of_order</th>\n",
       "      <th>Type_of_vehicle</th>\n",
       "      <th>multiple_deliveries</th>\n",
       "      <th>...</th>\n",
       "      <th>Vehicle_condition</th>\n",
       "      <th>Time_taken</th>\n",
       "      <th>month</th>\n",
       "      <th>day</th>\n",
       "      <th>day_of_week</th>\n",
       "      <th>is_weekend</th>\n",
       "      <th>quarter</th>\n",
       "      <th>Distance</th>\n",
       "      <th>order_picked_frac</th>\n",
       "      <th>order_time_frac</th>\n",
       "    </tr>\n",
       "  </thead>\n",
       "  <tbody>\n",
       "    <tr>\n",
       "      <th>0</th>\n",
       "      <td>37.0</td>\n",
       "      <td>4.9</td>\n",
       "      <td>2022-03-19</td>\n",
       "      <td>11:30:00</td>\n",
       "      <td>11:45:00</td>\n",
       "      <td>4</td>\n",
       "      <td>0</td>\n",
       "      <td>3</td>\n",
       "      <td>2</td>\n",
       "      <td>0.0</td>\n",
       "      <td>...</td>\n",
       "      <td>2</td>\n",
       "      <td>24</td>\n",
       "      <td>3</td>\n",
       "      <td>19</td>\n",
       "      <td>5</td>\n",
       "      <td>1</td>\n",
       "      <td>1</td>\n",
       "      <td>3.03</td>\n",
       "      <td>0.489583</td>\n",
       "      <td>0.479167</td>\n",
       "    </tr>\n",
       "    <tr>\n",
       "      <th>1</th>\n",
       "      <td>34.0</td>\n",
       "      <td>4.5</td>\n",
       "      <td>2022-03-25</td>\n",
       "      <td>19:45:00</td>\n",
       "      <td>19:50:00</td>\n",
       "      <td>3</td>\n",
       "      <td>1</td>\n",
       "      <td>3</td>\n",
       "      <td>3</td>\n",
       "      <td>1.0</td>\n",
       "      <td>...</td>\n",
       "      <td>2</td>\n",
       "      <td>33</td>\n",
       "      <td>3</td>\n",
       "      <td>25</td>\n",
       "      <td>4</td>\n",
       "      <td>0</td>\n",
       "      <td>1</td>\n",
       "      <td>20.18</td>\n",
       "      <td>0.826389</td>\n",
       "      <td>0.822917</td>\n",
       "    </tr>\n",
       "    <tr>\n",
       "      <th>2</th>\n",
       "      <td>23.0</td>\n",
       "      <td>4.4</td>\n",
       "      <td>2022-03-19</td>\n",
       "      <td>08:30:00</td>\n",
       "      <td>08:45:00</td>\n",
       "      <td>2</td>\n",
       "      <td>2</td>\n",
       "      <td>1</td>\n",
       "      <td>2</td>\n",
       "      <td>1.0</td>\n",
       "      <td>...</td>\n",
       "      <td>0</td>\n",
       "      <td>26</td>\n",
       "      <td>3</td>\n",
       "      <td>19</td>\n",
       "      <td>5</td>\n",
       "      <td>1</td>\n",
       "      <td>1</td>\n",
       "      <td>1.55</td>\n",
       "      <td>0.364583</td>\n",
       "      <td>0.354167</td>\n",
       "    </tr>\n",
       "    <tr>\n",
       "      <th>3</th>\n",
       "      <td>38.0</td>\n",
       "      <td>4.7</td>\n",
       "      <td>2022-04-05</td>\n",
       "      <td>18:00:00</td>\n",
       "      <td>18:10:00</td>\n",
       "      <td>4</td>\n",
       "      <td>3</td>\n",
       "      <td>0</td>\n",
       "      <td>2</td>\n",
       "      <td>1.0</td>\n",
       "      <td>...</td>\n",
       "      <td>0</td>\n",
       "      <td>21</td>\n",
       "      <td>4</td>\n",
       "      <td>5</td>\n",
       "      <td>1</td>\n",
       "      <td>0</td>\n",
       "      <td>2</td>\n",
       "      <td>7.79</td>\n",
       "      <td>0.756944</td>\n",
       "      <td>0.750000</td>\n",
       "    </tr>\n",
       "    <tr>\n",
       "      <th>4</th>\n",
       "      <td>32.0</td>\n",
       "      <td>4.6</td>\n",
       "      <td>2022-03-26</td>\n",
       "      <td>13:30:00</td>\n",
       "      <td>13:45:00</td>\n",
       "      <td>0</td>\n",
       "      <td>0</td>\n",
       "      <td>3</td>\n",
       "      <td>3</td>\n",
       "      <td>1.0</td>\n",
       "      <td>...</td>\n",
       "      <td>1</td>\n",
       "      <td>30</td>\n",
       "      <td>3</td>\n",
       "      <td>26</td>\n",
       "      <td>5</td>\n",
       "      <td>1</td>\n",
       "      <td>1</td>\n",
       "      <td>6.21</td>\n",
       "      <td>0.572917</td>\n",
       "      <td>0.562500</td>\n",
       "    </tr>\n",
       "  </tbody>\n",
       "</table>\n",
       "<p>5 rows × 23 columns</p>\n",
       "</div>"
      ],
      "text/plain": [
       "   Delivery_person_Age  Delivery_person_Ratings Order_Date Time_Orderd  \\\n",
       "0                 37.0                      4.9 2022-03-19    11:30:00   \n",
       "1                 34.0                      4.5 2022-03-25    19:45:00   \n",
       "2                 23.0                      4.4 2022-03-19    08:30:00   \n",
       "3                 38.0                      4.7 2022-04-05    18:00:00   \n",
       "4                 32.0                      4.6 2022-03-26    13:30:00   \n",
       "\n",
       "  Time_Order_picked  Weather_conditions  Road_traffic_density  Type_of_order  \\\n",
       "0          11:45:00                   4                     0              3   \n",
       "1          19:50:00                   3                     1              3   \n",
       "2          08:45:00                   2                     2              1   \n",
       "3          18:10:00                   4                     3              0   \n",
       "4          13:45:00                   0                     0              3   \n",
       "\n",
       "   Type_of_vehicle  multiple_deliveries  ...  Vehicle_condition  Time_taken  \\\n",
       "0                2                  0.0  ...                  2          24   \n",
       "1                3                  1.0  ...                  2          33   \n",
       "2                2                  1.0  ...                  0          26   \n",
       "3                2                  1.0  ...                  0          21   \n",
       "4                3                  1.0  ...                  1          30   \n",
       "\n",
       "   month  day  day_of_week  is_weekend  quarter  Distance  order_picked_frac  \\\n",
       "0      3   19            5           1        1      3.03           0.489583   \n",
       "1      3   25            4           0        1     20.18           0.826389   \n",
       "2      3   19            5           1        1      1.55           0.364583   \n",
       "3      4    5            1           0        2      7.79           0.756944   \n",
       "4      3   26            5           1        1      6.21           0.572917   \n",
       "\n",
       "   order_time_frac  \n",
       "0         0.479167  \n",
       "1         0.822917  \n",
       "2         0.354167  \n",
       "3         0.750000  \n",
       "4         0.562500  \n",
       "\n",
       "[5 rows x 23 columns]"
      ]
     },
     "execution_count": 77,
     "metadata": {},
     "output_type": "execute_result"
    }
   ],
   "source": [
    "train_val_df.head()"
   ]
  },
  {
   "cell_type": "code",
   "execution_count": 78,
   "id": "13309540",
   "metadata": {
    "execution": {
     "iopub.execute_input": "2024-11-03T04:30:41.227926Z",
     "iopub.status.busy": "2024-11-03T04:30:41.227613Z",
     "iopub.status.idle": "2024-11-03T04:30:41.233961Z",
     "shell.execute_reply": "2024-11-03T04:30:41.233236Z"
    },
    "papermill": {
     "duration": 0.052175,
     "end_time": "2024-11-03T04:30:41.235857",
     "exception": false,
     "start_time": "2024-11-03T04:30:41.183682",
     "status": "completed"
    },
    "tags": []
   },
   "outputs": [],
   "source": [
    "X = train_val_df.drop([\"Order_Date\",\"Time_Orderd\",\"Time_Order_picked\",\"order_time_frac\"],axis=1)\n",
    "y = train_val_df[\"order_time_frac\"]"
   ]
  },
  {
   "cell_type": "code",
   "execution_count": 79,
   "id": "125e2145",
   "metadata": {
    "execution": {
     "iopub.execute_input": "2024-11-03T04:30:41.323312Z",
     "iopub.status.busy": "2024-11-03T04:30:41.322601Z",
     "iopub.status.idle": "2024-11-03T04:30:41.341801Z",
     "shell.execute_reply": "2024-11-03T04:30:41.340964Z"
    },
    "papermill": {
     "duration": 0.06546,
     "end_time": "2024-11-03T04:30:41.343940",
     "exception": false,
     "start_time": "2024-11-03T04:30:41.278480",
     "status": "completed"
    },
    "tags": []
   },
   "outputs": [
    {
     "data": {
      "text/html": [
       "<div>\n",
       "<style scoped>\n",
       "    .dataframe tbody tr th:only-of-type {\n",
       "        vertical-align: middle;\n",
       "    }\n",
       "\n",
       "    .dataframe tbody tr th {\n",
       "        vertical-align: top;\n",
       "    }\n",
       "\n",
       "    .dataframe thead th {\n",
       "        text-align: right;\n",
       "    }\n",
       "</style>\n",
       "<table border=\"1\" class=\"dataframe\">\n",
       "  <thead>\n",
       "    <tr style=\"text-align: right;\">\n",
       "      <th></th>\n",
       "      <th>Delivery_person_Age</th>\n",
       "      <th>Delivery_person_Ratings</th>\n",
       "      <th>Weather_conditions</th>\n",
       "      <th>Road_traffic_density</th>\n",
       "      <th>Type_of_order</th>\n",
       "      <th>Type_of_vehicle</th>\n",
       "      <th>multiple_deliveries</th>\n",
       "      <th>Festival</th>\n",
       "      <th>City_area</th>\n",
       "      <th>City</th>\n",
       "      <th>Vehicle_condition</th>\n",
       "      <th>Time_taken</th>\n",
       "      <th>month</th>\n",
       "      <th>day</th>\n",
       "      <th>day_of_week</th>\n",
       "      <th>is_weekend</th>\n",
       "      <th>quarter</th>\n",
       "      <th>Distance</th>\n",
       "      <th>order_picked_frac</th>\n",
       "    </tr>\n",
       "  </thead>\n",
       "  <tbody>\n",
       "    <tr>\n",
       "      <th>0</th>\n",
       "      <td>37.0</td>\n",
       "      <td>4.9</td>\n",
       "      <td>4</td>\n",
       "      <td>0</td>\n",
       "      <td>3</td>\n",
       "      <td>2</td>\n",
       "      <td>0.0</td>\n",
       "      <td>0</td>\n",
       "      <td>2</td>\n",
       "      <td>10</td>\n",
       "      <td>2</td>\n",
       "      <td>24</td>\n",
       "      <td>3</td>\n",
       "      <td>19</td>\n",
       "      <td>5</td>\n",
       "      <td>1</td>\n",
       "      <td>1</td>\n",
       "      <td>3.03</td>\n",
       "      <td>0.489583</td>\n",
       "    </tr>\n",
       "    <tr>\n",
       "      <th>1</th>\n",
       "      <td>34.0</td>\n",
       "      <td>4.5</td>\n",
       "      <td>3</td>\n",
       "      <td>1</td>\n",
       "      <td>3</td>\n",
       "      <td>3</td>\n",
       "      <td>1.0</td>\n",
       "      <td>0</td>\n",
       "      <td>0</td>\n",
       "      <td>3</td>\n",
       "      <td>2</td>\n",
       "      <td>33</td>\n",
       "      <td>3</td>\n",
       "      <td>25</td>\n",
       "      <td>4</td>\n",
       "      <td>0</td>\n",
       "      <td>1</td>\n",
       "      <td>20.18</td>\n",
       "      <td>0.826389</td>\n",
       "    </tr>\n",
       "    <tr>\n",
       "      <th>2</th>\n",
       "      <td>23.0</td>\n",
       "      <td>4.4</td>\n",
       "      <td>2</td>\n",
       "      <td>2</td>\n",
       "      <td>1</td>\n",
       "      <td>2</td>\n",
       "      <td>1.0</td>\n",
       "      <td>0</td>\n",
       "      <td>2</td>\n",
       "      <td>3</td>\n",
       "      <td>0</td>\n",
       "      <td>26</td>\n",
       "      <td>3</td>\n",
       "      <td>19</td>\n",
       "      <td>5</td>\n",
       "      <td>1</td>\n",
       "      <td>1</td>\n",
       "      <td>1.55</td>\n",
       "      <td>0.364583</td>\n",
       "    </tr>\n",
       "    <tr>\n",
       "      <th>3</th>\n",
       "      <td>38.0</td>\n",
       "      <td>4.7</td>\n",
       "      <td>4</td>\n",
       "      <td>3</td>\n",
       "      <td>0</td>\n",
       "      <td>2</td>\n",
       "      <td>1.0</td>\n",
       "      <td>0</td>\n",
       "      <td>0</td>\n",
       "      <td>6</td>\n",
       "      <td>0</td>\n",
       "      <td>21</td>\n",
       "      <td>4</td>\n",
       "      <td>5</td>\n",
       "      <td>1</td>\n",
       "      <td>0</td>\n",
       "      <td>2</td>\n",
       "      <td>7.79</td>\n",
       "      <td>0.756944</td>\n",
       "    </tr>\n",
       "    <tr>\n",
       "      <th>4</th>\n",
       "      <td>32.0</td>\n",
       "      <td>4.6</td>\n",
       "      <td>0</td>\n",
       "      <td>0</td>\n",
       "      <td>3</td>\n",
       "      <td>3</td>\n",
       "      <td>1.0</td>\n",
       "      <td>0</td>\n",
       "      <td>0</td>\n",
       "      <td>5</td>\n",
       "      <td>1</td>\n",
       "      <td>30</td>\n",
       "      <td>3</td>\n",
       "      <td>26</td>\n",
       "      <td>5</td>\n",
       "      <td>1</td>\n",
       "      <td>1</td>\n",
       "      <td>6.21</td>\n",
       "      <td>0.572917</td>\n",
       "    </tr>\n",
       "  </tbody>\n",
       "</table>\n",
       "</div>"
      ],
      "text/plain": [
       "   Delivery_person_Age  Delivery_person_Ratings  Weather_conditions  \\\n",
       "0                 37.0                      4.9                   4   \n",
       "1                 34.0                      4.5                   3   \n",
       "2                 23.0                      4.4                   2   \n",
       "3                 38.0                      4.7                   4   \n",
       "4                 32.0                      4.6                   0   \n",
       "\n",
       "   Road_traffic_density  Type_of_order  Type_of_vehicle  multiple_deliveries  \\\n",
       "0                     0              3                2                  0.0   \n",
       "1                     1              3                3                  1.0   \n",
       "2                     2              1                2                  1.0   \n",
       "3                     3              0                2                  1.0   \n",
       "4                     0              3                3                  1.0   \n",
       "\n",
       "   Festival  City_area  City  Vehicle_condition  Time_taken  month  day  \\\n",
       "0         0          2    10                  2          24      3   19   \n",
       "1         0          0     3                  2          33      3   25   \n",
       "2         0          2     3                  0          26      3   19   \n",
       "3         0          0     6                  0          21      4    5   \n",
       "4         0          0     5                  1          30      3   26   \n",
       "\n",
       "   day_of_week  is_weekend  quarter  Distance  order_picked_frac  \n",
       "0            5           1        1      3.03           0.489583  \n",
       "1            4           0        1     20.18           0.826389  \n",
       "2            5           1        1      1.55           0.364583  \n",
       "3            1           0        2      7.79           0.756944  \n",
       "4            5           1        1      6.21           0.572917  "
      ]
     },
     "execution_count": 79,
     "metadata": {},
     "output_type": "execute_result"
    }
   ],
   "source": [
    "X.head()"
   ]
  },
  {
   "cell_type": "code",
   "execution_count": 80,
   "id": "dd0545a4",
   "metadata": {
    "execution": {
     "iopub.execute_input": "2024-11-03T04:30:41.431205Z",
     "iopub.status.busy": "2024-11-03T04:30:41.430928Z",
     "iopub.status.idle": "2024-11-03T04:30:41.437511Z",
     "shell.execute_reply": "2024-11-03T04:30:41.436686Z"
    },
    "papermill": {
     "duration": 0.052299,
     "end_time": "2024-11-03T04:30:41.439432",
     "exception": false,
     "start_time": "2024-11-03T04:30:41.387133",
     "status": "completed"
    },
    "tags": []
   },
   "outputs": [
    {
     "data": {
      "text/plain": [
       "0    0.479167\n",
       "1    0.822917\n",
       "2    0.354167\n",
       "3    0.750000\n",
       "4    0.562500\n",
       "Name: order_time_frac, dtype: float64"
      ]
     },
     "execution_count": 80,
     "metadata": {},
     "output_type": "execute_result"
    }
   ],
   "source": [
    "y.head()"
   ]
  },
  {
   "cell_type": "code",
   "execution_count": 81,
   "id": "dc0925e9",
   "metadata": {
    "execution": {
     "iopub.execute_input": "2024-11-03T04:30:41.526970Z",
     "iopub.status.busy": "2024-11-03T04:30:41.526400Z",
     "iopub.status.idle": "2024-11-03T04:30:41.540014Z",
     "shell.execute_reply": "2024-11-03T04:30:41.538986Z"
    },
    "papermill": {
     "duration": 0.059184,
     "end_time": "2024-11-03T04:30:41.541954",
     "exception": false,
     "start_time": "2024-11-03T04:30:41.482770",
     "status": "completed"
    },
    "tags": []
   },
   "outputs": [
    {
     "name": "stdout",
     "output_type": "stream",
     "text": [
      "X_train_Shape:(34300, 19)\n",
      "X_test_Shape:(6053, 19)\n",
      "y_train.shape:(34300,)\n",
      "y_test.shape:(6053,)\n"
     ]
    }
   ],
   "source": [
    "X_train,X_test,y_train,y_test = train_test_split(X,y,test_size=0.15,random_state = 42)\n",
    "\n",
    "print(f\"X_train_Shape:{X_train.shape}\")\n",
    "print(f\"X_test_Shape:{X_test.shape}\")\n",
    "print(f\"y_train.shape:{y_train.shape}\")\n",
    "print(f\"y_test.shape:{y_test.shape}\")"
   ]
  },
  {
   "cell_type": "code",
   "execution_count": 82,
   "id": "2553161e",
   "metadata": {
    "execution": {
     "iopub.execute_input": "2024-11-03T04:30:41.631861Z",
     "iopub.status.busy": "2024-11-03T04:30:41.631294Z",
     "iopub.status.idle": "2024-11-03T04:30:46.728531Z",
     "shell.execute_reply": "2024-11-03T04:30:46.727569Z"
    },
    "papermill": {
     "duration": 5.144856,
     "end_time": "2024-11-03T04:30:46.730543",
     "exception": false,
     "start_time": "2024-11-03T04:30:41.585687",
     "status": "completed"
    },
    "tags": []
   },
   "outputs": [
    {
     "data": {
      "text/html": [
       "<style>#sk-container-id-1 {color: black;background-color: white;}#sk-container-id-1 pre{padding: 0;}#sk-container-id-1 div.sk-toggleable {background-color: white;}#sk-container-id-1 label.sk-toggleable__label {cursor: pointer;display: block;width: 100%;margin-bottom: 0;padding: 0.3em;box-sizing: border-box;text-align: center;}#sk-container-id-1 label.sk-toggleable__label-arrow:before {content: \"▸\";float: left;margin-right: 0.25em;color: #696969;}#sk-container-id-1 label.sk-toggleable__label-arrow:hover:before {color: black;}#sk-container-id-1 div.sk-estimator:hover label.sk-toggleable__label-arrow:before {color: black;}#sk-container-id-1 div.sk-toggleable__content {max-height: 0;max-width: 0;overflow: hidden;text-align: left;background-color: #f0f8ff;}#sk-container-id-1 div.sk-toggleable__content pre {margin: 0.2em;color: black;border-radius: 0.25em;background-color: #f0f8ff;}#sk-container-id-1 input.sk-toggleable__control:checked~div.sk-toggleable__content {max-height: 200px;max-width: 100%;overflow: auto;}#sk-container-id-1 input.sk-toggleable__control:checked~label.sk-toggleable__label-arrow:before {content: \"▾\";}#sk-container-id-1 div.sk-estimator input.sk-toggleable__control:checked~label.sk-toggleable__label {background-color: #d4ebff;}#sk-container-id-1 div.sk-label input.sk-toggleable__control:checked~label.sk-toggleable__label {background-color: #d4ebff;}#sk-container-id-1 input.sk-hidden--visually {border: 0;clip: rect(1px 1px 1px 1px);clip: rect(1px, 1px, 1px, 1px);height: 1px;margin: -1px;overflow: hidden;padding: 0;position: absolute;width: 1px;}#sk-container-id-1 div.sk-estimator {font-family: monospace;background-color: #f0f8ff;border: 1px dotted black;border-radius: 0.25em;box-sizing: border-box;margin-bottom: 0.5em;}#sk-container-id-1 div.sk-estimator:hover {background-color: #d4ebff;}#sk-container-id-1 div.sk-parallel-item::after {content: \"\";width: 100%;border-bottom: 1px solid gray;flex-grow: 1;}#sk-container-id-1 div.sk-label:hover label.sk-toggleable__label {background-color: #d4ebff;}#sk-container-id-1 div.sk-serial::before {content: \"\";position: absolute;border-left: 1px solid gray;box-sizing: border-box;top: 0;bottom: 0;left: 50%;z-index: 0;}#sk-container-id-1 div.sk-serial {display: flex;flex-direction: column;align-items: center;background-color: white;padding-right: 0.2em;padding-left: 0.2em;position: relative;}#sk-container-id-1 div.sk-item {position: relative;z-index: 1;}#sk-container-id-1 div.sk-parallel {display: flex;align-items: stretch;justify-content: center;background-color: white;position: relative;}#sk-container-id-1 div.sk-item::before, #sk-container-id-1 div.sk-parallel-item::before {content: \"\";position: absolute;border-left: 1px solid gray;box-sizing: border-box;top: 0;bottom: 0;left: 50%;z-index: -1;}#sk-container-id-1 div.sk-parallel-item {display: flex;flex-direction: column;z-index: 1;position: relative;background-color: white;}#sk-container-id-1 div.sk-parallel-item:first-child::after {align-self: flex-end;width: 50%;}#sk-container-id-1 div.sk-parallel-item:last-child::after {align-self: flex-start;width: 50%;}#sk-container-id-1 div.sk-parallel-item:only-child::after {width: 0;}#sk-container-id-1 div.sk-dashed-wrapped {border: 1px dashed gray;margin: 0 0.4em 0.5em 0.4em;box-sizing: border-box;padding-bottom: 0.4em;background-color: white;}#sk-container-id-1 div.sk-label label {font-family: monospace;font-weight: bold;display: inline-block;line-height: 1.2em;}#sk-container-id-1 div.sk-label-container {text-align: center;}#sk-container-id-1 div.sk-container {/* jupyter's `normalize.less` sets `[hidden] { display: none; }` but bootstrap.min.css set `[hidden] { display: none !important; }` so we also need the `!important` here to be able to override the default hidden behavior on the sphinx rendered scikit-learn.org. See: https://github.com/scikit-learn/scikit-learn/issues/21755 */display: inline-block !important;position: relative;}#sk-container-id-1 div.sk-text-repr-fallback {display: none;}</style><div id=\"sk-container-id-1\" class=\"sk-top-container\"><div class=\"sk-text-repr-fallback\"><pre>RandomForestRegressor(max_depth=15, max_features=&#x27;sqrt&#x27;, n_estimators=150)</pre><b>In a Jupyter environment, please rerun this cell to show the HTML representation or trust the notebook. <br />On GitHub, the HTML representation is unable to render, please try loading this page with nbviewer.org.</b></div><div class=\"sk-container\" hidden><div class=\"sk-item\"><div class=\"sk-estimator sk-toggleable\"><input class=\"sk-toggleable__control sk-hidden--visually\" id=\"sk-estimator-id-1\" type=\"checkbox\" checked><label for=\"sk-estimator-id-1\" class=\"sk-toggleable__label sk-toggleable__label-arrow\">RandomForestRegressor</label><div class=\"sk-toggleable__content\"><pre>RandomForestRegressor(max_depth=15, max_features=&#x27;sqrt&#x27;, n_estimators=150)</pre></div></div></div></div></div>"
      ],
      "text/plain": [
       "RandomForestRegressor(max_depth=15, max_features='sqrt', n_estimators=150)"
      ]
     },
     "execution_count": 82,
     "metadata": {},
     "output_type": "execute_result"
    }
   ],
   "source": [
    "# training model \n",
    "\n",
    "rf = RandomForestRegressor(n_estimators = 150,max_features = \"sqrt\",max_depth = 15 )\n",
    "rf.fit(X_train,y_train)"
   ]
  },
  {
   "cell_type": "code",
   "execution_count": 83,
   "id": "52a47804",
   "metadata": {
    "execution": {
     "iopub.execute_input": "2024-11-03T04:30:46.820816Z",
     "iopub.status.busy": "2024-11-03T04:30:46.820454Z",
     "iopub.status.idle": "2024-11-03T04:30:47.725854Z",
     "shell.execute_reply": "2024-11-03T04:30:47.724837Z"
    },
    "papermill": {
     "duration": 0.952707,
     "end_time": "2024-11-03T04:30:47.727888",
     "exception": false,
     "start_time": "2024-11-03T04:30:46.775181",
     "status": "completed"
    },
    "tags": []
   },
   "outputs": [
    {
     "name": "stdout",
     "output_type": "stream",
     "text": [
      "Training accuracy:0.998949553426968\n",
      "Test accuracy:0.998060638661237\n"
     ]
    }
   ],
   "source": [
    "print(f\"Training accuracy:{rf.score(X_train,y_train)}\")\n",
    "print(f\"Test accuracy:{rf.score(X_test,y_test)}\")"
   ]
  },
  {
   "cell_type": "code",
   "execution_count": 84,
   "id": "e21839ba",
   "metadata": {
    "execution": {
     "iopub.execute_input": "2024-11-03T04:30:47.818738Z",
     "iopub.status.busy": "2024-11-03T04:30:47.818119Z",
     "iopub.status.idle": "2024-11-03T04:30:47.989651Z",
     "shell.execute_reply": "2024-11-03T04:30:47.988762Z"
    },
    "papermill": {
     "duration": 0.218637,
     "end_time": "2024-11-03T04:30:47.991626",
     "exception": false,
     "start_time": "2024-11-03T04:30:47.772989",
     "status": "completed"
    },
    "tags": []
   },
   "outputs": [
    {
     "data": {
      "text/html": [
       "<div>\n",
       "<style scoped>\n",
       "    .dataframe tbody tr th:only-of-type {\n",
       "        vertical-align: middle;\n",
       "    }\n",
       "\n",
       "    .dataframe tbody tr th {\n",
       "        vertical-align: top;\n",
       "    }\n",
       "\n",
       "    .dataframe thead th {\n",
       "        text-align: right;\n",
       "    }\n",
       "</style>\n",
       "<table border=\"1\" class=\"dataframe\">\n",
       "  <thead>\n",
       "    <tr style=\"text-align: right;\">\n",
       "      <th></th>\n",
       "      <th>y_test_pred</th>\n",
       "      <th>y_test</th>\n",
       "    </tr>\n",
       "  </thead>\n",
       "  <tbody>\n",
       "    <tr>\n",
       "      <th>29923</th>\n",
       "      <td>0.846145</td>\n",
       "      <td>0.843750</td>\n",
       "    </tr>\n",
       "    <tr>\n",
       "      <th>11787</th>\n",
       "      <td>0.767657</td>\n",
       "      <td>0.770833</td>\n",
       "    </tr>\n",
       "    <tr>\n",
       "      <th>13395</th>\n",
       "      <td>0.736173</td>\n",
       "      <td>0.715278</td>\n",
       "    </tr>\n",
       "    <tr>\n",
       "      <th>7564</th>\n",
       "      <td>0.951710</td>\n",
       "      <td>0.958333</td>\n",
       "    </tr>\n",
       "    <tr>\n",
       "      <th>1041</th>\n",
       "      <td>0.978176</td>\n",
       "      <td>0.979167</td>\n",
       "    </tr>\n",
       "  </tbody>\n",
       "</table>\n",
       "</div>"
      ],
      "text/plain": [
       "       y_test_pred    y_test\n",
       "29923     0.846145  0.843750\n",
       "11787     0.767657  0.770833\n",
       "13395     0.736173  0.715278\n",
       "7564      0.951710  0.958333\n",
       "1041      0.978176  0.979167"
      ]
     },
     "execution_count": 84,
     "metadata": {},
     "output_type": "execute_result"
    }
   ],
   "source": [
    "y_test_pred = rf.predict(X_test)\n",
    "\n",
    "pred_df = pd.DataFrame({\"y_test_pred\":y_test_pred,\"y_test\":y_test})\n",
    "pred_df.sample(5)"
   ]
  },
  {
   "cell_type": "code",
   "execution_count": 85,
   "id": "38f3d05b",
   "metadata": {
    "execution": {
     "iopub.execute_input": "2024-11-03T04:30:48.082370Z",
     "iopub.status.busy": "2024-11-03T04:30:48.081835Z",
     "iopub.status.idle": "2024-11-03T04:30:53.908434Z",
     "shell.execute_reply": "2024-11-03T04:30:53.907503Z"
    },
    "papermill": {
     "duration": 5.87383,
     "end_time": "2024-11-03T04:30:53.910604",
     "exception": false,
     "start_time": "2024-11-03T04:30:48.036774",
     "status": "completed"
    },
    "tags": []
   },
   "outputs": [
    {
     "data": {
      "text/html": [
       "<style>#sk-container-id-2 {color: black;background-color: white;}#sk-container-id-2 pre{padding: 0;}#sk-container-id-2 div.sk-toggleable {background-color: white;}#sk-container-id-2 label.sk-toggleable__label {cursor: pointer;display: block;width: 100%;margin-bottom: 0;padding: 0.3em;box-sizing: border-box;text-align: center;}#sk-container-id-2 label.sk-toggleable__label-arrow:before {content: \"▸\";float: left;margin-right: 0.25em;color: #696969;}#sk-container-id-2 label.sk-toggleable__label-arrow:hover:before {color: black;}#sk-container-id-2 div.sk-estimator:hover label.sk-toggleable__label-arrow:before {color: black;}#sk-container-id-2 div.sk-toggleable__content {max-height: 0;max-width: 0;overflow: hidden;text-align: left;background-color: #f0f8ff;}#sk-container-id-2 div.sk-toggleable__content pre {margin: 0.2em;color: black;border-radius: 0.25em;background-color: #f0f8ff;}#sk-container-id-2 input.sk-toggleable__control:checked~div.sk-toggleable__content {max-height: 200px;max-width: 100%;overflow: auto;}#sk-container-id-2 input.sk-toggleable__control:checked~label.sk-toggleable__label-arrow:before {content: \"▾\";}#sk-container-id-2 div.sk-estimator input.sk-toggleable__control:checked~label.sk-toggleable__label {background-color: #d4ebff;}#sk-container-id-2 div.sk-label input.sk-toggleable__control:checked~label.sk-toggleable__label {background-color: #d4ebff;}#sk-container-id-2 input.sk-hidden--visually {border: 0;clip: rect(1px 1px 1px 1px);clip: rect(1px, 1px, 1px, 1px);height: 1px;margin: -1px;overflow: hidden;padding: 0;position: absolute;width: 1px;}#sk-container-id-2 div.sk-estimator {font-family: monospace;background-color: #f0f8ff;border: 1px dotted black;border-radius: 0.25em;box-sizing: border-box;margin-bottom: 0.5em;}#sk-container-id-2 div.sk-estimator:hover {background-color: #d4ebff;}#sk-container-id-2 div.sk-parallel-item::after {content: \"\";width: 100%;border-bottom: 1px solid gray;flex-grow: 1;}#sk-container-id-2 div.sk-label:hover label.sk-toggleable__label {background-color: #d4ebff;}#sk-container-id-2 div.sk-serial::before {content: \"\";position: absolute;border-left: 1px solid gray;box-sizing: border-box;top: 0;bottom: 0;left: 50%;z-index: 0;}#sk-container-id-2 div.sk-serial {display: flex;flex-direction: column;align-items: center;background-color: white;padding-right: 0.2em;padding-left: 0.2em;position: relative;}#sk-container-id-2 div.sk-item {position: relative;z-index: 1;}#sk-container-id-2 div.sk-parallel {display: flex;align-items: stretch;justify-content: center;background-color: white;position: relative;}#sk-container-id-2 div.sk-item::before, #sk-container-id-2 div.sk-parallel-item::before {content: \"\";position: absolute;border-left: 1px solid gray;box-sizing: border-box;top: 0;bottom: 0;left: 50%;z-index: -1;}#sk-container-id-2 div.sk-parallel-item {display: flex;flex-direction: column;z-index: 1;position: relative;background-color: white;}#sk-container-id-2 div.sk-parallel-item:first-child::after {align-self: flex-end;width: 50%;}#sk-container-id-2 div.sk-parallel-item:last-child::after {align-self: flex-start;width: 50%;}#sk-container-id-2 div.sk-parallel-item:only-child::after {width: 0;}#sk-container-id-2 div.sk-dashed-wrapped {border: 1px dashed gray;margin: 0 0.4em 0.5em 0.4em;box-sizing: border-box;padding-bottom: 0.4em;background-color: white;}#sk-container-id-2 div.sk-label label {font-family: monospace;font-weight: bold;display: inline-block;line-height: 1.2em;}#sk-container-id-2 div.sk-label-container {text-align: center;}#sk-container-id-2 div.sk-container {/* jupyter's `normalize.less` sets `[hidden] { display: none; }` but bootstrap.min.css set `[hidden] { display: none !important; }` so we also need the `!important` here to be able to override the default hidden behavior on the sphinx rendered scikit-learn.org. See: https://github.com/scikit-learn/scikit-learn/issues/21755 */display: inline-block !important;position: relative;}#sk-container-id-2 div.sk-text-repr-fallback {display: none;}</style><div id=\"sk-container-id-2\" class=\"sk-top-container\"><div class=\"sk-text-repr-fallback\"><pre>RandomForestRegressor(max_depth=15, max_features=&#x27;sqrt&#x27;, n_estimators=150)</pre><b>In a Jupyter environment, please rerun this cell to show the HTML representation or trust the notebook. <br />On GitHub, the HTML representation is unable to render, please try loading this page with nbviewer.org.</b></div><div class=\"sk-container\" hidden><div class=\"sk-item\"><div class=\"sk-estimator sk-toggleable\"><input class=\"sk-toggleable__control sk-hidden--visually\" id=\"sk-estimator-id-2\" type=\"checkbox\" checked><label for=\"sk-estimator-id-2\" class=\"sk-toggleable__label sk-toggleable__label-arrow\">RandomForestRegressor</label><div class=\"sk-toggleable__content\"><pre>RandomForestRegressor(max_depth=15, max_features=&#x27;sqrt&#x27;, n_estimators=150)</pre></div></div></div></div></div>"
      ],
      "text/plain": [
       "RandomForestRegressor(max_depth=15, max_features='sqrt', n_estimators=150)"
      ]
     },
     "execution_count": 85,
     "metadata": {},
     "output_type": "execute_result"
    }
   ],
   "source": [
    "# Training with all data \n",
    "\n",
    "rf = RandomForestRegressor(n_estimators = 150,max_features = \"sqrt\",max_depth = 15 )\n",
    "rf.fit(X,y)"
   ]
  },
  {
   "cell_type": "markdown",
   "id": "fd15646e",
   "metadata": {
    "papermill": {
     "duration": 0.044198,
     "end_time": "2024-11-03T04:30:53.999923",
     "exception": false,
     "start_time": "2024-11-03T04:30:53.955725",
     "status": "completed"
    },
    "tags": []
   },
   "source": [
    "* Preparing the test data"
   ]
  },
  {
   "cell_type": "code",
   "execution_count": 86,
   "id": "6825ea00",
   "metadata": {
    "execution": {
     "iopub.execute_input": "2024-11-03T04:30:54.090309Z",
     "iopub.status.busy": "2024-11-03T04:30:54.089497Z",
     "iopub.status.idle": "2024-11-03T04:30:54.103267Z",
     "shell.execute_reply": "2024-11-03T04:30:54.102381Z"
    },
    "papermill": {
     "duration": 0.061016,
     "end_time": "2024-11-03T04:30:54.105153",
     "exception": false,
     "start_time": "2024-11-03T04:30:54.044137",
     "status": "completed"
    },
    "tags": []
   },
   "outputs": [],
   "source": [
    "test_df = df3[df3[\"Time_Orderd\"].isnull()]\n",
    "test_df= pd.concat([test_df.iloc[:,:13],test_df.iloc[:,17:]],axis=1)"
   ]
  },
  {
   "cell_type": "code",
   "execution_count": 87,
   "id": "816a521d",
   "metadata": {
    "execution": {
     "iopub.execute_input": "2024-11-03T04:30:54.196332Z",
     "iopub.status.busy": "2024-11-03T04:30:54.195329Z",
     "iopub.status.idle": "2024-11-03T04:30:54.207231Z",
     "shell.execute_reply": "2024-11-03T04:30:54.206270Z"
    },
    "papermill": {
     "duration": 0.059671,
     "end_time": "2024-11-03T04:30:54.209167",
     "exception": false,
     "start_time": "2024-11-03T04:30:54.149496",
     "status": "completed"
    },
    "tags": []
   },
   "outputs": [],
   "source": [
    "test_df[\"order_picked_frac\"] = test_df[\"Time_Order_picked\"].apply(lambda x:order_picked_frac(x))"
   ]
  },
  {
   "cell_type": "code",
   "execution_count": 88,
   "id": "a9f659ff",
   "metadata": {
    "execution": {
     "iopub.execute_input": "2024-11-03T04:30:54.298829Z",
     "iopub.status.busy": "2024-11-03T04:30:54.298476Z",
     "iopub.status.idle": "2024-11-03T04:30:54.363611Z",
     "shell.execute_reply": "2024-11-03T04:30:54.362648Z"
    },
    "papermill": {
     "duration": 0.112704,
     "end_time": "2024-11-03T04:30:54.366051",
     "exception": false,
     "start_time": "2024-11-03T04:30:54.253347",
     "status": "completed"
    },
    "tags": []
   },
   "outputs": [],
   "source": [
    "X_test = test_df.drop([\"Order_Date\",\"Time_Orderd\",\"Time_Order_picked\"],axis=1)\n",
    "X_test_pred = rf.predict(X_test)\n",
    "test_df[\"order_time_frac\"] = X_test_pred "
   ]
  },
  {
   "cell_type": "code",
   "execution_count": 89,
   "id": "6b5bb237",
   "metadata": {
    "execution": {
     "iopub.execute_input": "2024-11-03T04:30:54.456961Z",
     "iopub.status.busy": "2024-11-03T04:30:54.456651Z",
     "iopub.status.idle": "2024-11-03T04:30:54.468737Z",
     "shell.execute_reply": "2024-11-03T04:30:54.468059Z"
    },
    "papermill": {
     "duration": 0.059616,
     "end_time": "2024-11-03T04:30:54.470612",
     "exception": false,
     "start_time": "2024-11-03T04:30:54.410996",
     "status": "completed"
    },
    "tags": []
   },
   "outputs": [],
   "source": [
    "# convert order_time_frac to order_time \n",
    "\n",
    "hour_s = ((test_df[\"order_time_frac\"]*3600*24)//3600).astype(\"int\") \n",
    "min_s = (((test_df[\"order_time_frac\"]*3600*24)%3600)//60).astype(\"int\")\n",
    "\n",
    "test_df[\"Time_Orderd\"] = hour_s.astype(\"str\").str.zfill(2) + \":\" + min_s.astype(\"str\").str.zfill(2) + \":00\""
   ]
  },
  {
   "cell_type": "markdown",
   "id": "f2a6687c",
   "metadata": {
    "papermill": {
     "duration": 0.044846,
     "end_time": "2024-11-03T04:30:54.560798",
     "exception": false,
     "start_time": "2024-11-03T04:30:54.515952",
     "status": "completed"
    },
    "tags": []
   },
   "source": [
    "## 5. Outlier Treatment "
   ]
  },
  {
   "cell_type": "code",
   "execution_count": 90,
   "id": "7a1129bf",
   "metadata": {
    "execution": {
     "iopub.execute_input": "2024-11-03T04:30:54.652330Z",
     "iopub.status.busy": "2024-11-03T04:30:54.651766Z",
     "iopub.status.idle": "2024-11-03T04:30:54.661599Z",
     "shell.execute_reply": "2024-11-03T04:30:54.660889Z"
    },
    "papermill": {
     "duration": 0.057958,
     "end_time": "2024-11-03T04:30:54.663495",
     "exception": false,
     "start_time": "2024-11-03T04:30:54.605537",
     "status": "completed"
    },
    "tags": []
   },
   "outputs": [],
   "source": [
    "# Combining Data \n",
    "\n",
    "df6 = pd.concat([train_val_df,test_df],axis=0)"
   ]
  },
  {
   "cell_type": "code",
   "execution_count": 91,
   "id": "ff0acad7",
   "metadata": {
    "execution": {
     "iopub.execute_input": "2024-11-03T04:30:54.752953Z",
     "iopub.status.busy": "2024-11-03T04:30:54.752665Z",
     "iopub.status.idle": "2024-11-03T04:30:54.960355Z",
     "shell.execute_reply": "2024-11-03T04:30:54.959371Z"
    },
    "papermill": {
     "duration": 0.254671,
     "end_time": "2024-11-03T04:30:54.962354",
     "exception": false,
     "start_time": "2024-11-03T04:30:54.707683",
     "status": "completed"
    },
    "tags": []
   },
   "outputs": [
    {
     "name": "stdout",
     "output_type": "stream",
     "text": [
      "          Distance\n",
      "count  41953.00000\n",
      "mean     107.06008\n",
      "std     1146.11866\n",
      "min        1.47000\n",
      "25%        4.66000\n",
      "50%        9.22000\n",
      "75%       13.76000\n",
      "max    19692.67000\n",
      "-----------------\n",
      "0.75    13.76\n",
      "0.80    16.11\n",
      "0.85    16.85\n",
      "0.90    19.40\n",
      "0.95    20.18\n",
      "Name: Distance, dtype: float64\n",
      "-----------------\n"
     ]
    },
    {
     "data": {
      "image/png": "[encoded data removed]",
      "text/plain": [
       "<Figure size 640x480 with 1 Axes>"
      ]
     },
     "metadata": {},
     "output_type": "display_data"
    }
   ],
   "source": [
    "# lets check distance col\n",
    "\n",
    "print(df6[\"Distance\"].describe().to_frame())\n",
    "print(\"-----------------\")\n",
    "print(df6[\"Distance\"].quantile([0.75,0.8,0.85,0.9,0.95]))\n",
    "print(\"-----------------\")\n",
    "\n",
    "\n",
    "sns.boxplot(df6[\"Distance\"],palette=\"crest\")\n",
    "plt.show()"
   ]
  },
  {
   "cell_type": "markdown",
   "id": "d7cd8f08",
   "metadata": {
    "papermill": {
     "duration": 0.044974,
     "end_time": "2024-11-03T04:30:55.052768",
     "exception": false,
     "start_time": "2024-11-03T04:30:55.007794",
     "status": "completed"
    },
    "tags": []
   },
   "source": [
    "* Clearly there are outliers in the distance column "
   ]
  },
  {
   "cell_type": "code",
   "execution_count": 92,
   "id": "9aa5f174",
   "metadata": {
    "execution": {
     "iopub.execute_input": "2024-11-03T04:30:55.153401Z",
     "iopub.status.busy": "2024-11-03T04:30:55.153000Z",
     "iopub.status.idle": "2024-11-03T04:30:55.183702Z",
     "shell.execute_reply": "2024-11-03T04:30:55.182716Z"
    },
    "papermill": {
     "duration": 0.085137,
     "end_time": "2024-11-03T04:30:55.185991",
     "exception": false,
     "start_time": "2024-11-03T04:30:55.100854",
     "status": "completed"
    },
    "tags": []
   },
   "outputs": [
    {
     "data": {
      "text/html": [
       "<div>\n",
       "<style scoped>\n",
       "    .dataframe tbody tr th:only-of-type {\n",
       "        vertical-align: middle;\n",
       "    }\n",
       "\n",
       "    .dataframe tbody tr th {\n",
       "        vertical-align: top;\n",
       "    }\n",
       "\n",
       "    .dataframe thead th {\n",
       "        text-align: right;\n",
       "    }\n",
       "</style>\n",
       "<table border=\"1\" class=\"dataframe\">\n",
       "  <thead>\n",
       "    <tr style=\"text-align: right;\">\n",
       "      <th></th>\n",
       "      <th>Delivery_person_Age</th>\n",
       "      <th>Delivery_person_Ratings</th>\n",
       "      <th>Order_Date</th>\n",
       "      <th>Time_Orderd</th>\n",
       "      <th>Time_Order_picked</th>\n",
       "      <th>Weather_conditions</th>\n",
       "      <th>Road_traffic_density</th>\n",
       "      <th>Type_of_order</th>\n",
       "      <th>Type_of_vehicle</th>\n",
       "      <th>multiple_deliveries</th>\n",
       "      <th>...</th>\n",
       "      <th>Vehicle_condition</th>\n",
       "      <th>Time_taken</th>\n",
       "      <th>month</th>\n",
       "      <th>day</th>\n",
       "      <th>day_of_week</th>\n",
       "      <th>is_weekend</th>\n",
       "      <th>quarter</th>\n",
       "      <th>Distance</th>\n",
       "      <th>order_picked_frac</th>\n",
       "      <th>order_time_frac</th>\n",
       "    </tr>\n",
       "  </thead>\n",
       "  <tbody>\n",
       "    <tr>\n",
       "      <th>21401</th>\n",
       "      <td>26.0</td>\n",
       "      <td>4.7</td>\n",
       "      <td>2022-04-04</td>\n",
       "      <td>22:39:00</td>\n",
       "      <td>22:50:00</td>\n",
       "      <td>0</td>\n",
       "      <td>2</td>\n",
       "      <td>0</td>\n",
       "      <td>3</td>\n",
       "      <td>0.0</td>\n",
       "      <td>...</td>\n",
       "      <td>1</td>\n",
       "      <td>23</td>\n",
       "      <td>4</td>\n",
       "      <td>4</td>\n",
       "      <td>0</td>\n",
       "      <td>0</td>\n",
       "      <td>2</td>\n",
       "      <td>4252.30</td>\n",
       "      <td>0.951389</td>\n",
       "      <td>0.944369</td>\n",
       "    </tr>\n",
       "    <tr>\n",
       "      <th>7567</th>\n",
       "      <td>28.0</td>\n",
       "      <td>4.8</td>\n",
       "      <td>2022-02-15</td>\n",
       "      <td>14:35:00</td>\n",
       "      <td>14:40:00</td>\n",
       "      <td>5</td>\n",
       "      <td>0</td>\n",
       "      <td>2</td>\n",
       "      <td>2</td>\n",
       "      <td>1.0</td>\n",
       "      <td>...</td>\n",
       "      <td>2</td>\n",
       "      <td>27</td>\n",
       "      <td>2</td>\n",
       "      <td>15</td>\n",
       "      <td>1</td>\n",
       "      <td>0</td>\n",
       "      <td>1</td>\n",
       "      <td>5889.66</td>\n",
       "      <td>0.611111</td>\n",
       "      <td>0.607639</td>\n",
       "    </tr>\n",
       "    <tr>\n",
       "      <th>23312</th>\n",
       "      <td>20.0</td>\n",
       "      <td>4.7</td>\n",
       "      <td>2022-02-14</td>\n",
       "      <td>23:15:00</td>\n",
       "      <td>23:30:00</td>\n",
       "      <td>2</td>\n",
       "      <td>2</td>\n",
       "      <td>2</td>\n",
       "      <td>3</td>\n",
       "      <td>0.0</td>\n",
       "      <td>...</td>\n",
       "      <td>2</td>\n",
       "      <td>17</td>\n",
       "      <td>2</td>\n",
       "      <td>14</td>\n",
       "      <td>0</td>\n",
       "      <td>0</td>\n",
       "      <td>1</td>\n",
       "      <td>3413.45</td>\n",
       "      <td>0.979167</td>\n",
       "      <td>0.968750</td>\n",
       "    </tr>\n",
       "    <tr>\n",
       "      <th>23235</th>\n",
       "      <td>32.0</td>\n",
       "      <td>4.8</td>\n",
       "      <td>2022-02-12</td>\n",
       "      <td>23:10:00</td>\n",
       "      <td>23:25:00</td>\n",
       "      <td>3</td>\n",
       "      <td>2</td>\n",
       "      <td>2</td>\n",
       "      <td>2</td>\n",
       "      <td>1.0</td>\n",
       "      <td>...</td>\n",
       "      <td>0</td>\n",
       "      <td>20</td>\n",
       "      <td>2</td>\n",
       "      <td>12</td>\n",
       "      <td>5</td>\n",
       "      <td>1</td>\n",
       "      <td>1</td>\n",
       "      <td>5021.35</td>\n",
       "      <td>0.975694</td>\n",
       "      <td>0.965278</td>\n",
       "    </tr>\n",
       "    <tr>\n",
       "      <th>17373</th>\n",
       "      <td>28.0</td>\n",
       "      <td>4.7</td>\n",
       "      <td>2022-03-16</td>\n",
       "      <td>18:23:00</td>\n",
       "      <td>19:00:00</td>\n",
       "      <td>2</td>\n",
       "      <td>3</td>\n",
       "      <td>3</td>\n",
       "      <td>2</td>\n",
       "      <td>1.0</td>\n",
       "      <td>...</td>\n",
       "      <td>2</td>\n",
       "      <td>22</td>\n",
       "      <td>3</td>\n",
       "      <td>16</td>\n",
       "      <td>2</td>\n",
       "      <td>0</td>\n",
       "      <td>1</td>\n",
       "      <td>17188.41</td>\n",
       "      <td>0.791667</td>\n",
       "      <td>0.766603</td>\n",
       "    </tr>\n",
       "  </tbody>\n",
       "</table>\n",
       "<p>5 rows × 23 columns</p>\n",
       "</div>"
      ],
      "text/plain": [
       "       Delivery_person_Age  Delivery_person_Ratings Order_Date Time_Orderd  \\\n",
       "21401                 26.0                      4.7 2022-04-04    22:39:00   \n",
       "7567                  28.0                      4.8 2022-02-15    14:35:00   \n",
       "23312                 20.0                      4.7 2022-02-14    23:15:00   \n",
       "23235                 32.0                      4.8 2022-02-12    23:10:00   \n",
       "17373                 28.0                      4.7 2022-03-16    18:23:00   \n",
       "\n",
       "      Time_Order_picked  Weather_conditions  Road_traffic_density  \\\n",
       "21401          22:50:00                   0                     2   \n",
       "7567           14:40:00                   5                     0   \n",
       "23312          23:30:00                   2                     2   \n",
       "23235          23:25:00                   3                     2   \n",
       "17373          19:00:00                   2                     3   \n",
       "\n",
       "       Type_of_order  Type_of_vehicle  multiple_deliveries  ...  \\\n",
       "21401              0                3                  0.0  ...   \n",
       "7567               2                2                  1.0  ...   \n",
       "23312              2                3                  0.0  ...   \n",
       "23235              2                2                  1.0  ...   \n",
       "17373              3                2                  1.0  ...   \n",
       "\n",
       "       Vehicle_condition  Time_taken  month  day  day_of_week  is_weekend  \\\n",
       "21401                  1          23      4    4            0           0   \n",
       "7567                   2          27      2   15            1           0   \n",
       "23312                  2          17      2   14            0           0   \n",
       "23235                  0          20      2   12            5           1   \n",
       "17373                  2          22      3   16            2           0   \n",
       "\n",
       "       quarter  Distance  order_picked_frac  order_time_frac  \n",
       "21401        2   4252.30           0.951389         0.944369  \n",
       "7567         1   5889.66           0.611111         0.607639  \n",
       "23312        1   3413.45           0.979167         0.968750  \n",
       "23235        1   5021.35           0.975694         0.965278  \n",
       "17373        1  17188.41           0.791667         0.766603  \n",
       "\n",
       "[5 rows x 23 columns]"
      ]
     },
     "execution_count": 92,
     "metadata": {},
     "output_type": "execute_result"
    }
   ],
   "source": [
    "df6[df6[\"Distance\"]>=25].sample(5)"
   ]
  },
  {
   "cell_type": "code",
   "execution_count": 93,
   "id": "b1a71be7",
   "metadata": {
    "execution": {
     "iopub.execute_input": "2024-11-03T04:30:55.283323Z",
     "iopub.status.busy": "2024-11-03T04:30:55.283005Z",
     "iopub.status.idle": "2024-11-03T04:30:55.295649Z",
     "shell.execute_reply": "2024-11-03T04:30:55.294917Z"
    },
    "papermill": {
     "duration": 0.060723,
     "end_time": "2024-11-03T04:30:55.297589",
     "exception": false,
     "start_time": "2024-11-03T04:30:55.236866",
     "status": "completed"
    },
    "tags": []
   },
   "outputs": [],
   "source": [
    "# We can drop these records \n",
    "\n",
    "df7 = df6[-(df6[\"Distance\"]>25)]\n",
    "df7.reset_index(drop=True,inplace=True)"
   ]
  },
  {
   "cell_type": "code",
   "execution_count": 94,
   "id": "6d00580d",
   "metadata": {
    "execution": {
     "iopub.execute_input": "2024-11-03T04:30:55.390715Z",
     "iopub.status.busy": "2024-11-03T04:30:55.389878Z",
     "iopub.status.idle": "2024-11-03T04:30:55.395777Z",
     "shell.execute_reply": "2024-11-03T04:30:55.394945Z"
    },
    "papermill": {
     "duration": 0.054096,
     "end_time": "2024-11-03T04:30:55.397591",
     "exception": false,
     "start_time": "2024-11-03T04:30:55.343495",
     "status": "completed"
    },
    "tags": []
   },
   "outputs": [
    {
     "data": {
      "text/plain": [
       "(41522, 23)"
      ]
     },
     "execution_count": 94,
     "metadata": {},
     "output_type": "execute_result"
    }
   ],
   "source": [
    "df7.shape "
   ]
  },
  {
   "cell_type": "code",
   "execution_count": 95,
   "id": "380f6e48",
   "metadata": {
    "execution": {
     "iopub.execute_input": "2024-11-03T04:30:55.491419Z",
     "iopub.status.busy": "2024-11-03T04:30:55.490848Z",
     "iopub.status.idle": "2024-11-03T04:30:55.498469Z",
     "shell.execute_reply": "2024-11-03T04:30:55.497695Z"
    },
    "papermill": {
     "duration": 0.057874,
     "end_time": "2024-11-03T04:30:55.500311",
     "exception": false,
     "start_time": "2024-11-03T04:30:55.442437",
     "status": "completed"
    },
    "tags": []
   },
   "outputs": [
    {
     "data": {
      "text/plain": [
       "(402, 23)"
      ]
     },
     "execution_count": 95,
     "metadata": {},
     "output_type": "execute_result"
    }
   ],
   "source": [
    "# lets check records where order_time > order_picked_time \n",
    "\n",
    "df7[df7[\"order_picked_frac\"]<df7[\"order_time_frac\"]].shape"
   ]
  },
  {
   "cell_type": "code",
   "execution_count": 96,
   "id": "0b241b4e",
   "metadata": {
    "execution": {
     "iopub.execute_input": "2024-11-03T04:30:55.592388Z",
     "iopub.status.busy": "2024-11-03T04:30:55.592104Z",
     "iopub.status.idle": "2024-11-03T04:30:55.598234Z",
     "shell.execute_reply": "2024-11-03T04:30:55.597548Z"
    },
    "papermill": {
     "duration": 0.054455,
     "end_time": "2024-11-03T04:30:55.600106",
     "exception": false,
     "start_time": "2024-11-03T04:30:55.545651",
     "status": "completed"
    },
    "tags": []
   },
   "outputs": [],
   "source": [
    "# creating new column order_prepare_time which is a difference between order_picked_time and order_time \n",
    "\n",
    "order_prepare_time_frac = df7[\"order_picked_frac\"]-df7[\"order_time_frac\"]\n",
    "seconds_in_day = 24 * 3600 \n",
    "\n",
    "df7[\"order_prepare_time\"] = round((order_prepare_time_frac * seconds_in_day)/60,2)"
   ]
  },
  {
   "cell_type": "code",
   "execution_count": 97,
   "id": "0ceb9022",
   "metadata": {
    "execution": {
     "iopub.execute_input": "2024-11-03T04:30:55.712864Z",
     "iopub.status.busy": "2024-11-03T04:30:55.712221Z",
     "iopub.status.idle": "2024-11-03T04:30:55.904686Z",
     "shell.execute_reply": "2024-11-03T04:30:55.903929Z"
    },
    "papermill": {
     "duration": 0.247779,
     "end_time": "2024-11-03T04:30:55.906883",
     "exception": false,
     "start_time": "2024-11-03T04:30:55.659104",
     "status": "completed"
    },
    "tags": []
   },
   "outputs": [
    {
     "name": "stdout",
     "output_type": "stream",
     "text": [
      "count    41522.000000\n",
      "mean         9.710839\n",
      "std          6.532410\n",
      "min       -158.220000\n",
      "25%          5.000000\n",
      "50%         10.000000\n",
      "75%         15.000000\n",
      "max         75.180000\n",
      "Name: order_prepare_time, dtype: float64\n",
      "----------------------------\n",
      "0.75    15.0\n",
      "0.80    15.0\n",
      "0.85    15.0\n",
      "0.90    15.0\n",
      "0.95    15.0\n",
      "Name: order_prepare_time, dtype: float64\n",
      "----------------------------\n"
     ]
    },
    {
     "data": {
      "image/png": "[encoded data removed]",
      "text/plain": [
       "<Figure size 640x480 with 1 Axes>"
      ]
     },
     "metadata": {},
     "output_type": "display_data"
    }
   ],
   "source": [
    "print(df7[\"order_prepare_time\"].describe())\n",
    "print(\"----------------------------\")\n",
    "print(df7[\"order_prepare_time\"].quantile([0.75,0.8,0.85,0.9,0.95]))\n",
    "print(\"----------------------------\")\n",
    "\n",
    "sns.boxplot(df7[\"order_prepare_time\"],palette=\"rocket\")\n",
    "plt.show()"
   ]
  },
  {
   "cell_type": "code",
   "execution_count": 98,
   "id": "efa0dfb1",
   "metadata": {
    "execution": {
     "iopub.execute_input": "2024-11-03T04:30:56.001378Z",
     "iopub.status.busy": "2024-11-03T04:30:56.000806Z",
     "iopub.status.idle": "2024-11-03T04:30:56.008970Z",
     "shell.execute_reply": "2024-11-03T04:30:56.008158Z"
    },
    "papermill": {
     "duration": 0.057714,
     "end_time": "2024-11-03T04:30:56.010956",
     "exception": false,
     "start_time": "2024-11-03T04:30:55.953242",
     "status": "completed"
    },
    "tags": []
   },
   "outputs": [
    {
     "data": {
      "text/plain": [
       "(402, 24)"
      ]
     },
     "execution_count": 98,
     "metadata": {},
     "output_type": "execute_result"
    }
   ],
   "source": [
    "df7[df7[\"order_prepare_time\"]<0].shape "
   ]
  },
  {
   "cell_type": "code",
   "execution_count": 99,
   "id": "4d99aa5e",
   "metadata": {
    "execution": {
     "iopub.execute_input": "2024-11-03T04:30:56.104346Z",
     "iopub.status.busy": "2024-11-03T04:30:56.104015Z",
     "iopub.status.idle": "2024-11-03T04:30:56.111361Z",
     "shell.execute_reply": "2024-11-03T04:30:56.110463Z"
    },
    "papermill": {
     "duration": 0.055715,
     "end_time": "2024-11-03T04:30:56.113194",
     "exception": false,
     "start_time": "2024-11-03T04:30:56.057479",
     "status": "completed"
    },
    "tags": []
   },
   "outputs": [],
   "source": [
    "# We can impute these  order_prepare_time(-) with mean or median\n",
    "\n",
    "df7.loc[df7[df7[\"order_prepare_time\"]<0].index,\"order_prepare_time\"] = df7[\"order_prepare_time\"].median()"
   ]
  },
  {
   "cell_type": "code",
   "execution_count": 100,
   "id": "92434cd4",
   "metadata": {
    "execution": {
     "iopub.execute_input": "2024-11-03T04:30:56.207960Z",
     "iopub.status.busy": "2024-11-03T04:30:56.207245Z",
     "iopub.status.idle": "2024-11-03T04:30:56.215246Z",
     "shell.execute_reply": "2024-11-03T04:30:56.214546Z"
    },
    "papermill": {
     "duration": 0.057187,
     "end_time": "2024-11-03T04:30:56.217113",
     "exception": false,
     "start_time": "2024-11-03T04:30:56.159926",
     "status": "completed"
    },
    "tags": []
   },
   "outputs": [],
   "source": [
    "# now we can drop some columns & then our data is ready for modelling \n",
    "\n",
    "df8 = df7.drop([\"Order_Date\",\"Time_Orderd\",\"Time_Order_picked\",\"order_picked_frac\",\"order_time_frac\"],axis=1)"
   ]
  },
  {
   "cell_type": "code",
   "execution_count": 101,
   "id": "8c75b639",
   "metadata": {
    "execution": {
     "iopub.execute_input": "2024-11-03T04:30:56.310814Z",
     "iopub.status.busy": "2024-11-03T04:30:56.309978Z",
     "iopub.status.idle": "2024-11-03T04:30:56.329403Z",
     "shell.execute_reply": "2024-11-03T04:30:56.328547Z"
    },
    "papermill": {
     "duration": 0.068642,
     "end_time": "2024-11-03T04:30:56.331454",
     "exception": false,
     "start_time": "2024-11-03T04:30:56.262812",
     "status": "completed"
    },
    "tags": []
   },
   "outputs": [
    {
     "data": {
      "text/html": [
       "<div>\n",
       "<style scoped>\n",
       "    .dataframe tbody tr th:only-of-type {\n",
       "        vertical-align: middle;\n",
       "    }\n",
       "\n",
       "    .dataframe tbody tr th {\n",
       "        vertical-align: top;\n",
       "    }\n",
       "\n",
       "    .dataframe thead th {\n",
       "        text-align: right;\n",
       "    }\n",
       "</style>\n",
       "<table border=\"1\" class=\"dataframe\">\n",
       "  <thead>\n",
       "    <tr style=\"text-align: right;\">\n",
       "      <th></th>\n",
       "      <th>Delivery_person_Age</th>\n",
       "      <th>Delivery_person_Ratings</th>\n",
       "      <th>Weather_conditions</th>\n",
       "      <th>Road_traffic_density</th>\n",
       "      <th>Type_of_order</th>\n",
       "      <th>Type_of_vehicle</th>\n",
       "      <th>multiple_deliveries</th>\n",
       "      <th>Festival</th>\n",
       "      <th>City_area</th>\n",
       "      <th>City</th>\n",
       "      <th>Vehicle_condition</th>\n",
       "      <th>Time_taken</th>\n",
       "      <th>month</th>\n",
       "      <th>day</th>\n",
       "      <th>day_of_week</th>\n",
       "      <th>is_weekend</th>\n",
       "      <th>quarter</th>\n",
       "      <th>Distance</th>\n",
       "      <th>order_prepare_time</th>\n",
       "    </tr>\n",
       "  </thead>\n",
       "  <tbody>\n",
       "    <tr>\n",
       "      <th>0</th>\n",
       "      <td>37.0</td>\n",
       "      <td>4.9</td>\n",
       "      <td>4</td>\n",
       "      <td>0</td>\n",
       "      <td>3</td>\n",
       "      <td>2</td>\n",
       "      <td>0.0</td>\n",
       "      <td>0</td>\n",
       "      <td>2</td>\n",
       "      <td>10</td>\n",
       "      <td>2</td>\n",
       "      <td>24</td>\n",
       "      <td>3</td>\n",
       "      <td>19</td>\n",
       "      <td>5</td>\n",
       "      <td>1</td>\n",
       "      <td>1</td>\n",
       "      <td>3.03</td>\n",
       "      <td>15.0</td>\n",
       "    </tr>\n",
       "    <tr>\n",
       "      <th>1</th>\n",
       "      <td>34.0</td>\n",
       "      <td>4.5</td>\n",
       "      <td>3</td>\n",
       "      <td>1</td>\n",
       "      <td>3</td>\n",
       "      <td>3</td>\n",
       "      <td>1.0</td>\n",
       "      <td>0</td>\n",
       "      <td>0</td>\n",
       "      <td>3</td>\n",
       "      <td>2</td>\n",
       "      <td>33</td>\n",
       "      <td>3</td>\n",
       "      <td>25</td>\n",
       "      <td>4</td>\n",
       "      <td>0</td>\n",
       "      <td>1</td>\n",
       "      <td>20.18</td>\n",
       "      <td>5.0</td>\n",
       "    </tr>\n",
       "    <tr>\n",
       "      <th>2</th>\n",
       "      <td>23.0</td>\n",
       "      <td>4.4</td>\n",
       "      <td>2</td>\n",
       "      <td>2</td>\n",
       "      <td>1</td>\n",
       "      <td>2</td>\n",
       "      <td>1.0</td>\n",
       "      <td>0</td>\n",
       "      <td>2</td>\n",
       "      <td>3</td>\n",
       "      <td>0</td>\n",
       "      <td>26</td>\n",
       "      <td>3</td>\n",
       "      <td>19</td>\n",
       "      <td>5</td>\n",
       "      <td>1</td>\n",
       "      <td>1</td>\n",
       "      <td>1.55</td>\n",
       "      <td>15.0</td>\n",
       "    </tr>\n",
       "    <tr>\n",
       "      <th>3</th>\n",
       "      <td>38.0</td>\n",
       "      <td>4.7</td>\n",
       "      <td>4</td>\n",
       "      <td>3</td>\n",
       "      <td>0</td>\n",
       "      <td>2</td>\n",
       "      <td>1.0</td>\n",
       "      <td>0</td>\n",
       "      <td>0</td>\n",
       "      <td>6</td>\n",
       "      <td>0</td>\n",
       "      <td>21</td>\n",
       "      <td>4</td>\n",
       "      <td>5</td>\n",
       "      <td>1</td>\n",
       "      <td>0</td>\n",
       "      <td>2</td>\n",
       "      <td>7.79</td>\n",
       "      <td>10.0</td>\n",
       "    </tr>\n",
       "    <tr>\n",
       "      <th>4</th>\n",
       "      <td>32.0</td>\n",
       "      <td>4.6</td>\n",
       "      <td>0</td>\n",
       "      <td>0</td>\n",
       "      <td>3</td>\n",
       "      <td>3</td>\n",
       "      <td>1.0</td>\n",
       "      <td>0</td>\n",
       "      <td>0</td>\n",
       "      <td>5</td>\n",
       "      <td>1</td>\n",
       "      <td>30</td>\n",
       "      <td>3</td>\n",
       "      <td>26</td>\n",
       "      <td>5</td>\n",
       "      <td>1</td>\n",
       "      <td>1</td>\n",
       "      <td>6.21</td>\n",
       "      <td>15.0</td>\n",
       "    </tr>\n",
       "  </tbody>\n",
       "</table>\n",
       "</div>"
      ],
      "text/plain": [
       "   Delivery_person_Age  Delivery_person_Ratings  Weather_conditions  \\\n",
       "0                 37.0                      4.9                   4   \n",
       "1                 34.0                      4.5                   3   \n",
       "2                 23.0                      4.4                   2   \n",
       "3                 38.0                      4.7                   4   \n",
       "4                 32.0                      4.6                   0   \n",
       "\n",
       "   Road_traffic_density  Type_of_order  Type_of_vehicle  multiple_deliveries  \\\n",
       "0                     0              3                2                  0.0   \n",
       "1                     1              3                3                  1.0   \n",
       "2                     2              1                2                  1.0   \n",
       "3                     3              0                2                  1.0   \n",
       "4                     0              3                3                  1.0   \n",
       "\n",
       "   Festival  City_area  City  Vehicle_condition  Time_taken  month  day  \\\n",
       "0         0          2    10                  2          24      3   19   \n",
       "1         0          0     3                  2          33      3   25   \n",
       "2         0          2     3                  0          26      3   19   \n",
       "3         0          0     6                  0          21      4    5   \n",
       "4         0          0     5                  1          30      3   26   \n",
       "\n",
       "   day_of_week  is_weekend  quarter  Distance  order_prepare_time  \n",
       "0            5           1        1      3.03                15.0  \n",
       "1            4           0        1     20.18                 5.0  \n",
       "2            5           1        1      1.55                15.0  \n",
       "3            1           0        2      7.79                10.0  \n",
       "4            5           1        1      6.21                15.0  "
      ]
     },
     "execution_count": 101,
     "metadata": {},
     "output_type": "execute_result"
    }
   ],
   "source": [
    "df8.head()"
   ]
  },
  {
   "cell_type": "markdown",
   "id": "f8e6bd81",
   "metadata": {
    "papermill": {
     "duration": 0.046378,
     "end_time": "2024-11-03T04:30:56.426722",
     "exception": false,
     "start_time": "2024-11-03T04:30:56.380344",
     "status": "completed"
    },
    "tags": []
   },
   "source": [
    "## 6. Feature Scalling "
   ]
  },
  {
   "cell_type": "code",
   "execution_count": 102,
   "id": "30225ddc",
   "metadata": {
    "execution": {
     "iopub.execute_input": "2024-11-03T04:30:56.520106Z",
     "iopub.status.busy": "2024-11-03T04:30:56.519787Z",
     "iopub.status.idle": "2024-11-03T04:30:56.528724Z",
     "shell.execute_reply": "2024-11-03T04:30:56.527985Z"
    },
    "papermill": {
     "duration": 0.05787,
     "end_time": "2024-11-03T04:30:56.530621",
     "exception": false,
     "start_time": "2024-11-03T04:30:56.472751",
     "status": "completed"
    },
    "tags": []
   },
   "outputs": [],
   "source": [
    "X = df8.drop(\"Time_taken\",axis=1)\n",
    "y = df8[\"Time_taken\"]"
   ]
  },
  {
   "cell_type": "code",
   "execution_count": 103,
   "id": "1b413b4a",
   "metadata": {
    "execution": {
     "iopub.execute_input": "2024-11-03T04:30:56.624422Z",
     "iopub.status.busy": "2024-11-03T04:30:56.624118Z",
     "iopub.status.idle": "2024-11-03T04:30:56.641856Z",
     "shell.execute_reply": "2024-11-03T04:30:56.640534Z"
    },
    "papermill": {
     "duration": 0.066643,
     "end_time": "2024-11-03T04:30:56.643788",
     "exception": false,
     "start_time": "2024-11-03T04:30:56.577145",
     "status": "completed"
    },
    "tags": []
   },
   "outputs": [
    {
     "name": "stdout",
     "output_type": "stream",
     "text": [
      "X_train_shape:(35293, 18)\n",
      "X_test_shape:(6229, 18)\n",
      "y_train_shape:(35293,)\n",
      "y_test_shape:(6229,)\n"
     ]
    }
   ],
   "source": [
    "X_train,X_test,y_train,y_test = train_test_split(X,y,test_size = 0.15,random_state = 42)\n",
    "\n",
    "print(f\"X_train_shape:{X_train.shape}\")\n",
    "print(f\"X_test_shape:{X_test.shape}\")\n",
    "print(f\"y_train_shape:{y_train.shape}\")\n",
    "print(f\"y_test_shape:{y_test.shape}\")"
   ]
  },
  {
   "cell_type": "code",
   "execution_count": 104,
   "id": "50e35f7e",
   "metadata": {
    "execution": {
     "iopub.execute_input": "2024-11-03T04:30:56.740545Z",
     "iopub.status.busy": "2024-11-03T04:30:56.740207Z",
     "iopub.status.idle": "2024-11-03T04:30:56.757811Z",
     "shell.execute_reply": "2024-11-03T04:30:56.756918Z"
    },
    "papermill": {
     "duration": 0.067437,
     "end_time": "2024-11-03T04:30:56.759683",
     "exception": false,
     "start_time": "2024-11-03T04:30:56.692246",
     "status": "completed"
    },
    "tags": []
   },
   "outputs": [
    {
     "data": {
      "text/html": [
       "<div>\n",
       "<style scoped>\n",
       "    .dataframe tbody tr th:only-of-type {\n",
       "        vertical-align: middle;\n",
       "    }\n",
       "\n",
       "    .dataframe tbody tr th {\n",
       "        vertical-align: top;\n",
       "    }\n",
       "\n",
       "    .dataframe thead th {\n",
       "        text-align: right;\n",
       "    }\n",
       "</style>\n",
       "<table border=\"1\" class=\"dataframe\">\n",
       "  <thead>\n",
       "    <tr style=\"text-align: right;\">\n",
       "      <th></th>\n",
       "      <th>Delivery_person_Age</th>\n",
       "      <th>Delivery_person_Ratings</th>\n",
       "      <th>Weather_conditions</th>\n",
       "      <th>Road_traffic_density</th>\n",
       "      <th>Type_of_order</th>\n",
       "      <th>Type_of_vehicle</th>\n",
       "      <th>multiple_deliveries</th>\n",
       "      <th>Festival</th>\n",
       "      <th>City_area</th>\n",
       "      <th>City</th>\n",
       "      <th>Vehicle_condition</th>\n",
       "      <th>month</th>\n",
       "      <th>day</th>\n",
       "      <th>day_of_week</th>\n",
       "      <th>is_weekend</th>\n",
       "      <th>quarter</th>\n",
       "      <th>Distance</th>\n",
       "      <th>order_prepare_time</th>\n",
       "    </tr>\n",
       "  </thead>\n",
       "  <tbody>\n",
       "    <tr>\n",
       "      <th>7568</th>\n",
       "      <td>34.0</td>\n",
       "      <td>4.6</td>\n",
       "      <td>5</td>\n",
       "      <td>0</td>\n",
       "      <td>3</td>\n",
       "      <td>3</td>\n",
       "      <td>1.0</td>\n",
       "      <td>0</td>\n",
       "      <td>2</td>\n",
       "      <td>17</td>\n",
       "      <td>1</td>\n",
       "      <td>3</td>\n",
       "      <td>9</td>\n",
       "      <td>2</td>\n",
       "      <td>0</td>\n",
       "      <td>1</td>\n",
       "      <td>6.22</td>\n",
       "      <td>5.0</td>\n",
       "    </tr>\n",
       "    <tr>\n",
       "      <th>25016</th>\n",
       "      <td>20.0</td>\n",
       "      <td>4.8</td>\n",
       "      <td>1</td>\n",
       "      <td>2</td>\n",
       "      <td>1</td>\n",
       "      <td>1</td>\n",
       "      <td>0.0</td>\n",
       "      <td>0</td>\n",
       "      <td>0</td>\n",
       "      <td>6</td>\n",
       "      <td>2</td>\n",
       "      <td>3</td>\n",
       "      <td>21</td>\n",
       "      <td>0</td>\n",
       "      <td>0</td>\n",
       "      <td>1</td>\n",
       "      <td>3.12</td>\n",
       "      <td>15.0</td>\n",
       "    </tr>\n",
       "    <tr>\n",
       "      <th>1510</th>\n",
       "      <td>27.0</td>\n",
       "      <td>4.4</td>\n",
       "      <td>1</td>\n",
       "      <td>1</td>\n",
       "      <td>1</td>\n",
       "      <td>3</td>\n",
       "      <td>1.0</td>\n",
       "      <td>0</td>\n",
       "      <td>0</td>\n",
       "      <td>3</td>\n",
       "      <td>1</td>\n",
       "      <td>3</td>\n",
       "      <td>20</td>\n",
       "      <td>6</td>\n",
       "      <td>1</td>\n",
       "      <td>1</td>\n",
       "      <td>10.87</td>\n",
       "      <td>5.0</td>\n",
       "    </tr>\n",
       "    <tr>\n",
       "      <th>33425</th>\n",
       "      <td>39.0</td>\n",
       "      <td>4.9</td>\n",
       "      <td>0</td>\n",
       "      <td>1</td>\n",
       "      <td>2</td>\n",
       "      <td>2</td>\n",
       "      <td>2.0</td>\n",
       "      <td>0</td>\n",
       "      <td>0</td>\n",
       "      <td>10</td>\n",
       "      <td>0</td>\n",
       "      <td>4</td>\n",
       "      <td>6</td>\n",
       "      <td>2</td>\n",
       "      <td>0</td>\n",
       "      <td>2</td>\n",
       "      <td>16.64</td>\n",
       "      <td>10.0</td>\n",
       "    </tr>\n",
       "    <tr>\n",
       "      <th>15145</th>\n",
       "      <td>28.0</td>\n",
       "      <td>5.0</td>\n",
       "      <td>5</td>\n",
       "      <td>3</td>\n",
       "      <td>3</td>\n",
       "      <td>3</td>\n",
       "      <td>1.0</td>\n",
       "      <td>0</td>\n",
       "      <td>0</td>\n",
       "      <td>17</td>\n",
       "      <td>2</td>\n",
       "      <td>3</td>\n",
       "      <td>29</td>\n",
       "      <td>1</td>\n",
       "      <td>0</td>\n",
       "      <td>1</td>\n",
       "      <td>12.44</td>\n",
       "      <td>5.0</td>\n",
       "    </tr>\n",
       "  </tbody>\n",
       "</table>\n",
       "</div>"
      ],
      "text/plain": [
       "       Delivery_person_Age  Delivery_person_Ratings  Weather_conditions  \\\n",
       "7568                  34.0                      4.6                   5   \n",
       "25016                 20.0                      4.8                   1   \n",
       "1510                  27.0                      4.4                   1   \n",
       "33425                 39.0                      4.9                   0   \n",
       "15145                 28.0                      5.0                   5   \n",
       "\n",
       "       Road_traffic_density  Type_of_order  Type_of_vehicle  \\\n",
       "7568                      0              3                3   \n",
       "25016                     2              1                1   \n",
       "1510                      1              1                3   \n",
       "33425                     1              2                2   \n",
       "15145                     3              3                3   \n",
       "\n",
       "       multiple_deliveries  Festival  City_area  City  Vehicle_condition  \\\n",
       "7568                   1.0         0          2    17                  1   \n",
       "25016                  0.0         0          0     6                  2   \n",
       "1510                   1.0         0          0     3                  1   \n",
       "33425                  2.0         0          0    10                  0   \n",
       "15145                  1.0         0          0    17                  2   \n",
       "\n",
       "       month  day  day_of_week  is_weekend  quarter  Distance  \\\n",
       "7568       3    9            2           0        1      6.22   \n",
       "25016      3   21            0           0        1      3.12   \n",
       "1510       3   20            6           1        1     10.87   \n",
       "33425      4    6            2           0        2     16.64   \n",
       "15145      3   29            1           0        1     12.44   \n",
       "\n",
       "       order_prepare_time  \n",
       "7568                  5.0  \n",
       "25016                15.0  \n",
       "1510                  5.0  \n",
       "33425                10.0  \n",
       "15145                 5.0  "
      ]
     },
     "execution_count": 104,
     "metadata": {},
     "output_type": "execute_result"
    }
   ],
   "source": [
    "X_train.head()"
   ]
  },
  {
   "cell_type": "code",
   "execution_count": 105,
   "id": "6e2599f7",
   "metadata": {
    "execution": {
     "iopub.execute_input": "2024-11-03T04:30:56.891296Z",
     "iopub.status.busy": "2024-11-03T04:30:56.890941Z",
     "iopub.status.idle": "2024-11-03T04:30:56.915585Z",
     "shell.execute_reply": "2024-11-03T04:30:56.914752Z"
    },
    "papermill": {
     "duration": 0.074706,
     "end_time": "2024-11-03T04:30:56.917628",
     "exception": false,
     "start_time": "2024-11-03T04:30:56.842922",
     "status": "completed"
    },
    "tags": []
   },
   "outputs": [],
   "source": [
    "scaler = MinMaxScaler()\n",
    "\n",
    "X_train[X_train.columns] = scaler.fit_transform(X_train[X_train.columns])\n",
    "X_test[X_test.columns] = scaler.transform(X_test[X_test.columns])"
   ]
  },
  {
   "cell_type": "markdown",
   "id": "8911a5f0",
   "metadata": {
    "papermill": {
     "duration": 0.046857,
     "end_time": "2024-11-03T04:30:57.011620",
     "exception": false,
     "start_time": "2024-11-03T04:30:56.964763",
     "status": "completed"
    },
    "tags": []
   },
   "source": [
    "## 7. Cross Validation "
   ]
  },
  {
   "cell_type": "code",
   "execution_count": 106,
   "id": "596259c9",
   "metadata": {
    "execution": {
     "iopub.execute_input": "2024-11-03T04:30:57.106364Z",
     "iopub.status.busy": "2024-11-03T04:30:57.106010Z",
     "iopub.status.idle": "2024-11-03T04:31:59.751504Z",
     "shell.execute_reply": "2024-11-03T04:31:59.750571Z"
    },
    "papermill": {
     "duration": 62.742789,
     "end_time": "2024-11-03T04:31:59.800867",
     "exception": false,
     "start_time": "2024-11-03T04:30:57.058078",
     "status": "completed"
    },
    "tags": []
   },
   "outputs": [
    {
     "name": "stdout",
     "output_type": "stream",
     "text": [
      "Each Model Score\n",
      "0.8159666833175042\n",
      "0.8126593331371462\n",
      "0.8202705163158854\n",
      "0.8118909090484036\n",
      "0.812046344628289\n",
      "----------------\n",
      "Mean Score\n",
      "0.8145667572894457\n"
     ]
    }
   ],
   "source": [
    "# cross validation with default parameters\n",
    "\n",
    "rf = RandomForestRegressor(random_state = 42)\n",
    "\n",
    "# using 5-fold cross validation \n",
    "cv_scores = cross_val_score(estimator = rf,X = X_train,y = y_train,cv = 5,scoring=\"r2\")\n",
    "\n",
    "print(\"Each Model Score\")\n",
    "for cv_score in cv_scores:\n",
    "    print(cv_score)\n",
    "\n",
    "print(\"----------------\")\n",
    "\n",
    "print(\"Mean Score\")\n",
    "print(cv_scores.mean())"
   ]
  },
  {
   "cell_type": "code",
   "execution_count": 107,
   "id": "76fefd18",
   "metadata": {
    "execution": {
     "iopub.execute_input": "2024-11-03T04:31:59.897981Z",
     "iopub.status.busy": "2024-11-03T04:31:59.897266Z",
     "iopub.status.idle": "2024-11-03T04:32:15.741547Z",
     "shell.execute_reply": "2024-11-03T04:32:15.740418Z"
    },
    "papermill": {
     "duration": 15.896053,
     "end_time": "2024-11-03T04:32:15.743817",
     "exception": false,
     "start_time": "2024-11-03T04:31:59.847764",
     "status": "completed"
    },
    "tags": []
   },
   "outputs": [
    {
     "name": "stdout",
     "output_type": "stream",
     "text": [
      "r2_score on test set:0.8263236878148859\n"
     ]
    }
   ],
   "source": [
    "# Train the model with whole training data and evaluate on test data\n",
    "\n",
    "rf = RandomForestRegressor(random_state = 42)\n",
    "rf.fit(X_train,y_train)\n",
    "\n",
    "y_test_pred = rf.predict(X_test)\n",
    "\n",
    "print(f\"r2_score on test set:{r2_score(y_test,y_test_pred)}\")"
   ]
  },
  {
   "cell_type": "markdown",
   "id": "dcaf60c1",
   "metadata": {
    "papermill": {
     "duration": 0.047404,
     "end_time": "2024-11-03T04:32:15.839536",
     "exception": false,
     "start_time": "2024-11-03T04:32:15.792132",
     "status": "completed"
    },
    "tags": []
   },
   "source": [
    "## 8. Hyperparameter Tuning with Cross Validation "
   ]
  },
  {
   "cell_type": "code",
   "execution_count": 108,
   "id": "9c8322c6",
   "metadata": {
    "execution": {
     "iopub.execute_input": "2024-11-03T04:32:15.936722Z",
     "iopub.status.busy": "2024-11-03T04:32:15.935896Z",
     "iopub.status.idle": "2024-11-03T04:37:11.744696Z",
     "shell.execute_reply": "2024-11-03T04:37:11.743585Z"
    },
    "papermill": {
     "duration": 295.913715,
     "end_time": "2024-11-03T04:37:11.800122",
     "exception": false,
     "start_time": "2024-11-03T04:32:15.886407",
     "status": "completed"
    },
    "scrolled": true,
    "tags": []
   },
   "outputs": [
    {
     "name": "stdout",
     "output_type": "stream",
     "text": [
      "Model : Ridge\n",
      "Best Parameter : {'alpha': 0.1}\n",
      "Best r2 Score : 0.48540911290849376\n",
      "-------------------------\n",
      "Model : DecisionTreeRegressor\n",
      "Best Parameter : {'max_depth': 12, 'min_samples_split': 7}\n",
      "Best r2 Score : 0.7948371033086656\n",
      "-------------------------\n",
      "Model : LGBMRegressor\n",
      "Best Parameter : {'learning_rate': 0.1, 'n_estimators': 200, 'num_leaves': 30}\n",
      "Best r2 Score : 0.8237045564298022\n",
      "-------------------------\n"
     ]
    }
   ],
   "source": [
    "n_models = [Ridge(),DecisionTreeRegressor(),LGBMRegressor(force_col_wise=True,verbosity = -1)]\n",
    "\n",
    "model_params = [\n",
    "    {\"alpha\":[0.01,0.1,10,100]},\n",
    "    {\"max_depth\":[3,5,7,9,12],\"min_samples_split\" : [3,5,7]},\n",
    "    # {\"max_depth\":[5,10,15,20,25],\"min_samples_split\": [4,7,10],\"n_estimators\":[100,200,300,400]},\n",
    "    # {\"learning_rate\":[0.01,0.05,0.1,0.25],\"max_depth\":[5,10,15,20,25],\"n_estimators\":[100,200,300,400]},\n",
    "    {\"num_leaves\":[15,20,25,30],\"learning_rate\":[0.01,0.05,0.1,0.25],\"n_estimators\":[200,300,400,500]}\n",
    "\n",
    "]\n",
    "\n",
    "\n",
    "params = {}\n",
    "names = {}\n",
    "\n",
    "for model,param in zip(n_models,model_params):\n",
    "    grid_search = GridSearchCV(model,param,cv = 5,scoring=\"r2\",n_jobs = -1)\n",
    "    grid_search.fit(X_train,y_train)\n",
    "\n",
    "    params[model.__class__.__name__] = grid_search.best_params_\n",
    "    names[model.__class__.__name__] = grid_search.best_score_\n",
    "    \n",
    "    print(f\"Model : {model.__class__.__name__}\")\n",
    "    print(f\"Best Parameter : {grid_search.best_params_}\")\n",
    "    print(f\"Best r2 Score : {grid_search.best_score_}\")\n",
    "    print(\"-------------------------\")\n",
    "\n"
   ]
  },
  {
   "cell_type": "code",
   "execution_count": 109,
   "id": "d5ff9e23",
   "metadata": {
    "execution": {
     "iopub.execute_input": "2024-11-03T04:37:11.899739Z",
     "iopub.status.busy": "2024-11-03T04:37:11.898803Z",
     "iopub.status.idle": "2024-11-03T04:37:11.904412Z",
     "shell.execute_reply": "2024-11-03T04:37:11.903568Z"
    },
    "papermill": {
     "duration": 0.056445,
     "end_time": "2024-11-03T04:37:11.906390",
     "exception": false,
     "start_time": "2024-11-03T04:37:11.849945",
     "status": "completed"
    },
    "tags": []
   },
   "outputs": [],
   "source": [
    "best_model = sorted(names.items(),key=lambda x:x[1],reverse=True)[0][0]"
   ]
  },
  {
   "cell_type": "markdown",
   "id": "eacd2525",
   "metadata": {
    "papermill": {
     "duration": 0.047234,
     "end_time": "2024-11-03T04:37:12.001516",
     "exception": false,
     "start_time": "2024-11-03T04:37:11.954282",
     "status": "completed"
    },
    "tags": []
   },
   "source": [
    "## 9. Final Model and Evaluation "
   ]
  },
  {
   "cell_type": "code",
   "execution_count": 110,
   "id": "a8a677ab",
   "metadata": {
    "execution": {
     "iopub.execute_input": "2024-11-03T04:37:12.098128Z",
     "iopub.status.busy": "2024-11-03T04:37:12.097771Z",
     "iopub.status.idle": "2024-11-03T04:37:12.833741Z",
     "shell.execute_reply": "2024-11-03T04:37:12.832750Z"
    },
    "papermill": {
     "duration": 0.785982,
     "end_time": "2024-11-03T04:37:12.835775",
     "exception": false,
     "start_time": "2024-11-03T04:37:12.049793",
     "status": "completed"
    },
    "tags": []
   },
   "outputs": [
    {
     "name": "stdout",
     "output_type": "stream",
     "text": [
      "r2_score on test:0.8352611913334071\n",
      "Root mean squared error on test:3.802402705516917\n"
     ]
    }
   ],
   "source": [
    "lgbm = LGBMRegressor(**params[best_model],random_state = 42,\n",
    "                    force_col_wise = True,verbosity = -1)\n",
    "lgbm.fit(X_train,y_train)\n",
    "\n",
    "y_test_pred = lgbm.predict(X_test)\n",
    "\n",
    "print(f\"r2_score on test:{r2_score(y_test,y_test_pred)}\")\n",
    "print(f\"Root mean squared error on test:{np.sqrt(mean_squared_error(y_test,y_test_pred))}\")"
   ]
  },
  {
   "cell_type": "code",
   "execution_count": null,
   "id": "b08e98d8",
   "metadata": {
    "papermill": {
     "duration": 0.047534,
     "end_time": "2024-11-03T04:37:12.932119",
     "exception": false,
     "start_time": "2024-11-03T04:37:12.884585",
     "status": "completed"
    },
    "tags": []
   },
   "outputs": [],
   "source": []
  }
 ],
 "metadata": {
  "kaggle": {
   "accelerator": "gpu",
   "dataSources": [
    {
     "datasetId": 2515893,
     "sourceId": 4269865,
     "sourceType": "datasetVersion"
    }
   ],
   "dockerImageVersionId": 30786,
   "isGpuEnabled": true,
   "isInternetEnabled": true,
   "language": "python",
   "sourceType": "notebook"
  },
  "kernelspec": {
   "display_name": "Python 3",
   "language": "python",
   "name": "python3"
  },
  "language_info": {
   "codemirror_mode": {
    "name": "ipython",
    "version": 3
   },
   "file_extension": ".py",
   "mimetype": "text/x-python",
   "name": "python",
   "nbconvert_exporter": "python",
   "pygments_lexer": "ipython3",
   "version": "3.10.14"
  },
  "papermill": {
   "default_parameters": {},
   "duration": 427.267821,
   "end_time": "2024-11-03T04:37:15.597686",
   "environment_variables": {},
   "exception": null,
   "input_path": "__notebook__.ipynb",
   "output_path": "__notebook__.ipynb",
   "parameters": {},
   "start_time": "2024-11-03T04:30:08.329865",
   "version": "2.6.0"
  }
 },
 "nbformat": 4,
 "nbformat_minor": 5
}
