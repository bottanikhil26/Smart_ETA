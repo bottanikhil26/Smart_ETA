{
 "cells": [
  {
   "cell_type": "markdown",
   "id": "fb8e1968-5132-4ba3-920a-148a446c83a1",
   "metadata": {
    "jp-MarkdownHeadingCollapsed": true
   },
   "source": [
    "# **Smart ETA: Intelligent Delivery Duration Prediction**\n",
    "\n",
    "## **Problem Statement**\n",
    "\n",
    "This project focuses on predicting **food delivery duration** in the context of a food tech platform. A delivery trip typically consists of two segments:\n",
    "\n",
    "1. **Driver to Restaurant (A → B)**: Time taken by the driver to reach the restaurant after accepting the order.  \n",
    "2. **Restaurant to Customer (B → C)**: Time taken to deliver the order from the restaurant to the customer.\n",
    "\n",
    "The **total_trip_duration** is approximately the sum of:\n",
    "- **Food Preparation Time**\n",
    "- **Delivery Time from Restaurant to Customer (B → C)**\n",
    "\n",
    "---\n",
    "\n",
    "## **Notebook Objective**\n",
    "\n",
    "This notebook is part of the **Smart ETA** project, which aims to provide intelligent and data-driven predictions of food delivery times.\n",
    "\n",
    "Due to the **unavailability of real-time driver location data**, this notebook focuses on predicting only the **B → C segment** — the delivery duration from the **restaurant to the customer**.\n",
    "\n",
    "We approximate the total trip duration as:\n",
    "\n",
    "> **total_trip_duration** ≈ *food_preparation_time* + *restaurant_to_customer_time (B → C)*\n",
    "\n",
    "This work supports the backend of a FastAPI-based prediction service, which handles:\n",
    "- **B → C delivery duration** prediction (as done here)\n",
    "- **Full trip ETA** when preparation time and A → B data are available\n",
    "\n",
    "---\n",
    "\n",
    "## **System Assumptions**\n",
    "\n",
    "- Drivers are assumed to follow the **optimal delivery route** as suggested by our **internal route engine**.\n",
    "- Food preparation time is either estimated or provided as part of historical data.\n",
    "- Environmental and traffic-related factors are implicitly captured through historical data patterns.\n",
    "\n",
    "---\n",
    "\n",
    "## **FastAPI Endpoint Functionality**\n",
    "\n",
    "The FastAPI application exposes endpoints to predict:\n",
    "- **Restaurant to Customer (B → C)** delivery time  \n",
    "- **Full trip duration (A → C)**, combining food preparation time and delivery time, when full data is available\n"
   ]
  },
  {
   "cell_type": "code",
   "execution_count": 2,
   "id": "f23f5d2c-76d7-4506-925a-b0add3850d86",
   "metadata": {},
   "outputs": [
    {
     "data": {
      "text/plain": [
       "'/Users/nikhil/Documents/Project/1)Smart_Eta/NoteBooks'"
      ]
     },
     "execution_count": 2,
     "metadata": {},
     "output_type": "execute_result"
    }
   ],
   "source": [
    "# checking the current directory\n",
    "import os\n",
    "os.getcwd()"
   ]
  },
  {
   "cell_type": "code",
   "execution_count": 3,
   "id": "26a91eaa-26c8-49ba-b3f9-13c7b7e1c7b4",
   "metadata": {},
   "outputs": [
    {
     "data": {
      "text/plain": [
       "'/Users/nikhil/Documents/Project/1)Smart_Eta'"
      ]
     },
     "execution_count": 3,
     "metadata": {},
     "output_type": "execute_result"
    }
   ],
   "source": [
    "# change the directory\n",
    "os.chdir('..')\n",
    "os.getcwd()\n"
   ]
  },
  {
   "cell_type": "code",
   "execution_count": 4,
   "id": "f7f8e165-af38-4ed6-affc-66e8e10c7f24",
   "metadata": {},
   "outputs": [],
   "source": [
    "#import the required libraries\n",
    "import pandas as pd\n",
    "import numpy as np\n",
    "import seaborn as sns\n",
    "import matplotlib.pyplot as plt\n",
    "%matplotlib inline\n",
    "import warnings\n",
    "warnings.filterwarnings('ignore')\n",
    "from datetime import timedelta"
   ]
  },
  {
   "cell_type": "code",
   "execution_count": 5,
   "id": "89f3876d-5800-4584-9702-89bbc11b31be",
   "metadata": {},
   "outputs": [],
   "source": [
    "#Reading the data\n",
    "data = pd.read_csv('data/train.csv')"
   ]
  },
  {
   "cell_type": "code",
   "execution_count": 6,
   "id": "250634f5-781e-473c-910f-e9fb1cd3da03",
   "metadata": {},
   "outputs": [
    {
     "data": {
      "text/html": [
       "<div>\n",
       "<style scoped>\n",
       "    .dataframe tbody tr th:only-of-type {\n",
       "        vertical-align: middle;\n",
       "    }\n",
       "\n",
       "    .dataframe tbody tr th {\n",
       "        vertical-align: top;\n",
       "    }\n",
       "\n",
       "    .dataframe thead th {\n",
       "        text-align: right;\n",
       "    }\n",
       "</style>\n",
       "<table border=\"1\" class=\"dataframe\">\n",
       "  <thead>\n",
       "    <tr style=\"text-align: right;\">\n",
       "      <th></th>\n",
       "      <th>ID</th>\n",
       "      <th>Delivery_person_ID</th>\n",
       "      <th>Delivery_person_Age</th>\n",
       "      <th>Delivery_person_Ratings</th>\n",
       "      <th>Restaurant_latitude</th>\n",
       "      <th>Restaurant_longitude</th>\n",
       "      <th>Delivery_location_latitude</th>\n",
       "      <th>Delivery_location_longitude</th>\n",
       "      <th>Order_Date</th>\n",
       "      <th>Time_Orderd</th>\n",
       "      <th>Time_Order_picked</th>\n",
       "      <th>Weatherconditions</th>\n",
       "      <th>Road_traffic_density</th>\n",
       "      <th>Vehicle_condition</th>\n",
       "      <th>Type_of_order</th>\n",
       "      <th>Type_of_vehicle</th>\n",
       "      <th>multiple_deliveries</th>\n",
       "      <th>Festival</th>\n",
       "      <th>City</th>\n",
       "      <th>Time_taken(min)</th>\n",
       "    </tr>\n",
       "  </thead>\n",
       "  <tbody>\n",
       "    <tr>\n",
       "      <th>0</th>\n",
       "      <td>0x4607</td>\n",
       "      <td>INDORES13DEL02</td>\n",
       "      <td>37</td>\n",
       "      <td>4.9</td>\n",
       "      <td>22.745049</td>\n",
       "      <td>75.892471</td>\n",
       "      <td>22.765049</td>\n",
       "      <td>75.912471</td>\n",
       "      <td>19-03-2022</td>\n",
       "      <td>11:30:00</td>\n",
       "      <td>11:45:00</td>\n",
       "      <td>conditions Sunny</td>\n",
       "      <td>High</td>\n",
       "      <td>2</td>\n",
       "      <td>Snack</td>\n",
       "      <td>motorcycle</td>\n",
       "      <td>0</td>\n",
       "      <td>No</td>\n",
       "      <td>Urban</td>\n",
       "      <td>(min) 24</td>\n",
       "    </tr>\n",
       "    <tr>\n",
       "      <th>1</th>\n",
       "      <td>0xb379</td>\n",
       "      <td>BANGRES18DEL02</td>\n",
       "      <td>34</td>\n",
       "      <td>4.5</td>\n",
       "      <td>12.913041</td>\n",
       "      <td>77.683237</td>\n",
       "      <td>13.043041</td>\n",
       "      <td>77.813237</td>\n",
       "      <td>25-03-2022</td>\n",
       "      <td>19:45:00</td>\n",
       "      <td>19:50:00</td>\n",
       "      <td>conditions Stormy</td>\n",
       "      <td>Jam</td>\n",
       "      <td>2</td>\n",
       "      <td>Snack</td>\n",
       "      <td>scooter</td>\n",
       "      <td>1</td>\n",
       "      <td>No</td>\n",
       "      <td>Metropolitian</td>\n",
       "      <td>(min) 33</td>\n",
       "    </tr>\n",
       "    <tr>\n",
       "      <th>2</th>\n",
       "      <td>0x5d6d</td>\n",
       "      <td>BANGRES19DEL01</td>\n",
       "      <td>23</td>\n",
       "      <td>4.4</td>\n",
       "      <td>12.914264</td>\n",
       "      <td>77.678400</td>\n",
       "      <td>12.924264</td>\n",
       "      <td>77.688400</td>\n",
       "      <td>19-03-2022</td>\n",
       "      <td>08:30:00</td>\n",
       "      <td>08:45:00</td>\n",
       "      <td>conditions Sandstorms</td>\n",
       "      <td>Low</td>\n",
       "      <td>0</td>\n",
       "      <td>Drinks</td>\n",
       "      <td>motorcycle</td>\n",
       "      <td>1</td>\n",
       "      <td>No</td>\n",
       "      <td>Urban</td>\n",
       "      <td>(min) 26</td>\n",
       "    </tr>\n",
       "    <tr>\n",
       "      <th>3</th>\n",
       "      <td>0x7a6a</td>\n",
       "      <td>COIMBRES13DEL02</td>\n",
       "      <td>38</td>\n",
       "      <td>4.7</td>\n",
       "      <td>11.003669</td>\n",
       "      <td>76.976494</td>\n",
       "      <td>11.053669</td>\n",
       "      <td>77.026494</td>\n",
       "      <td>05-04-2022</td>\n",
       "      <td>18:00:00</td>\n",
       "      <td>18:10:00</td>\n",
       "      <td>conditions Sunny</td>\n",
       "      <td>Medium</td>\n",
       "      <td>0</td>\n",
       "      <td>Buffet</td>\n",
       "      <td>motorcycle</td>\n",
       "      <td>1</td>\n",
       "      <td>No</td>\n",
       "      <td>Metropolitian</td>\n",
       "      <td>(min) 21</td>\n",
       "    </tr>\n",
       "    <tr>\n",
       "      <th>4</th>\n",
       "      <td>0x70a2</td>\n",
       "      <td>CHENRES12DEL01</td>\n",
       "      <td>32</td>\n",
       "      <td>4.6</td>\n",
       "      <td>12.972793</td>\n",
       "      <td>80.249982</td>\n",
       "      <td>13.012793</td>\n",
       "      <td>80.289982</td>\n",
       "      <td>26-03-2022</td>\n",
       "      <td>13:30:00</td>\n",
       "      <td>13:45:00</td>\n",
       "      <td>conditions Cloudy</td>\n",
       "      <td>High</td>\n",
       "      <td>1</td>\n",
       "      <td>Snack</td>\n",
       "      <td>scooter</td>\n",
       "      <td>1</td>\n",
       "      <td>No</td>\n",
       "      <td>Metropolitian</td>\n",
       "      <td>(min) 30</td>\n",
       "    </tr>\n",
       "  </tbody>\n",
       "</table>\n",
       "</div>"
      ],
      "text/plain": [
       "        ID Delivery_person_ID Delivery_person_Age Delivery_person_Ratings  \\\n",
       "0  0x4607     INDORES13DEL02                   37                     4.9   \n",
       "1  0xb379     BANGRES18DEL02                   34                     4.5   \n",
       "2  0x5d6d     BANGRES19DEL01                   23                     4.4   \n",
       "3  0x7a6a    COIMBRES13DEL02                   38                     4.7   \n",
       "4  0x70a2     CHENRES12DEL01                   32                     4.6   \n",
       "\n",
       "   Restaurant_latitude  Restaurant_longitude  Delivery_location_latitude  \\\n",
       "0            22.745049             75.892471                   22.765049   \n",
       "1            12.913041             77.683237                   13.043041   \n",
       "2            12.914264             77.678400                   12.924264   \n",
       "3            11.003669             76.976494                   11.053669   \n",
       "4            12.972793             80.249982                   13.012793   \n",
       "\n",
       "   Delivery_location_longitude  Order_Date Time_Orderd Time_Order_picked  \\\n",
       "0                    75.912471  19-03-2022    11:30:00          11:45:00   \n",
       "1                    77.813237  25-03-2022    19:45:00          19:50:00   \n",
       "2                    77.688400  19-03-2022    08:30:00          08:45:00   \n",
       "3                    77.026494  05-04-2022    18:00:00          18:10:00   \n",
       "4                    80.289982  26-03-2022    13:30:00          13:45:00   \n",
       "\n",
       "       Weatherconditions Road_traffic_density  Vehicle_condition  \\\n",
       "0       conditions Sunny                High                   2   \n",
       "1      conditions Stormy                 Jam                   2   \n",
       "2  conditions Sandstorms                 Low                   0   \n",
       "3       conditions Sunny              Medium                   0   \n",
       "4      conditions Cloudy                High                   1   \n",
       "\n",
       "  Type_of_order Type_of_vehicle multiple_deliveries Festival            City  \\\n",
       "0        Snack      motorcycle                    0      No           Urban    \n",
       "1        Snack         scooter                    1      No   Metropolitian    \n",
       "2       Drinks      motorcycle                    1      No           Urban    \n",
       "3       Buffet      motorcycle                    1      No   Metropolitian    \n",
       "4        Snack         scooter                    1      No   Metropolitian    \n",
       "\n",
       "  Time_taken(min)  \n",
       "0        (min) 24  \n",
       "1        (min) 33  \n",
       "2        (min) 26  \n",
       "3        (min) 21  \n",
       "4        (min) 30  "
      ]
     },
     "execution_count": 6,
     "metadata": {},
     "output_type": "execute_result"
    }
   ],
   "source": [
    "#first few rows\n",
    "data.head()"
   ]
  },
  {
   "cell_type": "code",
   "execution_count": 7,
   "id": "797749e7-f72b-43cf-a521-94e75240df7a",
   "metadata": {},
   "outputs": [
    {
     "data": {
      "text/html": [
       "<div>\n",
       "<style scoped>\n",
       "    .dataframe tbody tr th:only-of-type {\n",
       "        vertical-align: middle;\n",
       "    }\n",
       "\n",
       "    .dataframe tbody tr th {\n",
       "        vertical-align: top;\n",
       "    }\n",
       "\n",
       "    .dataframe thead th {\n",
       "        text-align: right;\n",
       "    }\n",
       "</style>\n",
       "<table border=\"1\" class=\"dataframe\">\n",
       "  <thead>\n",
       "    <tr style=\"text-align: right;\">\n",
       "      <th></th>\n",
       "      <th>ID</th>\n",
       "      <th>Delivery_person_ID</th>\n",
       "      <th>Delivery_person_Age</th>\n",
       "      <th>Delivery_person_Ratings</th>\n",
       "      <th>Restaurant_latitude</th>\n",
       "      <th>Restaurant_longitude</th>\n",
       "      <th>Delivery_location_latitude</th>\n",
       "      <th>Delivery_location_longitude</th>\n",
       "      <th>Order_Date</th>\n",
       "      <th>Time_Orderd</th>\n",
       "      <th>Time_Order_picked</th>\n",
       "      <th>Weatherconditions</th>\n",
       "      <th>Road_traffic_density</th>\n",
       "      <th>Vehicle_condition</th>\n",
       "      <th>Type_of_order</th>\n",
       "      <th>Type_of_vehicle</th>\n",
       "      <th>multiple_deliveries</th>\n",
       "      <th>Festival</th>\n",
       "      <th>City</th>\n",
       "      <th>Time_taken(min)</th>\n",
       "    </tr>\n",
       "  </thead>\n",
       "  <tbody>\n",
       "    <tr>\n",
       "      <th>45588</th>\n",
       "      <td>0x7c09</td>\n",
       "      <td>JAPRES04DEL01</td>\n",
       "      <td>30</td>\n",
       "      <td>4.8</td>\n",
       "      <td>26.902328</td>\n",
       "      <td>75.794257</td>\n",
       "      <td>26.912328</td>\n",
       "      <td>75.804257</td>\n",
       "      <td>24-03-2022</td>\n",
       "      <td>11:35:00</td>\n",
       "      <td>11:45:00</td>\n",
       "      <td>conditions Windy</td>\n",
       "      <td>High</td>\n",
       "      <td>1</td>\n",
       "      <td>Meal</td>\n",
       "      <td>motorcycle</td>\n",
       "      <td>0</td>\n",
       "      <td>No</td>\n",
       "      <td>Metropolitian</td>\n",
       "      <td>(min) 32</td>\n",
       "    </tr>\n",
       "    <tr>\n",
       "      <th>45589</th>\n",
       "      <td>0xd641</td>\n",
       "      <td>AGRRES16DEL01</td>\n",
       "      <td>21</td>\n",
       "      <td>4.6</td>\n",
       "      <td>0.000000</td>\n",
       "      <td>0.000000</td>\n",
       "      <td>0.070000</td>\n",
       "      <td>0.070000</td>\n",
       "      <td>16-02-2022</td>\n",
       "      <td>19:55:00</td>\n",
       "      <td>20:10:00</td>\n",
       "      <td>conditions Windy</td>\n",
       "      <td>Jam</td>\n",
       "      <td>0</td>\n",
       "      <td>Buffet</td>\n",
       "      <td>motorcycle</td>\n",
       "      <td>1</td>\n",
       "      <td>No</td>\n",
       "      <td>Metropolitian</td>\n",
       "      <td>(min) 36</td>\n",
       "    </tr>\n",
       "    <tr>\n",
       "      <th>45590</th>\n",
       "      <td>0x4f8d</td>\n",
       "      <td>CHENRES08DEL03</td>\n",
       "      <td>30</td>\n",
       "      <td>4.9</td>\n",
       "      <td>13.022394</td>\n",
       "      <td>80.242439</td>\n",
       "      <td>13.052394</td>\n",
       "      <td>80.272439</td>\n",
       "      <td>11-03-2022</td>\n",
       "      <td>23:50:00</td>\n",
       "      <td>00:05:00</td>\n",
       "      <td>conditions Cloudy</td>\n",
       "      <td>Low</td>\n",
       "      <td>1</td>\n",
       "      <td>Drinks</td>\n",
       "      <td>scooter</td>\n",
       "      <td>0</td>\n",
       "      <td>No</td>\n",
       "      <td>Metropolitian</td>\n",
       "      <td>(min) 16</td>\n",
       "    </tr>\n",
       "    <tr>\n",
       "      <th>45591</th>\n",
       "      <td>0x5eee</td>\n",
       "      <td>COIMBRES11DEL01</td>\n",
       "      <td>20</td>\n",
       "      <td>4.7</td>\n",
       "      <td>11.001753</td>\n",
       "      <td>76.986241</td>\n",
       "      <td>11.041753</td>\n",
       "      <td>77.026241</td>\n",
       "      <td>07-03-2022</td>\n",
       "      <td>13:35:00</td>\n",
       "      <td>13:40:00</td>\n",
       "      <td>conditions Cloudy</td>\n",
       "      <td>High</td>\n",
       "      <td>0</td>\n",
       "      <td>Snack</td>\n",
       "      <td>motorcycle</td>\n",
       "      <td>1</td>\n",
       "      <td>No</td>\n",
       "      <td>Metropolitian</td>\n",
       "      <td>(min) 26</td>\n",
       "    </tr>\n",
       "    <tr>\n",
       "      <th>45592</th>\n",
       "      <td>0x5fb2</td>\n",
       "      <td>RANCHIRES09DEL02</td>\n",
       "      <td>23</td>\n",
       "      <td>4.9</td>\n",
       "      <td>23.351058</td>\n",
       "      <td>85.325731</td>\n",
       "      <td>23.431058</td>\n",
       "      <td>85.405731</td>\n",
       "      <td>02-03-2022</td>\n",
       "      <td>17:10:00</td>\n",
       "      <td>17:15:00</td>\n",
       "      <td>conditions Fog</td>\n",
       "      <td>Medium</td>\n",
       "      <td>2</td>\n",
       "      <td>Snack</td>\n",
       "      <td>scooter</td>\n",
       "      <td>1</td>\n",
       "      <td>No</td>\n",
       "      <td>Metropolitian</td>\n",
       "      <td>(min) 36</td>\n",
       "    </tr>\n",
       "  </tbody>\n",
       "</table>\n",
       "</div>"
      ],
      "text/plain": [
       "            ID Delivery_person_ID Delivery_person_Age Delivery_person_Ratings  \\\n",
       "45588  0x7c09      JAPRES04DEL01                   30                     4.8   \n",
       "45589  0xd641      AGRRES16DEL01                   21                     4.6   \n",
       "45590  0x4f8d     CHENRES08DEL03                   30                     4.9   \n",
       "45591  0x5eee    COIMBRES11DEL01                   20                     4.7   \n",
       "45592  0x5fb2   RANCHIRES09DEL02                   23                     4.9   \n",
       "\n",
       "       Restaurant_latitude  Restaurant_longitude  Delivery_location_latitude  \\\n",
       "45588            26.902328             75.794257                   26.912328   \n",
       "45589             0.000000              0.000000                    0.070000   \n",
       "45590            13.022394             80.242439                   13.052394   \n",
       "45591            11.001753             76.986241                   11.041753   \n",
       "45592            23.351058             85.325731                   23.431058   \n",
       "\n",
       "       Delivery_location_longitude  Order_Date Time_Orderd Time_Order_picked  \\\n",
       "45588                    75.804257  24-03-2022    11:35:00          11:45:00   \n",
       "45589                     0.070000  16-02-2022    19:55:00          20:10:00   \n",
       "45590                    80.272439  11-03-2022    23:50:00          00:05:00   \n",
       "45591                    77.026241  07-03-2022    13:35:00          13:40:00   \n",
       "45592                    85.405731  02-03-2022    17:10:00          17:15:00   \n",
       "\n",
       "       Weatherconditions Road_traffic_density  Vehicle_condition  \\\n",
       "45588   conditions Windy                High                   1   \n",
       "45589   conditions Windy                 Jam                   0   \n",
       "45590  conditions Cloudy                 Low                   1   \n",
       "45591  conditions Cloudy                High                   0   \n",
       "45592     conditions Fog              Medium                   2   \n",
       "\n",
       "      Type_of_order Type_of_vehicle multiple_deliveries Festival  \\\n",
       "45588         Meal      motorcycle                    0      No    \n",
       "45589       Buffet      motorcycle                    1      No    \n",
       "45590       Drinks         scooter                    0      No    \n",
       "45591        Snack      motorcycle                    1      No    \n",
       "45592        Snack         scooter                    1      No    \n",
       "\n",
       "                 City Time_taken(min)  \n",
       "45588  Metropolitian         (min) 32  \n",
       "45589  Metropolitian         (min) 36  \n",
       "45590  Metropolitian         (min) 16  \n",
       "45591  Metropolitian         (min) 26  \n",
       "45592  Metropolitian         (min) 36  "
      ]
     },
     "execution_count": 7,
     "metadata": {},
     "output_type": "execute_result"
    }
   ],
   "source": [
    "#last few rows\n",
    "data.tail()"
   ]
  },
  {
   "cell_type": "code",
   "execution_count": 8,
   "id": "0d087b1c-f216-44aa-adcd-03bd3ca2aa05",
   "metadata": {},
   "outputs": [
    {
     "data": {
      "text/plain": [
       "ID                             0\n",
       "Delivery_person_ID             0\n",
       "Delivery_person_Age            0\n",
       "Delivery_person_Ratings        0\n",
       "Restaurant_latitude            0\n",
       "Restaurant_longitude           0\n",
       "Delivery_location_latitude     0\n",
       "Delivery_location_longitude    0\n",
       "Order_Date                     0\n",
       "Time_Orderd                    0\n",
       "Time_Order_picked              0\n",
       "Weatherconditions              0\n",
       "Road_traffic_density           0\n",
       "Vehicle_condition              0\n",
       "Type_of_order                  0\n",
       "Type_of_vehicle                0\n",
       "multiple_deliveries            0\n",
       "Festival                       0\n",
       "City                           0\n",
       "Time_taken(min)                0\n",
       "dtype: int64"
      ]
     },
     "execution_count": 8,
     "metadata": {},
     "output_type": "execute_result"
    }
   ],
   "source": [
    "#checking any nulls values\n",
    "data.isna().sum()"
   ]
  },
  {
   "cell_type": "code",
   "execution_count": 9,
   "id": "58a68fff-eb88-44f8-bbb0-31ea0c1d594e",
   "metadata": {},
   "outputs": [
    {
     "data": {
      "text/plain": [
       "ID                              object\n",
       "Delivery_person_ID              object\n",
       "Delivery_person_Age             object\n",
       "Delivery_person_Ratings         object\n",
       "Restaurant_latitude            float64\n",
       "Restaurant_longitude           float64\n",
       "Delivery_location_latitude     float64\n",
       "Delivery_location_longitude    float64\n",
       "Order_Date                      object\n",
       "Time_Orderd                     object\n",
       "Time_Order_picked               object\n",
       "Weatherconditions               object\n",
       "Road_traffic_density            object\n",
       "Vehicle_condition                int64\n",
       "Type_of_order                   object\n",
       "Type_of_vehicle                 object\n",
       "multiple_deliveries             object\n",
       "Festival                        object\n",
       "City                            object\n",
       "Time_taken(min)                 object\n",
       "dtype: object"
      ]
     },
     "execution_count": 9,
     "metadata": {},
     "output_type": "execute_result"
    }
   ],
   "source": [
    "#checking the type of variable\n",
    "data.dtypes"
   ]
  },
  {
   "cell_type": "code",
   "execution_count": 10,
   "id": "d9f526f5-1fbc-4702-866a-a921ad32075e",
   "metadata": {},
   "outputs": [
    {
     "data": {
      "text/plain": [
       "(45593, 20)"
      ]
     },
     "execution_count": 10,
     "metadata": {},
     "output_type": "execute_result"
    }
   ],
   "source": [
    "data.shape"
   ]
  },
  {
   "cell_type": "code",
   "execution_count": 11,
   "id": "0a12cce6-9c24-4691-80d0-5656ab8d4969",
   "metadata": {},
   "outputs": [],
   "source": [
    "#removing the extra space beacuse most of them are in object type\n",
    "data = data.apply(lambda x:x.str.strip() if x.dtypes=='object' else x)\n",
    "data[\"Weatherconditions\"] = data[\"Weatherconditions\"].str.split(\" \").str[-1]"
   ]
  },
  {
   "cell_type": "code",
   "execution_count": 12,
   "id": "81769a8d-8afb-47cb-a2a7-50c323dc95f7",
   "metadata": {},
   "outputs": [],
   "source": [
    "#converting the nan values into np.nan\n",
    "for col in data.select_dtypes(include=[\"object\"]).columns:\n",
    "    data[col] = data[col].replace([\"NaN\", \"nan\", \"null\", \"NULL\", \"\", \"NA\", \"N/A\", \"--\"], np.nan)"
   ]
  },
  {
   "cell_type": "code",
   "execution_count": 13,
   "id": "bfb6d2a7-6809-483a-8eec-1805ffebd329",
   "metadata": {},
   "outputs": [
    {
     "data": {
      "text/plain": [
       "ID                                0\n",
       "Delivery_person_ID                0\n",
       "Delivery_person_Age            1854\n",
       "Delivery_person_Ratings        1908\n",
       "Restaurant_latitude               0\n",
       "Restaurant_longitude              0\n",
       "Delivery_location_latitude        0\n",
       "Delivery_location_longitude       0\n",
       "Order_Date                        0\n",
       "Time_Orderd                    1731\n",
       "Time_Order_picked                 0\n",
       "Weatherconditions               616\n",
       "Road_traffic_density            601\n",
       "Vehicle_condition                 0\n",
       "Type_of_order                     0\n",
       "Type_of_vehicle                   0\n",
       "multiple_deliveries             993\n",
       "Festival                        228\n",
       "City                           1200\n",
       "Time_taken(min)                   0\n",
       "dtype: int64"
      ]
     },
     "execution_count": 13,
     "metadata": {},
     "output_type": "execute_result"
    }
   ],
   "source": [
    "#rechecking the null values or missing values\n",
    "data.isna().sum()"
   ]
  },
  {
   "cell_type": "markdown",
   "id": "b3314326-7a51-4547-8665-f079989a85a7",
   "metadata": {},
   "source": [
    "# Following steps \n",
    "* Changing the variable type\n",
    "* understanding each variables\n",
    "* Missing values strategy\n",
    "* Feature generation\n",
    "* Transforming the variables\n",
    "* co-relation of entire dataset\n",
    "* final_dataset for model training "
   ]
  },
  {
   "cell_type": "markdown",
   "id": "f41d944e-4f3c-4b3f-a1e1-012589f7e9c7",
   "metadata": {},
   "source": [
    "# Understanding the each variable - Univariate analysis"
   ]
  },
  {
   "cell_type": "markdown",
   "id": "b35bba7a-23ce-4cd6-a92c-71db13decd75",
   "metadata": {},
   "source": [
    "* ID"
   ]
  },
  {
   "cell_type": "code",
   "execution_count": 17,
   "id": "0cd5dd57-7343-49a8-95ff-b5ad74621d2b",
   "metadata": {},
   "outputs": [
    {
     "data": {
      "text/plain": [
       "ID\n",
       "0x4607    1\n",
       "0x1f3e    1\n",
       "0xe251    1\n",
       "0x3f31    1\n",
       "0x4a78    1\n",
       "         ..\n",
       "0xc3f1    1\n",
       "0x5db7    1\n",
       "0x1985    1\n",
       "0xceda    1\n",
       "0x5fb2    1\n",
       "Name: count, Length: 45593, dtype: int64"
      ]
     },
     "execution_count": 17,
     "metadata": {},
     "output_type": "execute_result"
    }
   ],
   "source": [
    "#Number of Id \n",
    "data['ID'].value_counts()"
   ]
  },
  {
   "cell_type": "markdown",
   "id": "d33d617a-37a2-4f7e-a479-578deafe7c83",
   "metadata": {},
   "source": [
    "# **Summary**\n",
    "* ID describe unique id for each order\n",
    "* We can avoid Id variable in modelling"
   ]
  },
  {
   "cell_type": "markdown",
   "id": "e1257325-ab98-483d-8dcb-2014ba46593d",
   "metadata": {},
   "source": [
    "* Delivery_person_ID"
   ]
  },
  {
   "cell_type": "code",
   "execution_count": 20,
   "id": "4ee9f145-b773-4f36-9ff3-c05c722204ea",
   "metadata": {},
   "outputs": [
    {
     "data": {
      "text/plain": [
       "Delivery_person_ID\n",
       "PUNERES01DEL01    67\n",
       "JAPRES11DEL02     67\n",
       "HYDRES04DEL02     66\n",
       "JAPRES03DEL01     66\n",
       "VADRES11DEL02     66\n",
       "                  ..\n",
       "DEHRES18DEL03      7\n",
       "AURGRES11DEL03     7\n",
       "KOLRES09DEL03      6\n",
       "KOCRES16DEL03      6\n",
       "BHPRES010DEL03     5\n",
       "Name: count, Length: 1320, dtype: int64"
      ]
     },
     "execution_count": 20,
     "metadata": {},
     "output_type": "execute_result"
    }
   ],
   "source": [
    "#Number of Orders Completed by Each Delivery Person\n",
    "data['Delivery_person_ID'].value_counts()"
   ]
  },
  {
   "cell_type": "code",
   "execution_count": 21,
   "id": "5c441e5e-317e-4fe4-a023-4a5ced3cfa75",
   "metadata": {},
   "outputs": [
    {
     "data": {
      "text/plain": [
       "1320"
      ]
     },
     "execution_count": 21,
     "metadata": {},
     "output_type": "execute_result"
    }
   ],
   "source": [
    "#unique id\n",
    "data['Delivery_person_ID'].nunique()"
   ]
  },
  {
   "cell_type": "code",
   "execution_count": 22,
   "id": "6e4f2be5-6d69-4cce-acde-3b704572dad5",
   "metadata": {},
   "outputs": [
    {
     "data": {
      "image/png": "[encoded data removed]",
      "text/plain": [
       "<Figure size 800x500 with 1 Axes>"
      ]
     },
     "metadata": {},
     "output_type": "display_data"
    }
   ],
   "source": [
    "#barplot top 10 categories\n",
    "plt.figure(figsize=(8,5),dpi=100)\n",
    "norm_count = data['Delivery_person_ID'].value_counts(normalize=True)[:10]\n",
    "sns.barplot(x=norm_count, y=norm_count.index , order = norm_count.index, palette='pastel')\n",
    "plt.tight_layout()\n",
    "plt.show()"
   ]
  },
  {
   "cell_type": "markdown",
   "id": "aeb11aae-79f9-4888-9dcc-c4119e4ff0f6",
   "metadata": {},
   "source": [
    "# **Summary**\n",
    "* The **variable** represented a **categorical feature** corresponding to the **driver ID**.\n",
    "* From this variable, we were able to **extract** a more **informative feature** — **the city name** associated with each driver.\n",
    "* This enriched the dataset by providing **location-based context** for each driver."
   ]
  },
  {
   "cell_type": "markdown",
   "id": "ddb939c0-f8e0-43ee-841b-cbaec0912f84",
   "metadata": {},
   "source": [
    "Delivery_person_Age"
   ]
  },
  {
   "cell_type": "code",
   "execution_count": 25,
   "id": "505acc9b-9466-482a-8a4a-8de381d4d139",
   "metadata": {},
   "outputs": [
    {
     "data": {
      "text/plain": [
       "Delivery_person_Age\n",
       "35    2262\n",
       "36    2260\n",
       "37    2227\n",
       "30    2226\n",
       "38    2219\n",
       "24    2210\n",
       "32    2202\n",
       "22    2196\n",
       "29    2191\n",
       "33    2187\n",
       "28    2179\n",
       "25    2174\n",
       "34    2166\n",
       "26    2159\n",
       "21    2153\n",
       "27    2150\n",
       "39    2144\n",
       "20    2136\n",
       "31    2120\n",
       "23    2087\n",
       "50      53\n",
       "15      38\n",
       "Name: count, dtype: int64"
      ]
     },
     "execution_count": 25,
     "metadata": {},
     "output_type": "execute_result"
    }
   ],
   "source": [
    "#Number of Delivery Persons by Age\n",
    "data['Delivery_person_Age'].value_counts()"
   ]
  },
  {
   "cell_type": "code",
   "execution_count": 26,
   "id": "2b1b07d1-8854-4757-bd90-7b5249009195",
   "metadata": {},
   "outputs": [],
   "source": [
    "#converting into numerical\n",
    "data['Delivery_person_Age']=pd.to_numeric(data['Delivery_person_Age'] ,errors ='coerce')\n"
   ]
  },
  {
   "cell_type": "code",
   "execution_count": 27,
   "id": "da03742d-0158-4ce1-bf27-bc01b1a2ac4a",
   "metadata": {},
   "outputs": [
    {
     "data": {
      "text/plain": [
       "1854"
      ]
     },
     "execution_count": 27,
     "metadata": {},
     "output_type": "execute_result"
    }
   ],
   "source": [
    "#any missing values\n",
    "data['Delivery_person_Age'].isna().sum()"
   ]
  },
  {
   "cell_type": "code",
   "execution_count": 28,
   "id": "72e3ed17-2dcf-4acb-a8c3-27b88a29bd8d",
   "metadata": {},
   "outputs": [
    {
     "data": {
      "text/plain": [
       "(15.0, 50.0)"
      ]
     },
     "execution_count": 28,
     "metadata": {},
     "output_type": "execute_result"
    }
   ],
   "source": [
    "#min age ,max age\n",
    "data['Delivery_person_Age'].min(),data['Delivery_person_Age'].max()"
   ]
  },
  {
   "cell_type": "code",
   "execution_count": 29,
   "id": "017c149f-21bb-408f-b896-0a52fbb70dce",
   "metadata": {},
   "outputs": [
    {
     "data": {
      "text/plain": [
       "(30.0, 29.567136880129862)"
      ]
     },
     "execution_count": 29,
     "metadata": {},
     "output_type": "execute_result"
    }
   ],
   "source": [
    "#median age ,average age\n",
    "data['Delivery_person_Age'].median(),data['Delivery_person_Age'].mean()"
   ]
  },
  {
   "cell_type": "code",
   "execution_count": 30,
   "id": "015e36d0-0281-48db-8562-e77f13237d8b",
   "metadata": {},
   "outputs": [
    {
     "data": {
      "text/plain": [
       "(0.01866933501009544, -1.058332619421362)"
      ]
     },
     "execution_count": 30,
     "metadata": {},
     "output_type": "execute_result"
    }
   ],
   "source": [
    "#skewness adn kurtosis\n",
    "data['Delivery_person_Age'].skew(),data['Delivery_person_Age'].kurtosis()"
   ]
  },
  {
   "cell_type": "code",
   "execution_count": 31,
   "id": "5a32ccc7-f8db-4fb1-a466-c567988c6fad",
   "metadata": {},
   "outputs": [
    {
     "data": {
      "image/png": "[encoded data removed]",
      "text/plain": [
       "<Figure size 640x480 with 1 Axes>"
      ]
     },
     "metadata": {},
     "output_type": "display_data"
    }
   ],
   "source": [
    "#kde plot age vs density\n",
    "sns.kdeplot(data['Delivery_person_Age'],fill=True)\n",
    "plt.tight_layout()\n",
    "plt.show()"
   ]
  },
  {
   "cell_type": "markdown",
   "id": "d7ee9c17-39e2-4cb2-bfda-6b6fea7194e2",
   "metadata": {},
   "source": [
    "# **Summary**\n",
    "* Delivery_person_Age is a continuous variable.\n",
    "* It contains **1,854 missing values**.\n",
    "* The **mean age** is **29.56**, and the **median is 30**, indicating a fairly symmetrical distribution.\n",
    "* The **minimum age** is **15**, and the **maximum is 50**.\n",
    "* The **skewness** is **0.018**, suggesting the distribution is nearly symmetric.\n",
    "* The **kurtosis is -1.058**, indicating a relatively flat distribution compared to a normal curve."
   ]
  },
  {
   "cell_type": "markdown",
   "id": "d92298a4-8b66-4bc8-a3b8-646a9740eede",
   "metadata": {},
   "source": [
    "Delivery_person_Ratings"
   ]
  },
  {
   "cell_type": "code",
   "execution_count": 34,
   "id": "32adda58-6ea3-439a-a9d6-c089741dfc44",
   "metadata": {},
   "outputs": [
    {
     "data": {
      "text/plain": [
       "Delivery_person_Ratings\n",
       "4.8    7148\n",
       "4.7    7142\n",
       "4.9    7041\n",
       "4.6    6940\n",
       "5      3996\n",
       "4.5    3303\n",
       "4.1    1430\n",
       "4.2    1418\n",
       "4.3    1409\n",
       "4.4    1361\n",
       "4      1077\n",
       "3.5     249\n",
       "3.8     228\n",
       "3.7     225\n",
       "3.6     207\n",
       "3.9     197\n",
       "6        53\n",
       "1        38\n",
       "3.4      32\n",
       "3.1      29\n",
       "3.2      29\n",
       "3.3      25\n",
       "2.6      22\n",
       "2.7      22\n",
       "2.5      20\n",
       "2.8      19\n",
       "2.9      19\n",
       "3         6\n",
       "Name: count, dtype: int64"
      ]
     },
     "execution_count": 34,
     "metadata": {},
     "output_type": "execute_result"
    }
   ],
   "source": [
    "#Frequency Distribution of Delivery Person Ratings \n",
    "data['Delivery_person_Ratings'].value_counts()"
   ]
  },
  {
   "cell_type": "code",
   "execution_count": 35,
   "id": "c78f9690-9430-4737-8fba-647a76268a5d",
   "metadata": {},
   "outputs": [],
   "source": [
    "#converting into numerical\n",
    "data['Delivery_person_Ratings'] = pd.to_numeric(data['Delivery_person_Ratings'],errors = 'coerce')"
   ]
  },
  {
   "cell_type": "code",
   "execution_count": 36,
   "id": "536a722e-6ef1-493b-8e37-b70ad5a708c6",
   "metadata": {},
   "outputs": [
    {
     "data": {
      "text/plain": [
       "1908"
      ]
     },
     "execution_count": 36,
     "metadata": {},
     "output_type": "execute_result"
    }
   ],
   "source": [
    "#missing values\n",
    "data['Delivery_person_Ratings'].isna().sum()"
   ]
  },
  {
   "cell_type": "code",
   "execution_count": 37,
   "id": "83344036-fe92-465c-9fb4-4fbc79a6a402",
   "metadata": {},
   "outputs": [
    {
     "data": {
      "text/plain": [
       "(1.0, 6.0)"
      ]
     },
     "execution_count": 37,
     "metadata": {},
     "output_type": "execute_result"
    }
   ],
   "source": [
    "#min and max\n",
    "data['Delivery_person_Ratings'].min() , data['Delivery_person_Ratings'].max()"
   ]
  },
  {
   "cell_type": "code",
   "execution_count": 38,
   "id": "296b10b0-3900-481f-b5a6-9961bf549fcd",
   "metadata": {},
   "outputs": [
    {
     "data": {
      "text/plain": [
       "(4.633780473846858, 4.7)"
      ]
     },
     "execution_count": 38,
     "metadata": {},
     "output_type": "execute_result"
    }
   ],
   "source": [
    "#average ratings and median\n",
    "data['Delivery_person_Ratings'].mean(),data['Delivery_person_Ratings'].median()"
   ]
  },
  {
   "cell_type": "code",
   "execution_count": 39,
   "id": "8088626f-32bf-4743-a275-ec85e916c7e7",
   "metadata": {},
   "outputs": [
    {
     "data": {
      "text/plain": [
       "(-2.4935515971807916, 15.670704523844856)"
      ]
     },
     "execution_count": 39,
     "metadata": {},
     "output_type": "execute_result"
    }
   ],
   "source": [
    "#skewness and kurtosis\n",
    "data['Delivery_person_Ratings'].skew(),data['Delivery_person_Ratings'].kurtosis()"
   ]
  },
  {
   "cell_type": "code",
   "execution_count": 40,
   "id": "6ebf6505-40e5-4c16-93b8-1e3b9c9b5def",
   "metadata": {},
   "outputs": [
    {
     "data": {
      "image/png": "[encoded data removed]",
      "text/plain": [
       "<Figure size 640x480 with 1 Axes>"
      ]
     },
     "metadata": {},
     "output_type": "display_data"
    }
   ],
   "source": [
    "#rating vs density\n",
    "sns.kdeplot(data['Delivery_person_Ratings'],fill=True)\n",
    "plt.tight_layout()\n",
    "plt.show()"
   ]
  },
  {
   "cell_type": "markdown",
   "id": "e4463512-5748-4bf3-a6c4-a0dfe687c2c8",
   "metadata": {},
   "source": [
    "# **Summary**\n",
    "* **Delivery_person_Ratings** is a numerical column with values on a scale of **1 to 5**.\n",
    "* The distribution is **heavily concentrated above 4**, indicating generally high ratings.\n",
    "* The **mean** rating is **4.633**, and the **median** is **4.7**, showing a slightly left-skewed distribution.\n",
    "* The **minimum rating** is **1**, but the **maximum** is **6**, which is **outside the expected scale** and may indicate a data quality issue.\n",
    "* The **skewness** is **-2.49**, suggesting a strong left skew.\n",
    "* The **kurtosis** is **15.67**, indicating a highly peaked distribution with heavy tails."
   ]
  },
  {
   "cell_type": "markdown",
   "id": "6c9ce8ec-179c-4cb4-8ab4-c3a5732c2cea",
   "metadata": {},
   "source": [
    "Order_Date"
   ]
  },
  {
   "cell_type": "code",
   "execution_count": 43,
   "id": "3f013d44-9da0-4760-9614-49f72bd2869e",
   "metadata": {},
   "outputs": [],
   "source": [
    "#coverting into data-time\n",
    "data['Order_Date'] = pd.to_datetime(data['Order_Date'])"
   ]
  },
  {
   "cell_type": "code",
   "execution_count": 44,
   "id": "f02a4736-e63a-4e59-ab80-6ea876f8a21e",
   "metadata": {},
   "outputs": [
    {
     "data": {
      "text/plain": [
       "Order_Date\n",
       "2022-03-15    1192\n",
       "2022-04-03    1178\n",
       "2022-03-13    1169\n",
       "2022-03-26    1166\n",
       "2022-03-24    1162\n",
       "2022-03-09    1159\n",
       "2022-04-05    1157\n",
       "2022-03-05    1154\n",
       "2022-03-07    1153\n",
       "2022-03-03    1150\n",
       "2022-03-19    1150\n",
       "2022-03-21    1149\n",
       "2022-03-11    1149\n",
       "2022-03-30    1141\n",
       "2022-03-01    1140\n",
       "2022-03-28    1139\n",
       "2022-03-17    1134\n",
       "2022-04-01    1133\n",
       "2022-03-02    1012\n",
       "2022-03-10     996\n",
       "2022-03-16     995\n",
       "2022-03-20     994\n",
       "2022-04-02     992\n",
       "2022-03-06     986\n",
       "2022-03-04     981\n",
       "2022-03-29     977\n",
       "2022-03-25     975\n",
       "2022-03-14     974\n",
       "2022-02-11     970\n",
       "2022-03-18     968\n",
       "2022-03-31     967\n",
       "2022-03-27     965\n",
       "2022-03-12     964\n",
       "2022-03-08     964\n",
       "2022-03-23     964\n",
       "2022-04-06     961\n",
       "2022-02-13     957\n",
       "2022-02-15     945\n",
       "2022-04-04     941\n",
       "2022-02-17     939\n",
       "2022-02-12     864\n",
       "2022-02-16     861\n",
       "2022-02-18     855\n",
       "2022-02-14     851\n",
       "Name: count, dtype: int64"
      ]
     },
     "execution_count": 44,
     "metadata": {},
     "output_type": "execute_result"
    }
   ],
   "source": [
    "data['Order_Date'].value_counts()"
   ]
  },
  {
   "cell_type": "code",
   "execution_count": 45,
   "id": "0b854c21-744c-4fd0-98f7-6098cc350341",
   "metadata": {},
   "outputs": [
    {
     "data": {
      "text/plain": [
       "(Timestamp('2022-02-11 00:00:00'), Timestamp('2022-04-06 00:00:00'))"
      ]
     },
     "execution_count": 45,
     "metadata": {},
     "output_type": "execute_result"
    }
   ],
   "source": [
    "#least adn latest date\n",
    "data['Order_Date'].min(),data['Order_Date'].max()"
   ]
  },
  {
   "cell_type": "code",
   "execution_count": 46,
   "id": "177f1482-0480-42eb-bf46-6700ba09e8b4",
   "metadata": {},
   "outputs": [
    {
     "data": {
      "image/png": "[encoded data removed]",
      "text/plain": [
       "<Figure size 640x480 with 1 Axes>"
      ]
     },
     "metadata": {},
     "output_type": "display_data"
    }
   ],
   "source": [
    "#line plot\n",
    "data.groupby('Order_Date').size().plot(kind='line')\n",
    "plt.show()\n"
   ]
  },
  {
   "cell_type": "markdown",
   "id": "947fcb81-badc-442a-8560-b38ee4fb9b7e",
   "metadata": {},
   "source": [
    "# **Summary**\n",
    "* Order_Date is a datetime variable.\n",
    "* The **earliest date** in the dataset is **11-Feb-2022**, and the **latest date** is **06-Apr-2022**.\n",
    "* A noticeable **increase in sales** was observed from **February to March**, as seen in the time series plot.\n",
    "* We can extract additional temporal features such as **month** and **year** from this column to support further analysis."
   ]
  },
  {
   "cell_type": "markdown",
   "id": "a4eaf4ba-821a-461a-aefb-1e284c840d81",
   "metadata": {},
   "source": [
    "Time_Orderd"
   ]
  },
  {
   "cell_type": "code",
   "execution_count": 49,
   "id": "e616434b-12a7-4960-b249-ac0285d15bba",
   "metadata": {},
   "outputs": [],
   "source": [
    "data['Time_Orderd'] = pd.to_datetime(data['Time_Orderd'],format=\"%H:%M:%S\").dt.time"
   ]
  },
  {
   "cell_type": "code",
   "execution_count": 50,
   "id": "b0500e16-95da-4c1e-83c4-e302da5e213b",
   "metadata": {},
   "outputs": [
    {
     "data": {
      "text/plain": [
       "Time_Orderd\n",
       "21:55:00    461\n",
       "17:55:00    456\n",
       "20:00:00    449\n",
       "22:20:00    448\n",
       "21:35:00    446\n",
       "           ... \n",
       "12:25:00     57\n",
       "14:15:00     56\n",
       "16:00:00     53\n",
       "13:20:00     52\n",
       "16:30:00     51\n",
       "Name: count, Length: 176, dtype: int64"
      ]
     },
     "execution_count": 50,
     "metadata": {},
     "output_type": "execute_result"
    }
   ],
   "source": [
    "data['Time_Orderd'].value_counts()"
   ]
  },
  {
   "cell_type": "code",
   "execution_count": 51,
   "id": "ec13b26e-885b-4144-9bc2-673f59ff2d7c",
   "metadata": {},
   "outputs": [
    {
     "data": {
      "text/plain": [
       "1731"
      ]
     },
     "execution_count": 51,
     "metadata": {},
     "output_type": "execute_result"
    }
   ],
   "source": [
    "data['Time_Orderd'].isna().sum()"
   ]
  },
  {
   "cell_type": "markdown",
   "id": "d456971e-52eb-4848-942b-21db10ead0df",
   "metadata": {},
   "source": [
    "# **Summary**\n",
    "* **Time_Orderd** indicates **the time at which the order was placed**.\n",
    "* By **combining** **Order_Date** and **Time_Orderd**, we can create a complete datetime feature and extract useful components such as **year**, **month**, **hour**, and **minute** for deeper analysis.\n",
    "* The column contains **1,731 missing values**, which should be handled appropriately during preprocessing."
   ]
  },
  {
   "cell_type": "markdown",
   "id": "a1015512-e1bb-4e0f-934f-1435cec3ae1f",
   "metadata": {},
   "source": [
    "Time_Order_picked"
   ]
  },
  {
   "cell_type": "code",
   "execution_count": 54,
   "id": "824e743f-1830-4c71-be7c-8f0d98c1e6db",
   "metadata": {},
   "outputs": [],
   "source": [
    "data['Time_Order_picked'] = pd.to_datetime(data['Time_Order_picked']).dt.time"
   ]
  },
  {
   "cell_type": "code",
   "execution_count": 55,
   "id": "bac385bf-2dfd-4ee9-ac42-f247d80c19d7",
   "metadata": {},
   "outputs": [
    {
     "data": {
      "text/plain": [
       "Time_Order_picked\n",
       "21:30:00    496\n",
       "22:50:00    474\n",
       "22:40:00    458\n",
       "18:40:00    457\n",
       "17:55:00    456\n",
       "           ... \n",
       "15:10:00     48\n",
       "16:15:00     46\n",
       "16:10:00     43\n",
       "17:10:00     39\n",
       "16:20:00     38\n",
       "Name: count, Length: 193, dtype: int64"
      ]
     },
     "execution_count": 55,
     "metadata": {},
     "output_type": "execute_result"
    }
   ],
   "source": [
    "data['Time_Order_picked'].value_counts()"
   ]
  },
  {
   "cell_type": "code",
   "execution_count": 56,
   "id": "83767c52-c3a7-40ee-a0c3-17cf8db10114",
   "metadata": {},
   "outputs": [
    {
     "data": {
      "text/plain": [
       "0"
      ]
     },
     "execution_count": 56,
     "metadata": {},
     "output_type": "execute_result"
    }
   ],
   "source": [
    "data['Time_Order_picked'].isna().sum()"
   ]
  },
  {
   "cell_type": "markdown",
   "id": "f61e90a7-02c8-4330-b994-63c45339dd9f",
   "metadata": {},
   "source": [
    "# **Summary**\n",
    "* **Time_Order_picked** represents the **time when the order was picked up**, and can be considered as the maximum of (delivery driver arrival time and food preparation time).\n",
    "* There are **no missing values** in this column.\n",
    "* When combined with **Order_Date**, if **Time_Order_picked** is earlier than Time_Orderd, it likely indicates a **pickup after midnight**, in which case **one day should be added** to the date to maintain chronological accuracy."
   ]
  },
  {
   "cell_type": "markdown",
   "id": "ed52c3f7-24af-4d67-bf74-56f3fc68d2fb",
   "metadata": {},
   "source": [
    "Weatherconditions"
   ]
  },
  {
   "cell_type": "code",
   "execution_count": 59,
   "id": "14ed8e2e-d743-4ea8-b37a-b68af01733d2",
   "metadata": {},
   "outputs": [
    {
     "data": {
      "text/plain": [
       "Weatherconditions\n",
       "Fog           7654\n",
       "Stormy        7586\n",
       "Cloudy        7536\n",
       "Sandstorms    7495\n",
       "Windy         7422\n",
       "Sunny         7284\n",
       "Name: count, dtype: int64"
      ]
     },
     "execution_count": 59,
     "metadata": {},
     "output_type": "execute_result"
    }
   ],
   "source": [
    "# Frequency Distribution of Weather Conditions During Delivery\n",
    "data['Weatherconditions'].value_counts()"
   ]
  },
  {
   "cell_type": "code",
   "execution_count": 60,
   "id": "a3ca80bd-7fdd-4789-8451-59a2a9993df1",
   "metadata": {},
   "outputs": [
    {
     "data": {
      "text/plain": [
       "616"
      ]
     },
     "execution_count": 60,
     "metadata": {},
     "output_type": "execute_result"
    }
   ],
   "source": [
    "#missing values\n",
    "data['Weatherconditions'].isna().sum()"
   ]
  },
  {
   "cell_type": "code",
   "execution_count": 61,
   "id": "f1acb2cf-cec8-482f-9302-b103ed4ca8b4",
   "metadata": {},
   "outputs": [
    {
     "data": {
      "image/png": "[encoded data removed]",
      "text/plain": [
       "<Figure size 1100x400 with 1 Axes>"
      ]
     },
     "metadata": {},
     "output_type": "display_data"
    }
   ],
   "source": [
    "# bar plot of Frequency Distribution of Weather Conditions During Delivery\n",
    "plt.figure(figsize=(11,4),dpi=100)\n",
    "norm_counts = data['Weatherconditions'].value_counts()\n",
    "sns.barplot(x=norm_counts.index, y= norm_counts ,order = norm_counts.index, palette='pastel')\n",
    "plt.tight_layout()\n",
    "plt.show()"
   ]
  },
  {
   "cell_type": "markdown",
   "id": "b728787b-1ce5-4d44-82dd-b4dc1f062d34",
   "metadata": {},
   "source": [
    "# **summary**\n",
    "* Weatherconditions is a categorical variable indicating the weather during delivery, with categories like Fog, Stormy, Cloudy, Sandstorms, Windy, and Sunny.\n",
    "* There are 616 entries with missing or untracked weather, which may indicate changing conditions or unavailable data.\n",
    "* To prepare the data for modeling, we applied ordinal encoding based on the estimated severity of weather impact (e.g., Sunny < Cloudy < Fog < Stormy).\n",
    "* The NaN values were treated as a separate category to capture the uncertainty or absence of weather data, ensuring no information is lost."
   ]
  },
  {
   "cell_type": "markdown",
   "id": "7a222181-5dc2-4b70-a126-1bd19fb9084f",
   "metadata": {},
   "source": [
    "Road_traffic_density"
   ]
  },
  {
   "cell_type": "code",
   "execution_count": 64,
   "id": "d88b9b85-4e29-4d06-99c2-91028750133f",
   "metadata": {},
   "outputs": [
    {
     "data": {
      "text/plain": [
       "Road_traffic_density\n",
       "Low       15477\n",
       "Jam       14143\n",
       "Medium    10947\n",
       "High       4425\n",
       "Name: count, dtype: int64"
      ]
     },
     "execution_count": 64,
     "metadata": {},
     "output_type": "execute_result"
    }
   ],
   "source": [
    "# Frequency Distribution of Road Traffic density During Delivery\n",
    "data['Road_traffic_density'].value_counts()"
   ]
  },
  {
   "cell_type": "code",
   "execution_count": 65,
   "id": "7aa5ceb7-acae-4bb6-8412-76e555c560d0",
   "metadata": {},
   "outputs": [
    {
     "data": {
      "text/plain": [
       "601"
      ]
     },
     "execution_count": 65,
     "metadata": {},
     "output_type": "execute_result"
    }
   ],
   "source": [
    "#any missing values\n",
    "data['Road_traffic_density'].isna().sum()"
   ]
  },
  {
   "cell_type": "code",
   "execution_count": 66,
   "id": "1b9daef7-5d35-4ccb-84ac-864ffe98e45d",
   "metadata": {},
   "outputs": [
    {
     "data": {
      "image/png": "[encoded data removed]",
      "text/plain": [
       "<Figure size 1100x400 with 1 Axes>"
      ]
     },
     "metadata": {},
     "output_type": "display_data"
    }
   ],
   "source": [
    "#bar plot road traffic vs delivery\n",
    "plt.figure(figsize=(11,4),dpi=100)\n",
    "norm_counts = data['Road_traffic_density'].value_counts()\n",
    "sns.barplot(x=norm_counts.index, y= norm_counts ,order = norm_counts.index, palette='pastel')\n",
    "plt.tight_layout()\n",
    "plt.show()"
   ]
  },
  {
   "cell_type": "markdown",
   "id": "ef9eb90c-f6e0-430e-a530-8400a9e75f6c",
   "metadata": {},
   "source": [
    "# **Summary**\n",
    "* The Road_traffic_density variable has **601 missing values**.\n",
    "* It contains 4 categories with the following counts:\n",
    "* **Low**: 15,477\n",
    "* **Jam**: 14,143\n",
    "* **Medium**: 10,947\n",
    "* **High**: 4,425\n",
    "* These categories represent different levels of traffic congestion."
   ]
  },
  {
   "cell_type": "markdown",
   "id": "2fc7a216-31f9-4311-a9b4-0cfd709db9ea",
   "metadata": {},
   "source": [
    "Vehicle_condition"
   ]
  },
  {
   "cell_type": "code",
   "execution_count": 69,
   "id": "8eba8fd8-ee1c-46a9-921a-5bab8c6266fe",
   "metadata": {},
   "outputs": [
    {
     "data": {
      "text/plain": [
       "Vehicle_condition\n",
       "2    15034\n",
       "1    15030\n",
       "0    15009\n",
       "3      520\n",
       "Name: count, dtype: int64"
      ]
     },
     "execution_count": 69,
     "metadata": {},
     "output_type": "execute_result"
    }
   ],
   "source": [
    "# Frequency Distribution of Vehicle condition During Delivery\n",
    "data['Vehicle_condition'].value_counts()"
   ]
  },
  {
   "cell_type": "code",
   "execution_count": 70,
   "id": "06d0dbbc-0145-4d34-9b83-29843e025e48",
   "metadata": {},
   "outputs": [
    {
     "data": {
      "text/plain": [
       "dtype('int64')"
      ]
     },
     "execution_count": 70,
     "metadata": {},
     "output_type": "execute_result"
    }
   ],
   "source": [
    "data['Vehicle_condition'].dtypes "
   ]
  },
  {
   "cell_type": "code",
   "execution_count": 71,
   "id": "2997b935-c85a-48aa-88af-5a607b1af8d7",
   "metadata": {},
   "outputs": [
    {
     "data": {
      "image/png": "[encoded data removed]",
      "text/plain": [
       "<Figure size 1100x400 with 1 Axes>"
      ]
     },
     "metadata": {},
     "output_type": "display_data"
    }
   ],
   "source": [
    "# barplot Frequency Distribution of vehicle Conditions During Delivery\n",
    "plt.figure(figsize=(11,4),dpi=100)\n",
    "norm_counts = data['Vehicle_condition'].value_counts()\n",
    "sns.barplot(x=norm_counts.index, y= norm_counts ,order = norm_counts.index, palette='pastel')\n",
    "plt.tight_layout()\n",
    "plt.show()"
   ]
  },
  {
   "cell_type": "markdown",
   "id": "1613d6d2-8185-45f1-adf3-48104871361d",
   "metadata": {},
   "source": [
    "# **Summary**\n",
    "* The Vehicle_condition variable has no missing values.\n",
    "* It contains 4 categories with the following counts:\n",
    "* **2** : 15,034\n",
    "* **1** : 15,030\n",
    "* **0** : 15,009\n",
    "* **3** : 520\n",
    "* The variable represents the condition of the vehicle, with lower values indicating better condition."
   ]
  },
  {
   "cell_type": "markdown",
   "id": "afe8cc18-7217-49bb-b28d-8e66db6992d0",
   "metadata": {},
   "source": [
    "Type_of_order"
   ]
  },
  {
   "cell_type": "code",
   "execution_count": 74,
   "id": "6936c3c7-cc0e-4db6-8c4f-8d62c3ce2cf8",
   "metadata": {},
   "outputs": [
    {
     "data": {
      "text/plain": [
       "Type_of_order\n",
       "Snack     11533\n",
       "Meal      11458\n",
       "Drinks    11322\n",
       "Buffet    11280\n",
       "Name: count, dtype: int64"
      ]
     },
     "execution_count": 74,
     "metadata": {},
     "output_type": "execute_result"
    }
   ],
   "source": [
    "# Frequency Distribution of Type of order During Delivery\n",
    "data['Type_of_order'].value_counts()"
   ]
  },
  {
   "cell_type": "code",
   "execution_count": 75,
   "id": "0f300f71-9e51-4450-96e4-7c2a31bbae17",
   "metadata": {},
   "outputs": [
    {
     "data": {
      "image/png": "[encoded data removed]",
      "text/plain": [
       "<Figure size 1100x400 with 1 Axes>"
      ]
     },
     "metadata": {},
     "output_type": "display_data"
    }
   ],
   "source": [
    "# barplot Frequency Distribution of Weather Conditions During Delivery\n",
    "plt.figure(figsize=(11,4),dpi=100)\n",
    "norm_counts = data['Type_of_order'].value_counts()\n",
    "sns.barplot(x=norm_counts.index, y= norm_counts ,order = norm_counts.index, palette='pastel')\n",
    "plt.tight_layout()\n",
    "plt.show()"
   ]
  },
  {
   "cell_type": "markdown",
   "id": "03f64191-10c8-484c-a023-aa19a1295120",
   "metadata": {},
   "source": [
    "# **Summary**\n",
    "* The Type_of_order variable contains the following categories with their respective counts:\n",
    "* **Snack**: 11,533\n",
    "* **Meal**: 11,458\n",
    "* **Drinks**: 11,322\n",
    "* **Buffet**: 11,280\n",
    "* The variable represents the type of order, with different food categories."
   ]
  },
  {
   "cell_type": "markdown",
   "id": "736e9161-6fe5-4f23-83b9-b0c546c7fd59",
   "metadata": {},
   "source": [
    "Type_of_vehicle"
   ]
  },
  {
   "cell_type": "code",
   "execution_count": 78,
   "id": "230cb4fc-c25c-4ee5-b6d1-cca9893f3e05",
   "metadata": {},
   "outputs": [
    {
     "data": {
      "text/plain": [
       "Type_of_vehicle\n",
       "motorcycle          26435\n",
       "scooter             15276\n",
       "electric_scooter     3814\n",
       "bicycle                68\n",
       "Name: count, dtype: int64"
      ]
     },
     "execution_count": 78,
     "metadata": {},
     "output_type": "execute_result"
    }
   ],
   "source": [
    "# Frequency Distribution of vehicle type During Delivery\n",
    "data['Type_of_vehicle'].value_counts()"
   ]
  },
  {
   "cell_type": "code",
   "execution_count": 79,
   "id": "ce88619d-9d8d-464f-8cc4-7908db97da6e",
   "metadata": {},
   "outputs": [
    {
     "data": {
      "image/png": "[encoded data removed]",
      "text/plain": [
       "<Figure size 1100x400 with 1 Axes>"
      ]
     },
     "metadata": {},
     "output_type": "display_data"
    }
   ],
   "source": [
    "#barplot vehicle type vs delivery\n",
    "plt.figure(figsize=(11,4),dpi=100)\n",
    "norm_counts = data['Type_of_vehicle'].value_counts()\n",
    "sns.barplot(x=norm_counts.index, y= norm_counts ,order = norm_counts.index, palette='pastel')\n",
    "plt.tight_layout()\n",
    "plt.show()"
   ]
  },
  {
   "cell_type": "markdown",
   "id": "5937d5a7-5b0b-4bd2-84ce-edb9e687adb4",
   "metadata": {},
   "source": [
    "# **Summary**\n",
    "* The Type_of_vehicle variable contains the following categories with their respective counts:\n",
    "* **motorcycle**: 26,435\n",
    "* **scooter**: 15,276\n",
    "* **electric_scooter**: 3,814\n",
    "* **bicycle** : 68\n",
    "* The variable represents the type of vehicle used for deliveries, with motorcycles being the most common."
   ]
  },
  {
   "cell_type": "markdown",
   "id": "1fbef3a6-f5f6-419b-a475-779c57ad4c17",
   "metadata": {},
   "source": [
    "multiple_deliveries"
   ]
  },
  {
   "cell_type": "code",
   "execution_count": 82,
   "id": "f0aee70e-9f0d-4b79-8dfc-b34cb3c0bbd1",
   "metadata": {},
   "outputs": [
    {
     "data": {
      "text/plain": [
       "multiple_deliveries\n",
       "1    28159\n",
       "0    14095\n",
       "2     1985\n",
       "3      361\n",
       "Name: count, dtype: int64"
      ]
     },
     "execution_count": 82,
     "metadata": {},
     "output_type": "execute_result"
    }
   ],
   "source": [
    "#Delivery  by Multiple delivers\n",
    "data['multiple_deliveries'].value_counts()"
   ]
  },
  {
   "cell_type": "code",
   "execution_count": 83,
   "id": "16842b9d-f1f9-4366-9a9a-926c8524055b",
   "metadata": {},
   "outputs": [],
   "source": [
    "#converting to numerical\n",
    "data['multiple_deliveries'] = pd.to_numeric(data['multiple_deliveries'])"
   ]
  },
  {
   "cell_type": "code",
   "execution_count": 84,
   "id": "67939a5a-1f6e-4809-a8fd-aa403bca60da",
   "metadata": {},
   "outputs": [
    {
     "data": {
      "image/png": "[encoded data removed]",
      "text/plain": [
       "<Figure size 1100x400 with 1 Axes>"
      ]
     },
     "metadata": {},
     "output_type": "display_data"
    }
   ],
   "source": [
    "#delivery count per multiple delivers\n",
    "plt.figure(figsize=(11,4),dpi=100)\n",
    "norm_counts = data['multiple_deliveries'].value_counts()\n",
    "sns.barplot(x=norm_counts.index, y= norm_counts ,order = norm_counts.index, palette='pastel')\n",
    "plt.tight_layout()\n",
    "plt.show()"
   ]
  },
  {
   "cell_type": "markdown",
   "id": "759f5d99-aaba-4596-be6b-b23199331c06",
   "metadata": {},
   "source": [
    "# **Summary**\n",
    "* The multiple_deliveries variable indicates the number of deliveries made in a single trip.\n",
    "* It contains the following values with their respective counts:\n",
    "* **1.0**: 28,159\n",
    "* **0.0** (no multiple deliveries): 14,095\n",
    "* **2.0**: 1,985\n",
    "* **3.0**: 361\n",
    "* The variable is numerical and shows that most delivery trips included one delivery, while a smaller number involved multiple deliveries.\n",
    "* It contains **993 missing values**."
   ]
  },
  {
   "cell_type": "markdown",
   "id": "d6d688dd-6bca-4a4b-b25f-c9a823f2b6b2",
   "metadata": {},
   "source": [
    "Festival"
   ]
  },
  {
   "cell_type": "code",
   "execution_count": 87,
   "id": "0bfc379e-38c2-47e7-a4da-856ae40ce3d1",
   "metadata": {},
   "outputs": [
    {
     "data": {
      "text/plain": [
       "Festival\n",
       "No     44469\n",
       "Yes      896\n",
       "Name: count, dtype: int64"
      ]
     },
     "execution_count": 87,
     "metadata": {},
     "output_type": "execute_result"
    }
   ],
   "source": [
    "# Delivery order by Festival\n",
    "data['Festival'].value_counts()"
   ]
  },
  {
   "cell_type": "code",
   "execution_count": 88,
   "id": "0261982c-8192-4892-b6ac-31f7602a8abb",
   "metadata": {},
   "outputs": [
    {
     "data": {
      "image/png": "[encoded data removed]",
      "text/plain": [
       "<Figure size 1100x400 with 1 Axes>"
      ]
     },
     "metadata": {},
     "output_type": "display_data"
    }
   ],
   "source": [
    "#bar plot Festival and non-festival of delivery \n",
    "plt.figure(figsize=(11,4),dpi=100)\n",
    "norm_counts = data['Festival'].value_counts()\n",
    "sns.barplot(x=norm_counts.index, y= norm_counts ,order = norm_counts.index, palette='pastel')\n",
    "plt.tight_layout()\n",
    "plt.show()"
   ]
  },
  {
   "cell_type": "markdown",
   "id": "e0279644-73f5-4f7b-b9d9-02c250c749a1",
   "metadata": {},
   "source": [
    "# **Summary**\n",
    "* The Festival variable indicates whether the delivery took place during a festival period.\n",
    "* It has two categories with the following counts:\n",
    "* **No**: 44,469\n",
    "* **Yes**: 896\n",
    "* This binary categorical variable may help assess the impact of festivals on delivery patterns or performance.\n",
    "* It contains **228 missing values**."
   ]
  },
  {
   "cell_type": "markdown",
   "id": "9deb85af-698e-4a8b-9d73-07f305e90f4d",
   "metadata": {},
   "source": [
    "City"
   ]
  },
  {
   "cell_type": "code",
   "execution_count": 91,
   "id": "ae4ee4ef-9cae-4ff6-a917-b5859165bef4",
   "metadata": {},
   "outputs": [
    {
     "data": {
      "text/plain": [
       "City\n",
       "Metropolitian    34093\n",
       "Urban            10136\n",
       "Semi-Urban         164\n",
       "Name: count, dtype: int64"
      ]
     },
     "execution_count": 91,
     "metadata": {},
     "output_type": "execute_result"
    }
   ],
   "source": [
    "# Frequency Distribution of Delivery Locations by City\n",
    "data['City'].value_counts()"
   ]
  },
  {
   "cell_type": "code",
   "execution_count": 92,
   "id": "5e543fb6-5dc1-4024-84c8-04e1d1d2edd6",
   "metadata": {},
   "outputs": [
    {
     "data": {
      "text/plain": [
       "1200"
      ]
     },
     "execution_count": 92,
     "metadata": {},
     "output_type": "execute_result"
    }
   ],
   "source": [
    "#Missing value\n",
    "data['City'].isna().sum()"
   ]
  },
  {
   "cell_type": "code",
   "execution_count": 93,
   "id": "2a649bc3-c14c-4124-9274-31c3f5e2f9ee",
   "metadata": {},
   "outputs": [
    {
     "data": {
      "image/png": "[encoded data removed]",
      "text/plain": [
       "<Figure size 1100x400 with 1 Axes>"
      ]
     },
     "metadata": {},
     "output_type": "display_data"
    }
   ],
   "source": [
    "#  bar plot of City \n",
    "plt.figure(figsize=(11,4),dpi=100)\n",
    "norm_counts = data['City'].value_counts()\n",
    "sns.barplot(x=norm_counts.index, y= norm_counts ,order = norm_counts.index, palette='pastel')\n",
    "plt.tight_layout()\n",
    "plt.show()"
   ]
  },
  {
   "cell_type": "markdown",
   "id": "201f2308-2dc1-4417-8efe-285e3be7c6bd",
   "metadata": {},
   "source": [
    "# **Summary**\n",
    "* The City variable represents the type of area where the delivery occurred.\n",
    "* It includes the following categories and counts:\n",
    "* **Metropolitian** : 34,093\n",
    "* **Urban** : 10,136\n",
    "* **Semi-Urban**: 164\n",
    "* This is a categorical variable that may capture regional differences in delivery time or density.\n",
    "* It contains **1200 missing values**."
   ]
  },
  {
   "cell_type": "markdown",
   "id": "2daeb5dc-e4a6-4ec4-88a9-a0b7b72b72e3",
   "metadata": {},
   "source": [
    "Time_taken(min)"
   ]
  },
  {
   "cell_type": "code",
   "execution_count": 96,
   "id": "62bf0576-1cda-4d62-80f9-6beac431e45d",
   "metadata": {},
   "outputs": [
    {
     "data": {
      "text/plain": [
       "0        (min) 24\n",
       "1        (min) 33\n",
       "2        (min) 26\n",
       "3        (min) 21\n",
       "4        (min) 30\n",
       "           ...   \n",
       "45588    (min) 32\n",
       "45589    (min) 36\n",
       "45590    (min) 16\n",
       "45591    (min) 26\n",
       "45592    (min) 36\n",
       "Name: Time_taken(min), Length: 45593, dtype: object"
      ]
     },
     "execution_count": 96,
     "metadata": {},
     "output_type": "execute_result"
    }
   ],
   "source": [
    "data['Time_taken(min)']"
   ]
  },
  {
   "cell_type": "code",
   "execution_count": 97,
   "id": "63ad5196-8b69-4571-86cb-fabce824255c",
   "metadata": {},
   "outputs": [],
   "source": [
    "# removing the (min)\n",
    "data['Time_taken(min)'] = data[\"Time_taken(min)\"].str.extract(r\"(\\d+)\").astype(\"Int64\")"
   ]
  },
  {
   "cell_type": "code",
   "execution_count": 98,
   "id": "56754b01-b403-420b-97ad-ce9b86f5d1a9",
   "metadata": {},
   "outputs": [
    {
     "data": {
      "text/plain": [
       "Time_taken(min)\n",
       "26    2123\n",
       "25    2050\n",
       "27    1976\n",
       "28    1965\n",
       "29    1956\n",
       "19    1824\n",
       "15    1810\n",
       "18    1765\n",
       "16    1706\n",
       "17    1696\n",
       "24    1680\n",
       "23    1643\n",
       "20    1640\n",
       "22    1626\n",
       "21    1601\n",
       "33    1259\n",
       "30    1218\n",
       "31    1213\n",
       "34    1172\n",
       "32    1124\n",
       "38     887\n",
       "36     852\n",
       "39     847\n",
       "35     832\n",
       "37     828\n",
       "11     757\n",
       "10     750\n",
       "12     746\n",
       "14     739\n",
       "13     716\n",
       "43     567\n",
       "42     561\n",
       "40     555\n",
       "41     553\n",
       "44     553\n",
       "47     295\n",
       "49     280\n",
       "48     277\n",
       "46     274\n",
       "45     241\n",
       "53     100\n",
       "51      94\n",
       "54      91\n",
       "52      79\n",
       "50      72\n",
       "Name: count, dtype: Int64"
      ]
     },
     "execution_count": 98,
     "metadata": {},
     "output_type": "execute_result"
    }
   ],
   "source": [
    "# Frequency Distribution of Delivery Time (in minutes)\n",
    "data['Time_taken(min)'].value_counts()"
   ]
  },
  {
   "cell_type": "code",
   "execution_count": 99,
   "id": "4e7f32fd-08ab-4403-9fa5-0541359717ae",
   "metadata": {},
   "outputs": [
    {
     "data": {
      "text/plain": [
       "(10, 54)"
      ]
     },
     "execution_count": 99,
     "metadata": {},
     "output_type": "execute_result"
    }
   ],
   "source": [
    "# minimum and maximum time taken\n",
    "data['Time_taken(min)'].min(),data['Time_taken(min)'].max()"
   ]
  },
  {
   "cell_type": "code",
   "execution_count": 100,
   "id": "dda69205-c11f-467b-93d1-9f32963a4fa7",
   "metadata": {},
   "outputs": [
    {
     "data": {
      "text/plain": [
       "(26.29460662821047, 26.0)"
      ]
     },
     "execution_count": 100,
     "metadata": {},
     "output_type": "execute_result"
    }
   ],
   "source": [
    "#average of delivery and median of delivery time\n",
    "data['Time_taken(min)'].mean(),data['Time_taken(min)'].median()"
   ]
  },
  {
   "cell_type": "code",
   "execution_count": 101,
   "id": "aceb29e4-7bd2-4825-bf2d-c70e1a0d11ea",
   "metadata": {},
   "outputs": [
    {
     "data": {
      "text/plain": [
       "(0.4859512298743323, -0.31079786649115215)"
      ]
     },
     "execution_count": 101,
     "metadata": {},
     "output_type": "execute_result"
    }
   ],
   "source": [
    "#skew,kurtosis of delivery time\n",
    "data['Time_taken(min)'].skew(),data['Time_taken(min)'].kurtosis()"
   ]
  },
  {
   "cell_type": "code",
   "execution_count": 102,
   "id": "a3eaf35b-36fa-4368-85e4-819717ed58b1",
   "metadata": {},
   "outputs": [
    {
     "data": {
      "image/png": "[encoded data removed]",
      "text/plain": [
       "<Figure size 640x480 with 1 Axes>"
      ]
     },
     "metadata": {},
     "output_type": "display_data"
    }
   ],
   "source": [
    "# kde plot of time taken\n",
    "sns.kdeplot(data['Time_taken(min)'],fill=True)\n",
    "plt.tight_layout()\n",
    "plt.show()"
   ]
  },
  {
   "cell_type": "markdown",
   "id": "e1abe584-9dc4-4370-9889-2251ab41785b",
   "metadata": {},
   "source": [
    "# **Summary**\n",
    "* The Time Taken has a **mean of 26.29** and a **median of 26.0**, indicating that the distribution is approximately centered.\n",
    "* The **minimum** value is **10**, and the **maximum** is **54**, showing a moderate spread.\n",
    "* **Skewness is 0.486**, indicating a slightly right-skewed distribution (longer tail on the right).\n",
    "* **Kurtosis is -0.311**, suggesting a platykurtic shape — flatter peak and lighter tails compared to a normal distribution."
   ]
  },
  {
   "cell_type": "markdown",
   "id": "1ce4d0b0-7e5a-48ce-a1a0-21b2e09b78b0",
   "metadata": {},
   "source": [
    "# **Restaurant_latitude  & Restaurant_longitude**"
   ]
  },
  {
   "cell_type": "code",
   "execution_count": 105,
   "id": "3f2c2d9d-620a-4d81-93af-95a5edc44a3e",
   "metadata": {},
   "outputs": [
    {
     "data": {
      "text/plain": [
       "City           Restaurant_latitude  Restaurant_longitude\n",
       "Metropolitian   0.000000            0.000000                2682\n",
       "Urban           0.000000            0.000000                 857\n",
       "Metropolitian   26.911378           75.789034                141\n",
       "                21.171060           72.789292                137\n",
       "                26.902940           75.793007                137\n",
       "                                                            ... \n",
       "Semi-Urban      12.972532           77.608179                  1\n",
       "                12.975377           77.696664                  1\n",
       "                12.979096           77.640625                  1\n",
       "                12.981615           80.231598                  1\n",
       "Metropolitian  -30.902872           75.826808                  1\n",
       "Name: count, Length: 1243, dtype: int64"
      ]
     },
     "execution_count": 105,
     "metadata": {},
     "output_type": "execute_result"
    }
   ],
   "source": [
    "#Removing Invalid Locations \n",
    "data[[\"City\",\"Restaurant_latitude\",\"Restaurant_longitude\"]].value_counts()"
   ]
  },
  {
   "cell_type": "code",
   "execution_count": 106,
   "id": "51874add-7ce4-473d-8e35-426542b90c18",
   "metadata": {},
   "outputs": [],
   "source": [
    "data=data.drop(data[(data[\"Restaurant_latitude\"]==0.00) & (data['Restaurant_longitude']==0.00)].index)"
   ]
  },
  {
   "cell_type": "code",
   "execution_count": 107,
   "id": "98056d9f-3ab7-4f72-b0cf-e7334c5e1adb",
   "metadata": {},
   "outputs": [
    {
     "data": {
      "text/plain": [
       "(41953, 20)"
      ]
     },
     "execution_count": 107,
     "metadata": {},
     "output_type": "execute_result"
    }
   ],
   "source": [
    "data.shape"
   ]
  },
  {
   "cell_type": "code",
   "execution_count": 108,
   "id": "193e8901-6fc2-42ec-b05d-78f169f8efb7",
   "metadata": {},
   "outputs": [],
   "source": [
    "from geopy.distance import geodesic\n",
    "def distance(lat1,lon1,lat2,lon2):\n",
    "    return geodesic((lat1,lon1),(lat1,lon2)).km"
   ]
  },
  {
   "cell_type": "code",
   "execution_count": 109,
   "id": "5867c014-1fd8-480d-9102-f5f9bdeef7fb",
   "metadata": {},
   "outputs": [],
   "source": [
    "#calculating distance \n",
    "data['distance'] = data.apply(lambda x: distance(\n",
    "    x['Restaurant_latitude'],x['Restaurant_longitude'],x['Delivery_location_latitude'],x['Delivery_location_longitude']),axis=1)"
   ]
  },
  {
   "cell_type": "code",
   "execution_count": 110,
   "id": "1741406e-1c54-4897-b850-73aa53083929",
   "metadata": {},
   "outputs": [
    {
     "data": {
      "image/png": "[encoded data removed]",
      "text/plain": [
       "<Figure size 640x480 with 1 Axes>"
      ]
     },
     "metadata": {},
     "output_type": "display_data"
    }
   ],
   "source": [
    "sns.kdeplot(data['distance'],fill=True)\n",
    "plt.tight_layout()\n",
    "plt.show()"
   ]
  },
  {
   "cell_type": "code",
   "execution_count": 111,
   "id": "cd0d45ac-65ba-46a8-a9b0-fe4ca65655c3",
   "metadata": {},
   "outputs": [
    {
     "data": {
      "text/plain": [
       "(16426.11843522272, 0.9558980715352984)"
      ]
     },
     "execution_count": 111,
     "metadata": {},
     "output_type": "execute_result"
    }
   ],
   "source": [
    "data['distance'].max(),data['distance'].min()"
   ]
  },
  {
   "cell_type": "code",
   "execution_count": 112,
   "id": "ce665de6-66aa-4159-a329-6e08b94ae292",
   "metadata": {},
   "outputs": [
    {
     "data": {
      "text/plain": [
       "14.206362391918429"
      ]
     },
     "execution_count": 112,
     "metadata": {},
     "output_type": "execute_result"
    }
   ],
   "source": [
    "data['distance'].quantile(0.99)"
   ]
  },
  {
   "cell_type": "code",
   "execution_count": 113,
   "id": "6a2882aa-bc78-4cc4-82a5-0d59af00893c",
   "metadata": {},
   "outputs": [],
   "source": [
    "data = data[data['distance']< 20]"
   ]
  },
  {
   "cell_type": "code",
   "execution_count": 114,
   "id": "9a9dda7a-3df5-4690-b310-50aa781c29cf",
   "metadata": {},
   "outputs": [
    {
     "data": {
      "image/png": "[encoded data removed]",
      "text/plain": [
       "<Figure size 640x480 with 1 Axes>"
      ]
     },
     "metadata": {},
     "output_type": "display_data"
    }
   ],
   "source": [
    "sns.kdeplot(data['distance'],fill=True)\n",
    "plt.tight_layout()\n",
    "plt.show()"
   ]
  },
  {
   "cell_type": "markdown",
   "id": "007b5cc1-5e81-48a9-8a2b-f3333a488387",
   "metadata": {},
   "source": [
    "# **Feature Engineering**\n",
    "* **Feature Engineering** = **Feature Preprocessing** + **Feature Generation**"
   ]
  },
  {
   "cell_type": "code",
   "execution_count": 116,
   "id": "629b3867-27b6-4d3f-b2ca-8212b95eb074",
   "metadata": {},
   "outputs": [
    {
     "data": {
      "text/plain": [
       "ID                                0\n",
       "Delivery_person_ID                0\n",
       "Delivery_person_Age            1584\n",
       "Delivery_person_Ratings        1628\n",
       "Restaurant_latitude               0\n",
       "Restaurant_longitude              0\n",
       "Delivery_location_latitude        0\n",
       "Delivery_location_longitude       0\n",
       "Order_Date                        0\n",
       "Time_Orderd                    1438\n",
       "Time_Order_picked                 0\n",
       "Weatherconditions               454\n",
       "Road_traffic_density            442\n",
       "Vehicle_condition                 0\n",
       "Type_of_order                     0\n",
       "Type_of_vehicle                   0\n",
       "multiple_deliveries             902\n",
       "Festival                        215\n",
       "City                           1105\n",
       "Time_taken(min)                   0\n",
       "distance                          0\n",
       "dtype: int64"
      ]
     },
     "execution_count": 116,
     "metadata": {},
     "output_type": "execute_result"
    }
   ],
   "source": [
    "#Missing value variables\n",
    "data.isna().sum()"
   ]
  },
  {
   "cell_type": "markdown",
   "id": "9866d0a5-14ca-4b65-81c3-645675ccdfb5",
   "metadata": {},
   "source": [
    "1)Delivery_person_Age\n",
    "2)Delivery_person_Ratings\n",
    "3)Time_Orderd\n",
    "4)Road_traffic_density\n",
    "5)multiple_deliveries\n",
    "6)Festival\n",
    "7)City\n",
    "8)Time_taken(min)"
   ]
  },
  {
   "cell_type": "markdown",
   "id": "c62299c8-279d-4dda-97ff-fe30416f34ad",
   "metadata": {},
   "source": [
    "* Delivery_person_Age"
   ]
  },
  {
   "cell_type": "code",
   "execution_count": 119,
   "id": "63a22b92-7832-4362-9074-57019f11d331",
   "metadata": {},
   "outputs": [],
   "source": [
    "#create a data frame to check the distrubtion after imputing the missing values\n",
    "df = data.copy()"
   ]
  },
  {
   "cell_type": "code",
   "execution_count": 120,
   "id": "ac90cee6-474f-4d50-accd-c91dc83ca62b",
   "metadata": {},
   "outputs": [
    {
     "data": {
      "image/png": "[encoded data removed]",
      "text/plain": [
       "<Figure size 640x480 with 1 Axes>"
      ]
     },
     "metadata": {},
     "output_type": "display_data"
    }
   ],
   "source": [
    "data['Delivery_person_Age'].plot(kind='kde')\n",
    "plt.show()"
   ]
  },
  {
   "cell_type": "code",
   "execution_count": 121,
   "id": "637f09c9-f5dd-4a88-8c36-ecfbdfeb658c",
   "metadata": {},
   "outputs": [],
   "source": [
    "#Imputing mean\n",
    "df['Delivery_person_Age'] = data['Delivery_person_Age'].fillna(data['Delivery_person_Age'].mean())"
   ]
  },
  {
   "cell_type": "code",
   "execution_count": 122,
   "id": "1780111e-8d36-4812-b3c0-8a479d6ef936",
   "metadata": {},
   "outputs": [
    {
     "data": {
      "image/png": "[encoded data removed]",
      "text/plain": [
       "<Figure size 640x480 with 1 Axes>"
      ]
     },
     "metadata": {},
     "output_type": "display_data"
    }
   ],
   "source": [
    "# checking the difference after imputing\n",
    "sns.kdeplot(data['Delivery_person_Age'],fill = True)\n",
    "sns.kdeplot(df['Delivery_person_Age'],fill = True)\n",
    "plt.show()"
   ]
  },
  {
   "cell_type": "markdown",
   "id": "ed323052-1ea1-4aed-8907-710979f27ac6",
   "metadata": {},
   "source": [
    "* During EDA, you noticed that Delivery_person_Age was approximately normally distributed.\n",
    "* So, you chose mean imputation for missing values.\n",
    "* But after imputation, the distribution shifted, meaning it's no longer normal — perhaps skewed or with peaks at the mean."
   ]
  },
  {
   "cell_type": "code",
   "execution_count": 124,
   "id": "25d04481-4dfe-4cc6-9175-9363bcf08b4c",
   "metadata": {},
   "outputs": [],
   "source": [
    "df = data.copy()"
   ]
  },
  {
   "cell_type": "code",
   "execution_count": 125,
   "id": "8e948e09-d502-4ae5-9247-bb823bb3e663",
   "metadata": {},
   "outputs": [],
   "source": [
    "df['Delivery_person_Age'] = df['Delivery_person_Age'].fillna(df.groupby(['Delivery_person_ID'])['Delivery_person_Age'].transform('mean'))"
   ]
  },
  {
   "cell_type": "code",
   "execution_count": 126,
   "id": "6a63c14d-f7fc-4ec9-a156-0fa6f4b46d10",
   "metadata": {},
   "outputs": [
    {
     "data": {
      "image/png": "[encoded data removed]",
      "text/plain": [
       "<Figure size 640x480 with 1 Axes>"
      ]
     },
     "metadata": {},
     "output_type": "display_data"
    }
   ],
   "source": [
    "sns.kdeplot(data['Delivery_person_Age'], fill=True, label='Raw Data')\n",
    "sns.kdeplot(df['Delivery_person_Age'], fill=True, label='Cleaned Data')\n",
    "plt.legend()\n",
    "plt.show()"
   ]
  },
  {
   "cell_type": "code",
   "execution_count": 127,
   "id": "aea7945a-fbac-4329-bde7-e5f607c0255f",
   "metadata": {},
   "outputs": [
    {
     "data": {
      "text/plain": [
       "ID                                0\n",
       "Delivery_person_ID                0\n",
       "Delivery_person_Age               0\n",
       "Delivery_person_Ratings        1628\n",
       "Restaurant_latitude               0\n",
       "Restaurant_longitude              0\n",
       "Delivery_location_latitude        0\n",
       "Delivery_location_longitude       0\n",
       "Order_Date                        0\n",
       "Time_Orderd                    1438\n",
       "Time_Order_picked                 0\n",
       "Weatherconditions               454\n",
       "Road_traffic_density            442\n",
       "Vehicle_condition                 0\n",
       "Type_of_order                     0\n",
       "Type_of_vehicle                   0\n",
       "multiple_deliveries             902\n",
       "Festival                        215\n",
       "City                           1105\n",
       "Time_taken(min)                   0\n",
       "distance                          0\n",
       "dtype: int64"
      ]
     },
     "execution_count": 127,
     "metadata": {},
     "output_type": "execute_result"
    }
   ],
   "source": [
    "df.isna().sum()"
   ]
  },
  {
   "cell_type": "markdown",
   "id": "8392264e-3224-4731-bfb5-c5c886e5316c",
   "metadata": {},
   "source": [
    "* We used Driver_ID to impute missing values in Delivery_person_Age based on each driver's historical data.\n",
    "* it preserved the original age distribution much better than simple mean imputation."
   ]
  },
  {
   "cell_type": "code",
   "execution_count": 129,
   "id": "ad476f68-04eb-47b4-b747-e33464651b51",
   "metadata": {},
   "outputs": [],
   "source": [
    "df=data.copy()"
   ]
  },
  {
   "cell_type": "code",
   "execution_count": 130,
   "id": "bf204e2a-de43-4fdc-815f-804b84aaaf27",
   "metadata": {},
   "outputs": [],
   "source": [
    "df['Delivery_person_Age'] = df['Delivery_person_Age'].fillna(\n",
    "    df.groupby(['Delivery_person_ID','City'])['Delivery_person_Age'].transform('mean'))\n",
    "\n",
    "df['Delivery_person_Age'] = df['Delivery_person_Age'].fillna(df.groupby(['Delivery_person_ID'])['Delivery_person_Age'].transform('mean'))"
   ]
  },
  {
   "cell_type": "code",
   "execution_count": 131,
   "id": "9fe73e6f-64a0-41ae-b8b9-f4cfb143663e",
   "metadata": {},
   "outputs": [
    {
     "data": {
      "image/png": "[encoded data removed]",
      "text/plain": [
       "<Figure size 640x480 with 1 Axes>"
      ]
     },
     "metadata": {},
     "output_type": "display_data"
    }
   ],
   "source": [
    "sns.kdeplot(data['Delivery_person_Age'], fill=True, label='Raw Data')\n",
    "sns.kdeplot(df['Delivery_person_Age'], fill=True, label='Cleaned Data')\n",
    "plt.legend()\n",
    "plt.show()"
   ]
  },
  {
   "cell_type": "markdown",
   "id": "037a6620-d1b6-4d89-8559-07f3451b6df8",
   "metadata": {},
   "source": [
    "Still Distrubtion is not similar or nearby but "
   ]
  },
  {
   "cell_type": "code",
   "execution_count": 133,
   "id": "bcbea75e-3b8b-4462-8179-293fc394fb26",
   "metadata": {},
   "outputs": [],
   "source": [
    "df= data.copy()"
   ]
  },
  {
   "cell_type": "code",
   "execution_count": 134,
   "id": "b4cf23af-e331-4334-9250-0f4a22442f7e",
   "metadata": {},
   "outputs": [],
   "source": [
    "\n",
    "df['Delivery_person_Age'] = df['Delivery_person_Age'].fillna(\n",
    "    df.groupby(['Delivery_person_ID','distance'])['Delivery_person_Age'].transform('mean')\n",
    ")\n",
    "df['Delivery_person_Age'] = df['Delivery_person_Age'].fillna(\n",
    "    df.groupby(['Delivery_person_ID'])['Delivery_person_Age'].transform('mean')\n",
    ")"
   ]
  },
  {
   "cell_type": "code",
   "execution_count": 135,
   "id": "d04d8697-c745-468b-a5d8-1f42b426f7f0",
   "metadata": {},
   "outputs": [
    {
     "data": {
      "image/png": "[encoded data removed]",
      "text/plain": [
       "<Figure size 640x480 with 1 Axes>"
      ]
     },
     "metadata": {},
     "output_type": "display_data"
    }
   ],
   "source": [
    "sns.kdeplot(data['Delivery_person_Age'], fill=True, label='Raw Data')\n",
    "sns.kdeplot(df['Delivery_person_Age'], fill=True, label='Cleaned Data')\n",
    "plt.legend()\n",
    "plt.show()"
   ]
  },
  {
   "cell_type": "markdown",
   "id": "9ad76b44-d166-426a-8b95-d98a1e62403a",
   "metadata": {},
   "source": [
    "# **Final_Strategy for Missing value in Age of Delivery person**\n",
    "\n",
    "**To impute missing values in Delivery_person_Age, we used a two-step hierarchical strategy. First, we grouped by both Delivery_person_ID and Distance to capture finer patterns in delivery behavior.For any remaining missing values, we then imputed using the mean age at the Delivery_person_ID level. This layered approach preserved the distribution well and leveraged individual and task-level patterns, making it the most effective imputation strategy for this feature.**"
   ]
  },
  {
   "cell_type": "markdown",
   "id": "d2c880b6-fbb5-43db-9145-c840d9ce2448",
   "metadata": {},
   "source": [
    "Delivery_person_Ratings"
   ]
  },
  {
   "cell_type": "code",
   "execution_count": 138,
   "id": "f24c4820-f0e3-4228-8900-d7e3f70cc8c7",
   "metadata": {},
   "outputs": [],
   "source": [
    "df['Delivery_person_Ratings'] = df['Delivery_person_Ratings'].fillna(\n",
    "    df.groupby(['Delivery_person_ID'])['Delivery_person_Ratings'].transform('mean'))"
   ]
  },
  {
   "cell_type": "code",
   "execution_count": 139,
   "id": "518b334b-d68d-4e92-b810-f9f04a5e86a6",
   "metadata": {},
   "outputs": [
    {
     "data": {
      "image/png": "[encoded data removed]",
      "text/plain": [
       "<Figure size 640x480 with 1 Axes>"
      ]
     },
     "metadata": {},
     "output_type": "display_data"
    }
   ],
   "source": [
    "sns.kdeplot(data['Delivery_person_Ratings'], fill=True, label='Raw Data')\n",
    "sns.kdeplot(df['Delivery_person_Ratings'], fill=True, label='Cleaned Data')\n",
    "plt.legend()\n",
    "plt.show()"
   ]
  },
  {
   "cell_type": "markdown",
   "id": "2521f59d-6ea7-4b9f-88e8-29b6a0a16349",
   "metadata": {},
   "source": [
    "#  **Final_Strategy for Missing value in  Delivery person Rating**\n",
    "\n",
    "**Missing values in the Delivery_person_Ratings variable were imputed using the mean rating for each Delivery_person_ID. This approach leverages individual historical performance data to fill in gaps, ensuring that the imputed values are consistent with each delivery person’s typical rating pattern. It also helps maintain the overall distribution and integrity of the data.**"
   ]
  },
  {
   "cell_type": "markdown",
   "id": "a285d271-5206-417a-8e47-283722a7cd91",
   "metadata": {},
   "source": [
    "Road_traffic_density"
   ]
  },
  {
   "cell_type": "code",
   "execution_count": 142,
   "id": "a8ce4bf6-b6e0-45e0-a79e-d4ff5a89232e",
   "metadata": {},
   "outputs": [
    {
     "data": {
      "text/plain": [
       "Time_Order_picked  Road_traffic_density\n",
       "00:00:00           Low                     395\n",
       "00:05:00           Low                     399\n",
       "00:10:00           Low                     253\n",
       "00:15:00           Low                     145\n",
       "08:15:00           Low                      44\n",
       "                                          ... \n",
       "23:35:00           Low                     402\n",
       "23:40:00           Low                     368\n",
       "23:45:00           Low                     397\n",
       "23:50:00           Low                     405\n",
       "23:55:00           Low                     359\n",
       "Name: count, Length: 197, dtype: int64"
      ]
     },
     "execution_count": 142,
     "metadata": {},
     "output_type": "execute_result"
    }
   ],
   "source": [
    "df.groupby(['Time_Order_picked'])['Road_traffic_density'].value_counts()"
   ]
  },
  {
   "cell_type": "code",
   "execution_count": 143,
   "id": "a3022b8d-37b8-4a53-9829-e043ff1f02eb",
   "metadata": {},
   "outputs": [
    {
     "data": {
      "text/plain": [
       "Series([], Name: count, dtype: int64)"
      ]
     },
     "execution_count": 143,
     "metadata": {},
     "output_type": "execute_result"
    }
   ],
   "source": [
    "data['Weatherconditions'][data['Road_traffic_density'].isna()].value_counts()"
   ]
  },
  {
   "cell_type": "markdown",
   "id": "af8a4e86-5bb0-46a8-9f62-e55219b8b890",
   "metadata": {},
   "source": [
    "**We observed that when Weatherconditions is recorded as \"conditions not tracked,\" the Road_traffic_density value is often missing. This suggests a dependency between the two variables, where missing or untracked weather data corresponds with missing traffic data.**"
   ]
  },
  {
   "cell_type": "code",
   "execution_count": 145,
   "id": "226c4e1b-7025-455a-a0a4-d56c2fffb15e",
   "metadata": {},
   "outputs": [],
   "source": [
    "df['Road_traffic_density'] = df['Road_traffic_density'].fillna('Missing')"
   ]
  },
  {
   "cell_type": "markdown",
   "id": "b95c755f-3dd4-48a6-8a31-88cff609b976",
   "metadata": {},
   "source": [
    "# **Missing Values — Road_traffic_density**\n",
    "* We observed that missing values in Road_traffic_density often occur when Weatherconditions is also recorded as \"conditions NaN\" . Since both variables are related and their missingness appears to carry real-world meaning (e.g., system not recording during certain conditions), we decided **not to impute these values**.\n",
    "* Instead, we treated the missing category as a separate, meaningful level (e.g., \"Missing\"), allowing the model to learn from the absence itself. This approach helps preserve important patterns rather than risk introducing bias through imputation."
   ]
  },
  {
   "cell_type": "markdown",
   "id": "12daa7c1-c09a-4c52-9dd9-0de001cbc57e",
   "metadata": {},
   "source": [
    "multiple_deliveries"
   ]
  },
  {
   "cell_type": "code",
   "execution_count": 148,
   "id": "00aa31d3-3a37-45e1-8b32-afe1c7126131",
   "metadata": {},
   "outputs": [],
   "source": [
    "df['multiple_deliveries'] = df['multiple_deliveries'].fillna(df['multiple_deliveries'].median())"
   ]
  },
  {
   "cell_type": "code",
   "execution_count": 149,
   "id": "93fa934c-5376-4353-abc2-740ab4cc4236",
   "metadata": {},
   "outputs": [
    {
     "data": {
      "image/png": "[encoded data removed]",
      "text/plain": [
       "<Figure size 640x480 with 1 Axes>"
      ]
     },
     "metadata": {},
     "output_type": "display_data"
    }
   ],
   "source": [
    "sns.kdeplot(data['multiple_deliveries'], fill=True, label='Raw Data')\n",
    "sns.kdeplot(df['multiple_deliveries'], fill=True, label='Cleaned Data')\n",
    "plt.legend()\n",
    "plt.show()"
   ]
  },
  {
   "cell_type": "markdown",
   "id": "a0562bf2-4c05-4b01-bb48-556930d2ccff",
   "metadata": {},
   "source": [
    "# **Median Imputation for Missing Values in multiple_deliveries**\n",
    "The variable multiple_deliveries contained missing values.\n",
    "To handle this, we used median imputation, replacing the missing entries with the median of the available values in the column.\n",
    "This approach avoids data leakage and is robust to outliers, making it a safe and simple baseline strategy.\n",
    "Although it does not consider group-wise patterns (e.g., differences across cities or festivals), it ensures consistency between training and test data since it relies only on the variable itself."
   ]
  },
  {
   "cell_type": "markdown",
   "id": "393d3086-e9ee-482c-ae30-0ed3798fbea8",
   "metadata": {},
   "source": [
    "Festival"
   ]
  },
  {
   "cell_type": "code",
   "execution_count": 152,
   "id": "1d35259c-9b4d-4f52-ac2e-2fe2a9b39f28",
   "metadata": {},
   "outputs": [
    {
     "name": "stdout",
     "output_type": "stream",
     "text": [
      "Requirement already satisfied: holidays in /opt/anaconda3/lib/python3.12/site-packages (0.71)\n",
      "Requirement already satisfied: python-dateutil in /opt/anaconda3/lib/python3.12/site-packages (from holidays) (2.9.0.post0)\n",
      "Requirement already satisfied: six>=1.5 in /opt/anaconda3/lib/python3.12/site-packages (from python-dateutil->holidays) (1.16.0)\n",
      "\n",
      "\u001b[1m[\u001b[0m\u001b[34;49mnotice\u001b[0m\u001b[1;39;49m]\u001b[0m\u001b[39;49m A new release of pip is available: \u001b[0m\u001b[31;49m25.0.1\u001b[0m\u001b[39;49m -> \u001b[0m\u001b[32;49m25.1.1\u001b[0m\n",
      "\u001b[1m[\u001b[0m\u001b[34;49mnotice\u001b[0m\u001b[1;39;49m]\u001b[0m\u001b[39;49m To update, run: \u001b[0m\u001b[32;49mpip install --upgrade pip\u001b[0m\n"
     ]
    }
   ],
   "source": [
    "!pip install holidays"
   ]
  },
  {
   "cell_type": "code",
   "execution_count": 153,
   "id": "4ea886f6-0f9f-43a3-9dd3-1fd5b1e9333f",
   "metadata": {},
   "outputs": [],
   "source": [
    "import holidays\n",
    "indian_holidays = holidays.India(years=2022)\n"
   ]
  },
  {
   "cell_type": "code",
   "execution_count": 154,
   "id": "a885927a-6b55-4e08-b879-fe47bb51a473",
   "metadata": {},
   "outputs": [],
   "source": [
    "# Only fill missing 'Festival' values\n",
    "df['Festival'] = df['Festival'].fillna(\n",
    "    df.apply(lambda x: 'Yes' if pd.isna(x['Festival']) and x['Order_Date'] in indian_holidays else 'No', axis=1)\n",
    ")"
   ]
  },
  {
   "cell_type": "markdown",
   "id": "10ee0222-83fd-484e-9260-4cef758968e1",
   "metadata": {},
   "source": [
    "# **Missing values - festival**\n",
    "**To impute missing values in the Festival column, we used the holidays library to check if the Order_Date corresponds to a public holiday. Missing values were filled with 'Yes' for holidays and 'No' for non-holidays, ensuring accurate imputation based on actual festival dates.**"
   ]
  },
  {
   "cell_type": "markdown",
   "id": "7c78e413-02cd-4edd-b22a-4f8aabb81cce",
   "metadata": {},
   "source": [
    "City"
   ]
  },
  {
   "cell_type": "code",
   "execution_count": 157,
   "id": "6c2ecf47-f498-42e4-97df-e6af5db5483c",
   "metadata": {},
   "outputs": [
    {
     "data": {
      "text/plain": [
       "City\n",
       "Metropolitian    31297\n",
       "Urban             9240\n",
       "Semi-Urban         149\n",
       "Name: count, dtype: int64"
      ]
     },
     "execution_count": 157,
     "metadata": {},
     "output_type": "execute_result"
    }
   ],
   "source": [
    "df['City'].value_counts()"
   ]
  },
  {
   "cell_type": "code",
   "execution_count": 158,
   "id": "21ed146c-8204-48f4-b101-65d94d2570cc",
   "metadata": {},
   "outputs": [],
   "source": [
    "df['City'] = df['City'].fillna('Missing')"
   ]
  },
  {
   "cell_type": "markdown",
   "id": "0e370c65-91e3-4fbd-b6a4-9d22b153b5ec",
   "metadata": {},
   "source": [
    "# **Missing values - City**\n",
    "**Missing values in the City variable were imputed as \"Missing\" to retain information, then ordinal encoded based on city importance.**"
   ]
  },
  {
   "cell_type": "markdown",
   "id": "b9138cf4-9ea6-410d-bc8e-9297009fadbd",
   "metadata": {},
   "source": [
    "# **Feature Generation**"
   ]
  },
  {
   "cell_type": "code",
   "execution_count": 161,
   "id": "fa75354f-d48c-4615-910c-0c829bd7c2c9",
   "metadata": {},
   "outputs": [],
   "source": [
    "#Extract city name by delivery\n",
    "data['City_Name'] = data['Delivery_person_ID'].str.extract(r'^(.*?)RES')"
   ]
  },
  {
   "cell_type": "code",
   "execution_count": 162,
   "id": "d543f594-db09-4c17-b143-9b7fca52ec33",
   "metadata": {},
   "outputs": [],
   "source": [
    "\n",
    "data['month'] = data['Order_Date'].dt.month\n",
    "data['day_of_week'] = data['Order_Date'].dt.dayofweek\n",
    "data['weekend'] = data['day_of_week'].apply(lambda x: 1 if x in [5,6] else 0)\n",
    "data['day'] = data['Order_Date'].dt.day\n",
    "data['quarter'] = data['Order_Date'].dt.quarter"
   ]
  },
  {
   "cell_type": "code",
   "execution_count": 163,
   "id": "080ba3a6-ee7f-4380-bd62-9765197e0a6c",
   "metadata": {},
   "outputs": [],
   "source": [
    "data['Ordered_time'] = pd.to_datetime(data['Order_Date'].astype(str)+' '+data['Time_Orderd'].astype(str), errors='coerce')\n",
    "data['Picked_with_time'] = pd.to_datetime(data['Order_Date'].astype(str) + ' ' + data['Time_Order_picked'].astype(str), errors='coerce')\n",
    "mask = data['Picked_with_time'] < data['Ordered_time']\n",
    "data.loc[mask, 'Picked_with_time'] += timedelta(days=1)\n"
   ]
  },
  {
   "cell_type": "code",
   "execution_count": 164,
   "id": "5736b840-dbd6-4762-87d8-1cdff608c37c",
   "metadata": {},
   "outputs": [],
   "source": [
    "data['Food_preparation_time'] = (data['Picked_with_time'] - data['Ordered_time']).dt.total_seconds() / 60"
   ]
  },
  {
   "cell_type": "code",
   "execution_count": 165,
   "id": "456f7e2b-ebea-444b-a359-66521657e303",
   "metadata": {},
   "outputs": [
    {
     "data": {
      "text/html": [
       "<div>\n",
       "<style scoped>\n",
       "    .dataframe tbody tr th:only-of-type {\n",
       "        vertical-align: middle;\n",
       "    }\n",
       "\n",
       "    .dataframe tbody tr th {\n",
       "        vertical-align: top;\n",
       "    }\n",
       "\n",
       "    .dataframe thead th {\n",
       "        text-align: right;\n",
       "    }\n",
       "</style>\n",
       "<table border=\"1\" class=\"dataframe\">\n",
       "  <thead>\n",
       "    <tr style=\"text-align: right;\">\n",
       "      <th></th>\n",
       "      <th>Picked_with_time</th>\n",
       "      <th>Ordered_time</th>\n",
       "      <th>Food_preparation_time</th>\n",
       "    </tr>\n",
       "  </thead>\n",
       "  <tbody>\n",
       "    <tr>\n",
       "      <th>0</th>\n",
       "      <td>2022-03-19 11:45:00</td>\n",
       "      <td>2022-03-19 11:30:00</td>\n",
       "      <td>15.0</td>\n",
       "    </tr>\n",
       "    <tr>\n",
       "      <th>1</th>\n",
       "      <td>2022-03-25 19:50:00</td>\n",
       "      <td>2022-03-25 19:45:00</td>\n",
       "      <td>5.0</td>\n",
       "    </tr>\n",
       "    <tr>\n",
       "      <th>2</th>\n",
       "      <td>2022-03-19 08:45:00</td>\n",
       "      <td>2022-03-19 08:30:00</td>\n",
       "      <td>15.0</td>\n",
       "    </tr>\n",
       "    <tr>\n",
       "      <th>3</th>\n",
       "      <td>2022-04-05 18:10:00</td>\n",
       "      <td>2022-04-05 18:00:00</td>\n",
       "      <td>10.0</td>\n",
       "    </tr>\n",
       "    <tr>\n",
       "      <th>4</th>\n",
       "      <td>2022-03-26 13:45:00</td>\n",
       "      <td>2022-03-26 13:30:00</td>\n",
       "      <td>15.0</td>\n",
       "    </tr>\n",
       "    <tr>\n",
       "      <th>...</th>\n",
       "      <td>...</td>\n",
       "      <td>...</td>\n",
       "      <td>...</td>\n",
       "    </tr>\n",
       "    <tr>\n",
       "      <th>45587</th>\n",
       "      <td>2022-03-08 21:55:00</td>\n",
       "      <td>2022-03-08 21:45:00</td>\n",
       "      <td>10.0</td>\n",
       "    </tr>\n",
       "    <tr>\n",
       "      <th>45588</th>\n",
       "      <td>2022-03-24 11:45:00</td>\n",
       "      <td>2022-03-24 11:35:00</td>\n",
       "      <td>10.0</td>\n",
       "    </tr>\n",
       "    <tr>\n",
       "      <th>45590</th>\n",
       "      <td>2022-03-12 00:05:00</td>\n",
       "      <td>2022-03-11 23:50:00</td>\n",
       "      <td>15.0</td>\n",
       "    </tr>\n",
       "    <tr>\n",
       "      <th>45591</th>\n",
       "      <td>2022-03-07 13:40:00</td>\n",
       "      <td>2022-03-07 13:35:00</td>\n",
       "      <td>5.0</td>\n",
       "    </tr>\n",
       "    <tr>\n",
       "      <th>45592</th>\n",
       "      <td>2022-03-02 17:15:00</td>\n",
       "      <td>2022-03-02 17:10:00</td>\n",
       "      <td>5.0</td>\n",
       "    </tr>\n",
       "  </tbody>\n",
       "</table>\n",
       "<p>41791 rows × 3 columns</p>\n",
       "</div>"
      ],
      "text/plain": [
       "         Picked_with_time        Ordered_time  Food_preparation_time\n",
       "0     2022-03-19 11:45:00 2022-03-19 11:30:00                   15.0\n",
       "1     2022-03-25 19:50:00 2022-03-25 19:45:00                    5.0\n",
       "2     2022-03-19 08:45:00 2022-03-19 08:30:00                   15.0\n",
       "3     2022-04-05 18:10:00 2022-04-05 18:00:00                   10.0\n",
       "4     2022-03-26 13:45:00 2022-03-26 13:30:00                   15.0\n",
       "...                   ...                 ...                    ...\n",
       "45587 2022-03-08 21:55:00 2022-03-08 21:45:00                   10.0\n",
       "45588 2022-03-24 11:45:00 2022-03-24 11:35:00                   10.0\n",
       "45590 2022-03-12 00:05:00 2022-03-11 23:50:00                   15.0\n",
       "45591 2022-03-07 13:40:00 2022-03-07 13:35:00                    5.0\n",
       "45592 2022-03-02 17:15:00 2022-03-02 17:10:00                    5.0\n",
       "\n",
       "[41791 rows x 3 columns]"
      ]
     },
     "execution_count": 165,
     "metadata": {},
     "output_type": "execute_result"
    }
   ],
   "source": [
    "data[['Picked_with_time','Ordered_time','Food_preparation_time']]"
   ]
  },
  {
   "cell_type": "code",
   "execution_count": 166,
   "id": "a8c62fc9-3b99-473b-8be2-1fd5cf51203c",
   "metadata": {},
   "outputs": [
    {
     "data": {
      "text/plain": [
       "dtype('float64')"
      ]
     },
     "execution_count": 166,
     "metadata": {},
     "output_type": "execute_result"
    }
   ],
   "source": [
    "data['Food_preparation_time'].dtypes"
   ]
  },
  {
   "cell_type": "code",
   "execution_count": 167,
   "id": "0a7c55f5-9439-488b-b293-dbc5f5703343",
   "metadata": {},
   "outputs": [],
   "source": [
    "df = data.copy()"
   ]
  },
  {
   "cell_type": "code",
   "execution_count": 168,
   "id": "20900531-f1bb-477a-9dca-5bdf6bbacbb1",
   "metadata": {},
   "outputs": [],
   "source": [
    "df['Food_preparation_time']=df['Food_preparation_time'].fillna(df.groupby(['City_Name'])['Food_preparation_time'].transform('median'))"
   ]
  },
  {
   "cell_type": "code",
   "execution_count": 169,
   "id": "88788cef-c031-4c94-a60d-668e648090ab",
   "metadata": {},
   "outputs": [
    {
     "data": {
      "image/png": "[encoded data removed]",
      "text/plain": [
       "<Figure size 640x480 with 1 Axes>"
      ]
     },
     "metadata": {},
     "output_type": "display_data"
    }
   ],
   "source": [
    "sns.kdeplot(data['Food_preparation_time'], fill=True, label='Raw Data')\n",
    "sns.kdeplot(df['Food_preparation_time'], fill=True, label='Cleaned Data')\n",
    "plt.legend()\n",
    "plt.show()"
   ]
  },
  {
   "cell_type": "markdown",
   "id": "3f47454e-23aa-4127-ab45-3aa3011b5016",
   "metadata": {},
   "source": [
    "Clustering"
   ]
  },
  {
   "cell_type": "code",
   "execution_count": 171,
   "id": "889a7ea9-4aa3-4b63-880b-b8cdac323c66",
   "metadata": {},
   "outputs": [],
   "source": [
    "coords = np.vstack((data[['Restaurant_latitude', 'Restaurant_longitude']].values,\n",
    "                    data[['Delivery_location_latitude', 'Delivery_location_longitude']].values))"
   ]
  },
  {
   "cell_type": "code",
   "execution_count": 172,
   "id": "a535d33b-cf61-40d9-89f3-fe4d39d49a97",
   "metadata": {},
   "outputs": [],
   "source": [
    "from sklearn.cluster import MiniBatchKMeans\n",
    "sample_ind = np.random.permutation(len(coords))\n",
    "kmeans = MiniBatchKMeans(n_clusters=22, batch_size=10000).fit(coords[sample_ind])\n",
    "data.loc[:, 'pickup_cluster'] = kmeans.predict(data[['Restaurant_latitude', 'Restaurant_longitude']])\n",
    "data.loc[:, 'dropoff_cluster'] = kmeans.predict(data[['Delivery_location_latitude', 'Delivery_location_longitude']])"
   ]
  },
  {
   "cell_type": "code",
   "execution_count": 173,
   "id": "322fcc19-90f8-4671-b9c6-af890c9ebf88",
   "metadata": {},
   "outputs": [
    {
     "data": {
      "image/png": "[encoded data removed]",
      "text/plain": [
       "<Figure size 640x480 with 1 Axes>"
      ]
     },
     "metadata": {},
     "output_type": "display_data"
    }
   ],
   "source": [
    "fig, ax = plt.subplots(ncols=1, nrows=1)\n",
    "ax.scatter(data.Restaurant_longitude.values, data.Restaurant_latitude.values, s=10, lw=0,\n",
    "           c=data.pickup_cluster.values, cmap='tab20', alpha=0.2)\n",
    "\n",
    "ax.set_xlabel('Longitude')\n",
    "ax.set_ylabel('Latitude')\n",
    "ax.set_title('Pickup v/s Dropoff Cluster')\n",
    "plt.show()"
   ]
  },
  {
   "cell_type": "code",
   "execution_count": 174,
   "id": "87273b59-ea97-49ae-b98c-6a193bcb8e29",
   "metadata": {},
   "outputs": [
    {
     "data": {
      "text/html": [
       "<div>\n",
       "<style scoped>\n",
       "    .dataframe tbody tr th:only-of-type {\n",
       "        vertical-align: middle;\n",
       "    }\n",
       "\n",
       "    .dataframe tbody tr th {\n",
       "        vertical-align: top;\n",
       "    }\n",
       "\n",
       "    .dataframe thead th {\n",
       "        text-align: right;\n",
       "    }\n",
       "</style>\n",
       "<table border=\"1\" class=\"dataframe\">\n",
       "  <thead>\n",
       "    <tr style=\"text-align: right;\">\n",
       "      <th></th>\n",
       "      <th>ID</th>\n",
       "      <th>Delivery_person_ID</th>\n",
       "      <th>Delivery_person_Age</th>\n",
       "      <th>Delivery_person_Ratings</th>\n",
       "      <th>Restaurant_latitude</th>\n",
       "      <th>Restaurant_longitude</th>\n",
       "      <th>Delivery_location_latitude</th>\n",
       "      <th>Delivery_location_longitude</th>\n",
       "      <th>Order_Date</th>\n",
       "      <th>Time_Orderd</th>\n",
       "      <th>...</th>\n",
       "      <th>month</th>\n",
       "      <th>day_of_week</th>\n",
       "      <th>weekend</th>\n",
       "      <th>day</th>\n",
       "      <th>quarter</th>\n",
       "      <th>Ordered_time</th>\n",
       "      <th>Picked_with_time</th>\n",
       "      <th>Food_preparation_time</th>\n",
       "      <th>pickup_cluster</th>\n",
       "      <th>dropoff_cluster</th>\n",
       "    </tr>\n",
       "  </thead>\n",
       "  <tbody>\n",
       "    <tr>\n",
       "      <th>0</th>\n",
       "      <td>0x4607</td>\n",
       "      <td>INDORES13DEL02</td>\n",
       "      <td>37.0</td>\n",
       "      <td>4.9</td>\n",
       "      <td>22.745049</td>\n",
       "      <td>75.892471</td>\n",
       "      <td>22.765049</td>\n",
       "      <td>75.912471</td>\n",
       "      <td>2022-03-19</td>\n",
       "      <td>11:30:00</td>\n",
       "      <td>...</td>\n",
       "      <td>3</td>\n",
       "      <td>5</td>\n",
       "      <td>1</td>\n",
       "      <td>19</td>\n",
       "      <td>1</td>\n",
       "      <td>2022-03-19 11:30:00</td>\n",
       "      <td>2022-03-19 11:45:00</td>\n",
       "      <td>15.0</td>\n",
       "      <td>8</td>\n",
       "      <td>8</td>\n",
       "    </tr>\n",
       "    <tr>\n",
       "      <th>1</th>\n",
       "      <td>0xb379</td>\n",
       "      <td>BANGRES18DEL02</td>\n",
       "      <td>34.0</td>\n",
       "      <td>4.5</td>\n",
       "      <td>12.913041</td>\n",
       "      <td>77.683237</td>\n",
       "      <td>13.043041</td>\n",
       "      <td>77.813237</td>\n",
       "      <td>2022-03-25</td>\n",
       "      <td>19:45:00</td>\n",
       "      <td>...</td>\n",
       "      <td>3</td>\n",
       "      <td>4</td>\n",
       "      <td>0</td>\n",
       "      <td>25</td>\n",
       "      <td>1</td>\n",
       "      <td>2022-03-25 19:45:00</td>\n",
       "      <td>2022-03-25 19:50:00</td>\n",
       "      <td>5.0</td>\n",
       "      <td>11</td>\n",
       "      <td>11</td>\n",
       "    </tr>\n",
       "    <tr>\n",
       "      <th>2</th>\n",
       "      <td>0x5d6d</td>\n",
       "      <td>BANGRES19DEL01</td>\n",
       "      <td>23.0</td>\n",
       "      <td>4.4</td>\n",
       "      <td>12.914264</td>\n",
       "      <td>77.678400</td>\n",
       "      <td>12.924264</td>\n",
       "      <td>77.688400</td>\n",
       "      <td>2022-03-19</td>\n",
       "      <td>08:30:00</td>\n",
       "      <td>...</td>\n",
       "      <td>3</td>\n",
       "      <td>5</td>\n",
       "      <td>1</td>\n",
       "      <td>19</td>\n",
       "      <td>1</td>\n",
       "      <td>2022-03-19 08:30:00</td>\n",
       "      <td>2022-03-19 08:45:00</td>\n",
       "      <td>15.0</td>\n",
       "      <td>11</td>\n",
       "      <td>11</td>\n",
       "    </tr>\n",
       "    <tr>\n",
       "      <th>3</th>\n",
       "      <td>0x7a6a</td>\n",
       "      <td>COIMBRES13DEL02</td>\n",
       "      <td>38.0</td>\n",
       "      <td>4.7</td>\n",
       "      <td>11.003669</td>\n",
       "      <td>76.976494</td>\n",
       "      <td>11.053669</td>\n",
       "      <td>77.026494</td>\n",
       "      <td>2022-04-05</td>\n",
       "      <td>18:00:00</td>\n",
       "      <td>...</td>\n",
       "      <td>4</td>\n",
       "      <td>1</td>\n",
       "      <td>0</td>\n",
       "      <td>5</td>\n",
       "      <td>2</td>\n",
       "      <td>2022-04-05 18:00:00</td>\n",
       "      <td>2022-04-05 18:10:00</td>\n",
       "      <td>10.0</td>\n",
       "      <td>5</td>\n",
       "      <td>5</td>\n",
       "    </tr>\n",
       "    <tr>\n",
       "      <th>4</th>\n",
       "      <td>0x70a2</td>\n",
       "      <td>CHENRES12DEL01</td>\n",
       "      <td>32.0</td>\n",
       "      <td>4.6</td>\n",
       "      <td>12.972793</td>\n",
       "      <td>80.249982</td>\n",
       "      <td>13.012793</td>\n",
       "      <td>80.289982</td>\n",
       "      <td>2022-03-26</td>\n",
       "      <td>13:30:00</td>\n",
       "      <td>...</td>\n",
       "      <td>3</td>\n",
       "      <td>5</td>\n",
       "      <td>1</td>\n",
       "      <td>26</td>\n",
       "      <td>1</td>\n",
       "      <td>2022-03-26 13:30:00</td>\n",
       "      <td>2022-03-26 13:45:00</td>\n",
       "      <td>15.0</td>\n",
       "      <td>0</td>\n",
       "      <td>0</td>\n",
       "    </tr>\n",
       "  </tbody>\n",
       "</table>\n",
       "<p>5 rows × 32 columns</p>\n",
       "</div>"
      ],
      "text/plain": [
       "       ID Delivery_person_ID  Delivery_person_Age  Delivery_person_Ratings  \\\n",
       "0  0x4607     INDORES13DEL02                 37.0                      4.9   \n",
       "1  0xb379     BANGRES18DEL02                 34.0                      4.5   \n",
       "2  0x5d6d     BANGRES19DEL01                 23.0                      4.4   \n",
       "3  0x7a6a    COIMBRES13DEL02                 38.0                      4.7   \n",
       "4  0x70a2     CHENRES12DEL01                 32.0                      4.6   \n",
       "\n",
       "   Restaurant_latitude  Restaurant_longitude  Delivery_location_latitude  \\\n",
       "0            22.745049             75.892471                   22.765049   \n",
       "1            12.913041             77.683237                   13.043041   \n",
       "2            12.914264             77.678400                   12.924264   \n",
       "3            11.003669             76.976494                   11.053669   \n",
       "4            12.972793             80.249982                   13.012793   \n",
       "\n",
       "   Delivery_location_longitude Order_Date Time_Orderd  ... month day_of_week  \\\n",
       "0                    75.912471 2022-03-19    11:30:00  ...     3           5   \n",
       "1                    77.813237 2022-03-25    19:45:00  ...     3           4   \n",
       "2                    77.688400 2022-03-19    08:30:00  ...     3           5   \n",
       "3                    77.026494 2022-04-05    18:00:00  ...     4           1   \n",
       "4                    80.289982 2022-03-26    13:30:00  ...     3           5   \n",
       "\n",
       "  weekend  day quarter        Ordered_time    Picked_with_time  \\\n",
       "0       1   19       1 2022-03-19 11:30:00 2022-03-19 11:45:00   \n",
       "1       0   25       1 2022-03-25 19:45:00 2022-03-25 19:50:00   \n",
       "2       1   19       1 2022-03-19 08:30:00 2022-03-19 08:45:00   \n",
       "3       0    5       2 2022-04-05 18:00:00 2022-04-05 18:10:00   \n",
       "4       1   26       1 2022-03-26 13:30:00 2022-03-26 13:45:00   \n",
       "\n",
       "  Food_preparation_time pickup_cluster  dropoff_cluster  \n",
       "0                  15.0              8                8  \n",
       "1                   5.0             11               11  \n",
       "2                  15.0             11               11  \n",
       "3                  10.0              5                5  \n",
       "4                  15.0              0                0  \n",
       "\n",
       "[5 rows x 32 columns]"
      ]
     },
     "execution_count": 174,
     "metadata": {},
     "output_type": "execute_result"
    }
   ],
   "source": [
    "data.head()"
   ]
  },
  {
   "cell_type": "markdown",
   "id": "2f094881-e10c-4f2a-88b5-470f5108c670",
   "metadata": {},
   "source": [
    "After Feature Generation we transforming Missing value by strategy "
   ]
  },
  {
   "cell_type": "code",
   "execution_count": 176,
   "id": "1c731dc3-eeac-43bb-a994-ad8893d8de9d",
   "metadata": {},
   "outputs": [],
   "source": [
    "#Numerical - Missing values\n",
    "data['Delivery_person_Age'] = data['Delivery_person_Age'].fillna(\n",
    "    data.groupby(['Delivery_person_ID','City'])['Delivery_person_Age'].transform('mean'))\n",
    "\n",
    "data['Delivery_person_Age'] = data['Delivery_person_Age'].fillna(data.groupby(['Delivery_person_ID'])['Delivery_person_Age'].transform('mean'))\n",
    "\n",
    "data['Delivery_person_Ratings'] = data['Delivery_person_Ratings'].fillna(\n",
    "    data.groupby(['Delivery_person_ID'])['Delivery_person_Ratings'].transform('mean'))\n",
    "\n",
    "data['multiple_deliveries'] = data['multiple_deliveries'].fillna(data['multiple_deliveries'].median())\n",
    "data['Food_preparation_time']=data['Food_preparation_time'].fillna(data.groupby(['City_Name'])['Food_preparation_time'].transform('median'))"
   ]
  },
  {
   "cell_type": "code",
   "execution_count": 177,
   "id": "d5c74d41-d9ed-4c2e-a48d-4e9dd7c3742c",
   "metadata": {},
   "outputs": [],
   "source": [
    "# Category Missing values\n",
    "data['Road_traffic_density'] = data['Road_traffic_density'].fillna('Missing')\n",
    "data['Weatherconditions'] = data['Weatherconditions'].fillna('Missing')\n",
    "data['City'] = data['City'].fillna('Missing')\n",
    "data['Festival'] = data['Festival'].fillna(\n",
    "    data.apply(lambda x: 'Yes' if pd.isna(x['Festival']) and x['Order_Date'] in indian_holidays else 'No', axis=1)\n",
    ")\n"
   ]
  },
  {
   "cell_type": "code",
   "execution_count": 178,
   "id": "c7531adb-2e23-413b-b78a-65b683334263",
   "metadata": {},
   "outputs": [],
   "source": [
    "data = data[['Delivery_person_Age','Delivery_person_Ratings','Weatherconditions',\n",
    "             'Road_traffic_density','Vehicle_condition','Type_of_order','Type_of_vehicle',\n",
    "             'multiple_deliveries','Festival','City','distance','City_Name','month','day_of_week',\n",
    "             'weekend','day','quarter','Food_preparation_time','pickup_cluster','dropoff_cluster','Time_taken(min)']]"
   ]
  },
  {
   "cell_type": "code",
   "execution_count": 179,
   "id": "8a9a4e29-1770-4d4c-a5b2-d136137ec442",
   "metadata": {},
   "outputs": [
    {
     "data": {
      "text/plain": [
       "(41791, 21)"
      ]
     },
     "execution_count": 179,
     "metadata": {},
     "output_type": "execute_result"
    }
   ],
   "source": [
    "data.shape"
   ]
  },
  {
   "cell_type": "code",
   "execution_count": 180,
   "id": "6e89939d-d9d0-482c-ae09-2e1d9363d623",
   "metadata": {},
   "outputs": [
    {
     "data": {
      "text/plain": [
       "Delivery_person_Age        0\n",
       "Delivery_person_Ratings    0\n",
       "Weatherconditions          0\n",
       "Road_traffic_density       0\n",
       "Vehicle_condition          0\n",
       "Type_of_order              0\n",
       "Type_of_vehicle            0\n",
       "multiple_deliveries        0\n",
       "Festival                   0\n",
       "City                       0\n",
       "distance                   0\n",
       "City_Name                  0\n",
       "month                      0\n",
       "day_of_week                0\n",
       "weekend                    0\n",
       "day                        0\n",
       "quarter                    0\n",
       "Food_preparation_time      0\n",
       "pickup_cluster             0\n",
       "dropoff_cluster            0\n",
       "Time_taken(min)            0\n",
       "dtype: int64"
      ]
     },
     "execution_count": 180,
     "metadata": {},
     "output_type": "execute_result"
    }
   ],
   "source": [
    "data.isna().sum()"
   ]
  },
  {
   "cell_type": "markdown",
   "id": "5e295f4d-58dd-4469-b719-5ae5c5819cb7",
   "metadata": {},
   "source": [
    "# Encoding"
   ]
  },
  {
   "cell_type": "code",
   "execution_count": 182,
   "id": "aedaddf6-f7aa-45c6-ba36-745967164c65",
   "metadata": {},
   "outputs": [
    {
     "data": {
      "text/html": [
       "<div>\n",
       "<style scoped>\n",
       "    .dataframe tbody tr th:only-of-type {\n",
       "        vertical-align: middle;\n",
       "    }\n",
       "\n",
       "    .dataframe tbody tr th {\n",
       "        vertical-align: top;\n",
       "    }\n",
       "\n",
       "    .dataframe thead th {\n",
       "        text-align: right;\n",
       "    }\n",
       "</style>\n",
       "<table border=\"1\" class=\"dataframe\">\n",
       "  <thead>\n",
       "    <tr style=\"text-align: right;\">\n",
       "      <th></th>\n",
       "      <th>Weatherconditions</th>\n",
       "      <th>Road_traffic_density</th>\n",
       "      <th>Type_of_order</th>\n",
       "      <th>Type_of_vehicle</th>\n",
       "      <th>Festival</th>\n",
       "      <th>City</th>\n",
       "      <th>City_Name</th>\n",
       "    </tr>\n",
       "  </thead>\n",
       "  <tbody>\n",
       "    <tr>\n",
       "      <th>0</th>\n",
       "      <td>Sunny</td>\n",
       "      <td>High</td>\n",
       "      <td>Snack</td>\n",
       "      <td>motorcycle</td>\n",
       "      <td>No</td>\n",
       "      <td>Urban</td>\n",
       "      <td>INDO</td>\n",
       "    </tr>\n",
       "    <tr>\n",
       "      <th>1</th>\n",
       "      <td>Stormy</td>\n",
       "      <td>Jam</td>\n",
       "      <td>Snack</td>\n",
       "      <td>scooter</td>\n",
       "      <td>No</td>\n",
       "      <td>Metropolitian</td>\n",
       "      <td>BANG</td>\n",
       "    </tr>\n",
       "    <tr>\n",
       "      <th>2</th>\n",
       "      <td>Sandstorms</td>\n",
       "      <td>Low</td>\n",
       "      <td>Drinks</td>\n",
       "      <td>motorcycle</td>\n",
       "      <td>No</td>\n",
       "      <td>Urban</td>\n",
       "      <td>BANG</td>\n",
       "    </tr>\n",
       "    <tr>\n",
       "      <th>3</th>\n",
       "      <td>Sunny</td>\n",
       "      <td>Medium</td>\n",
       "      <td>Buffet</td>\n",
       "      <td>motorcycle</td>\n",
       "      <td>No</td>\n",
       "      <td>Metropolitian</td>\n",
       "      <td>COIMB</td>\n",
       "    </tr>\n",
       "    <tr>\n",
       "      <th>4</th>\n",
       "      <td>Cloudy</td>\n",
       "      <td>High</td>\n",
       "      <td>Snack</td>\n",
       "      <td>scooter</td>\n",
       "      <td>No</td>\n",
       "      <td>Metropolitian</td>\n",
       "      <td>CHEN</td>\n",
       "    </tr>\n",
       "    <tr>\n",
       "      <th>...</th>\n",
       "      <td>...</td>\n",
       "      <td>...</td>\n",
       "      <td>...</td>\n",
       "      <td>...</td>\n",
       "      <td>...</td>\n",
       "      <td>...</td>\n",
       "      <td>...</td>\n",
       "    </tr>\n",
       "    <tr>\n",
       "      <th>45587</th>\n",
       "      <td>Windy</td>\n",
       "      <td>Jam</td>\n",
       "      <td>Drinks</td>\n",
       "      <td>motorcycle</td>\n",
       "      <td>No</td>\n",
       "      <td>Metropolitian</td>\n",
       "      <td>RANCHI</td>\n",
       "    </tr>\n",
       "    <tr>\n",
       "      <th>45588</th>\n",
       "      <td>Windy</td>\n",
       "      <td>High</td>\n",
       "      <td>Meal</td>\n",
       "      <td>motorcycle</td>\n",
       "      <td>No</td>\n",
       "      <td>Metropolitian</td>\n",
       "      <td>JAP</td>\n",
       "    </tr>\n",
       "    <tr>\n",
       "      <th>45590</th>\n",
       "      <td>Cloudy</td>\n",
       "      <td>Low</td>\n",
       "      <td>Drinks</td>\n",
       "      <td>scooter</td>\n",
       "      <td>No</td>\n",
       "      <td>Metropolitian</td>\n",
       "      <td>CHEN</td>\n",
       "    </tr>\n",
       "    <tr>\n",
       "      <th>45591</th>\n",
       "      <td>Cloudy</td>\n",
       "      <td>High</td>\n",
       "      <td>Snack</td>\n",
       "      <td>motorcycle</td>\n",
       "      <td>No</td>\n",
       "      <td>Metropolitian</td>\n",
       "      <td>COIMB</td>\n",
       "    </tr>\n",
       "    <tr>\n",
       "      <th>45592</th>\n",
       "      <td>Fog</td>\n",
       "      <td>Medium</td>\n",
       "      <td>Snack</td>\n",
       "      <td>scooter</td>\n",
       "      <td>No</td>\n",
       "      <td>Metropolitian</td>\n",
       "      <td>RANCHI</td>\n",
       "    </tr>\n",
       "  </tbody>\n",
       "</table>\n",
       "<p>41791 rows × 7 columns</p>\n",
       "</div>"
      ],
      "text/plain": [
       "      Weatherconditions Road_traffic_density Type_of_order Type_of_vehicle  \\\n",
       "0                 Sunny                 High         Snack      motorcycle   \n",
       "1                Stormy                  Jam         Snack         scooter   \n",
       "2            Sandstorms                  Low        Drinks      motorcycle   \n",
       "3                 Sunny               Medium        Buffet      motorcycle   \n",
       "4                Cloudy                 High         Snack         scooter   \n",
       "...                 ...                  ...           ...             ...   \n",
       "45587             Windy                  Jam        Drinks      motorcycle   \n",
       "45588             Windy                 High          Meal      motorcycle   \n",
       "45590            Cloudy                  Low        Drinks         scooter   \n",
       "45591            Cloudy                 High         Snack      motorcycle   \n",
       "45592               Fog               Medium         Snack         scooter   \n",
       "\n",
       "      Festival           City City_Name  \n",
       "0           No          Urban      INDO  \n",
       "1           No  Metropolitian      BANG  \n",
       "2           No          Urban      BANG  \n",
       "3           No  Metropolitian     COIMB  \n",
       "4           No  Metropolitian      CHEN  \n",
       "...        ...            ...       ...  \n",
       "45587       No  Metropolitian    RANCHI  \n",
       "45588       No  Metropolitian       JAP  \n",
       "45590       No  Metropolitian      CHEN  \n",
       "45591       No  Metropolitian     COIMB  \n",
       "45592       No  Metropolitian    RANCHI  \n",
       "\n",
       "[41791 rows x 7 columns]"
      ]
     },
     "execution_count": 182,
     "metadata": {},
     "output_type": "execute_result"
    }
   ],
   "source": [
    "data.select_dtypes(include=['object'])"
   ]
  },
  {
   "cell_type": "code",
   "execution_count": 183,
   "id": "8670f2ae-b906-44bf-962d-97f1e4c6ddf4",
   "metadata": {},
   "outputs": [
    {
     "data": {
      "text/plain": [
       "City\n",
       "Metropolitian    31297\n",
       "Urban             9240\n",
       "Missing           1105\n",
       "Semi-Urban         149\n",
       "Name: count, dtype: int64"
      ]
     },
     "execution_count": 183,
     "metadata": {},
     "output_type": "execute_result"
    }
   ],
   "source": [
    "data['City'].value_counts()"
   ]
  },
  {
   "cell_type": "code",
   "execution_count": 184,
   "id": "cc66c5d1-de65-4fd9-96a5-9299c329fbd8",
   "metadata": {},
   "outputs": [],
   "source": [
    "label_encoding =['Weatherconditions','Type_of_order','Type_of_vehicle','City_Name','Festival']\n",
    "ordinal_cols =['Road_traffic_density','City']\n",
    "Road_traffic_density_order = ['Missing','Low','Medium','High','Jam']\n",
    "City_order =['Missing','Semi-Urban','Urban','Metropolitian']"
   ]
  },
  {
   "cell_type": "code",
   "execution_count": 185,
   "id": "f89d4204-62fe-41f0-9b42-be097e69e428",
   "metadata": {},
   "outputs": [],
   "source": [
    "from sklearn.preprocessing import LabelEncoder, OrdinalEncoder\n",
    "label = LabelEncoder()\n",
    "ordinal = OrdinalEncoder(categories=[Road_traffic_density_order,City_order])"
   ]
  },
  {
   "cell_type": "code",
   "execution_count": 186,
   "id": "feb925f3-afef-4919-93c6-37029e8db72c",
   "metadata": {},
   "outputs": [],
   "source": [
    "for col in label_encoding:  # list of column names\n",
    "    data[col] = label.fit_transform(data[col])"
   ]
  },
  {
   "cell_type": "code",
   "execution_count": 187,
   "id": "8cc9866e-2da3-41e5-a29c-7dcb0620c60e",
   "metadata": {},
   "outputs": [],
   "source": [
    "data[ordinal_cols] = ordinal.fit_transform(data[ordinal_cols])"
   ]
  },
  {
   "cell_type": "code",
   "execution_count": 188,
   "id": "813cef6c-ed55-4fb2-b7cb-02907248193c",
   "metadata": {},
   "outputs": [
    {
     "data": {
      "text/html": [
       "<div>\n",
       "<style scoped>\n",
       "    .dataframe tbody tr th:only-of-type {\n",
       "        vertical-align: middle;\n",
       "    }\n",
       "\n",
       "    .dataframe tbody tr th {\n",
       "        vertical-align: top;\n",
       "    }\n",
       "\n",
       "    .dataframe thead th {\n",
       "        text-align: right;\n",
       "    }\n",
       "</style>\n",
       "<table border=\"1\" class=\"dataframe\">\n",
       "  <thead>\n",
       "    <tr style=\"text-align: right;\">\n",
       "      <th></th>\n",
       "      <th>Delivery_person_Age</th>\n",
       "      <th>Delivery_person_Ratings</th>\n",
       "      <th>Weatherconditions</th>\n",
       "      <th>Road_traffic_density</th>\n",
       "      <th>Vehicle_condition</th>\n",
       "      <th>Type_of_order</th>\n",
       "      <th>Type_of_vehicle</th>\n",
       "      <th>multiple_deliveries</th>\n",
       "      <th>Festival</th>\n",
       "      <th>City</th>\n",
       "      <th>...</th>\n",
       "      <th>City_Name</th>\n",
       "      <th>month</th>\n",
       "      <th>day_of_week</th>\n",
       "      <th>weekend</th>\n",
       "      <th>day</th>\n",
       "      <th>quarter</th>\n",
       "      <th>Food_preparation_time</th>\n",
       "      <th>pickup_cluster</th>\n",
       "      <th>dropoff_cluster</th>\n",
       "      <th>Time_taken(min)</th>\n",
       "    </tr>\n",
       "  </thead>\n",
       "  <tbody>\n",
       "    <tr>\n",
       "      <th>0</th>\n",
       "      <td>37.0</td>\n",
       "      <td>4.9</td>\n",
       "      <td>5</td>\n",
       "      <td>3.0</td>\n",
       "      <td>2</td>\n",
       "      <td>3</td>\n",
       "      <td>2</td>\n",
       "      <td>0.0</td>\n",
       "      <td>0</td>\n",
       "      <td>2.0</td>\n",
       "      <td>...</td>\n",
       "      <td>10</td>\n",
       "      <td>3</td>\n",
       "      <td>5</td>\n",
       "      <td>1</td>\n",
       "      <td>19</td>\n",
       "      <td>1</td>\n",
       "      <td>15.0</td>\n",
       "      <td>8</td>\n",
       "      <td>8</td>\n",
       "      <td>24</td>\n",
       "    </tr>\n",
       "    <tr>\n",
       "      <th>1</th>\n",
       "      <td>34.0</td>\n",
       "      <td>4.5</td>\n",
       "      <td>4</td>\n",
       "      <td>4.0</td>\n",
       "      <td>2</td>\n",
       "      <td>3</td>\n",
       "      <td>3</td>\n",
       "      <td>1.0</td>\n",
       "      <td>0</td>\n",
       "      <td>3.0</td>\n",
       "      <td>...</td>\n",
       "      <td>3</td>\n",
       "      <td>3</td>\n",
       "      <td>4</td>\n",
       "      <td>0</td>\n",
       "      <td>25</td>\n",
       "      <td>1</td>\n",
       "      <td>5.0</td>\n",
       "      <td>11</td>\n",
       "      <td>11</td>\n",
       "      <td>33</td>\n",
       "    </tr>\n",
       "    <tr>\n",
       "      <th>2</th>\n",
       "      <td>23.0</td>\n",
       "      <td>4.4</td>\n",
       "      <td>3</td>\n",
       "      <td>1.0</td>\n",
       "      <td>0</td>\n",
       "      <td>1</td>\n",
       "      <td>2</td>\n",
       "      <td>1.0</td>\n",
       "      <td>0</td>\n",
       "      <td>2.0</td>\n",
       "      <td>...</td>\n",
       "      <td>3</td>\n",
       "      <td>3</td>\n",
       "      <td>5</td>\n",
       "      <td>1</td>\n",
       "      <td>19</td>\n",
       "      <td>1</td>\n",
       "      <td>15.0</td>\n",
       "      <td>11</td>\n",
       "      <td>11</td>\n",
       "      <td>26</td>\n",
       "    </tr>\n",
       "    <tr>\n",
       "      <th>3</th>\n",
       "      <td>38.0</td>\n",
       "      <td>4.7</td>\n",
       "      <td>5</td>\n",
       "      <td>2.0</td>\n",
       "      <td>0</td>\n",
       "      <td>0</td>\n",
       "      <td>2</td>\n",
       "      <td>1.0</td>\n",
       "      <td>0</td>\n",
       "      <td>3.0</td>\n",
       "      <td>...</td>\n",
       "      <td>6</td>\n",
       "      <td>4</td>\n",
       "      <td>1</td>\n",
       "      <td>0</td>\n",
       "      <td>5</td>\n",
       "      <td>2</td>\n",
       "      <td>10.0</td>\n",
       "      <td>5</td>\n",
       "      <td>5</td>\n",
       "      <td>21</td>\n",
       "    </tr>\n",
       "    <tr>\n",
       "      <th>4</th>\n",
       "      <td>32.0</td>\n",
       "      <td>4.6</td>\n",
       "      <td>0</td>\n",
       "      <td>3.0</td>\n",
       "      <td>1</td>\n",
       "      <td>3</td>\n",
       "      <td>3</td>\n",
       "      <td>1.0</td>\n",
       "      <td>0</td>\n",
       "      <td>3.0</td>\n",
       "      <td>...</td>\n",
       "      <td>5</td>\n",
       "      <td>3</td>\n",
       "      <td>5</td>\n",
       "      <td>1</td>\n",
       "      <td>26</td>\n",
       "      <td>1</td>\n",
       "      <td>15.0</td>\n",
       "      <td>0</td>\n",
       "      <td>0</td>\n",
       "      <td>30</td>\n",
       "    </tr>\n",
       "  </tbody>\n",
       "</table>\n",
       "<p>5 rows × 21 columns</p>\n",
       "</div>"
      ],
      "text/plain": [
       "   Delivery_person_Age  Delivery_person_Ratings  Weatherconditions  \\\n",
       "0                 37.0                      4.9                  5   \n",
       "1                 34.0                      4.5                  4   \n",
       "2                 23.0                      4.4                  3   \n",
       "3                 38.0                      4.7                  5   \n",
       "4                 32.0                      4.6                  0   \n",
       "\n",
       "   Road_traffic_density  Vehicle_condition  Type_of_order  Type_of_vehicle  \\\n",
       "0                   3.0                  2              3                2   \n",
       "1                   4.0                  2              3                3   \n",
       "2                   1.0                  0              1                2   \n",
       "3                   2.0                  0              0                2   \n",
       "4                   3.0                  1              3                3   \n",
       "\n",
       "   multiple_deliveries  Festival  City  ...  City_Name  month  day_of_week  \\\n",
       "0                  0.0         0   2.0  ...         10      3            5   \n",
       "1                  1.0         0   3.0  ...          3      3            4   \n",
       "2                  1.0         0   2.0  ...          3      3            5   \n",
       "3                  1.0         0   3.0  ...          6      4            1   \n",
       "4                  1.0         0   3.0  ...          5      3            5   \n",
       "\n",
       "   weekend  day  quarter  Food_preparation_time  pickup_cluster  \\\n",
       "0        1   19        1                   15.0               8   \n",
       "1        0   25        1                    5.0              11   \n",
       "2        1   19        1                   15.0              11   \n",
       "3        0    5        2                   10.0               5   \n",
       "4        1   26        1                   15.0               0   \n",
       "\n",
       "   dropoff_cluster  Time_taken(min)  \n",
       "0                8               24  \n",
       "1               11               33  \n",
       "2               11               26  \n",
       "3                5               21  \n",
       "4                0               30  \n",
       "\n",
       "[5 rows x 21 columns]"
      ]
     },
     "execution_count": 188,
     "metadata": {},
     "output_type": "execute_result"
    }
   ],
   "source": [
    "data.head()"
   ]
  },
  {
   "cell_type": "code",
   "execution_count": 189,
   "id": "b3a8cc20-7b35-40f8-a094-df7dadfe5e50",
   "metadata": {},
   "outputs": [],
   "source": [
    "data.to_csv(\"data/processed_data.csv\", index=False)"
   ]
  },
  {
   "cell_type": "code",
   "execution_count": null,
   "id": "c4ea08cc-5bc2-4252-a33f-087c9a7a3b0a",
   "metadata": {},
   "outputs": [],
   "source": []
  }
 ],
 "metadata": {
  "kernelspec": {
   "display_name": "Python [conda env:base] *",
   "language": "python",
   "name": "conda-base-py"
  },
  "language_info": {
   "codemirror_mode": {
    "name": "ipython",
    "version": 3
   },
   "file_extension": ".py",
   "mimetype": "text/x-python",
   "name": "python",
   "nbconvert_exporter": "python",
   "pygments_lexer": "ipython3",
   "version": "3.12.7"
  }
 },
 "nbformat": 4,
 "nbformat_minor": 5
}
