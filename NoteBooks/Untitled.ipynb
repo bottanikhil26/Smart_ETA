{
 "cells": [
  {
   "cell_type": "code",
   "execution_count": 2,
   "id": "3a95e2f4-cb52-4d17-8762-96994372e3b8",
   "metadata": {},
   "outputs": [],
   "source": [
    "import os\n",
    "os.chdir('..')"
   ]
  },
  {
   "cell_type": "code",
   "execution_count": 4,
   "id": "80535b30-9221-474c-85d5-22f6ad4521a0",
   "metadata": {},
   "outputs": [],
   "source": [
    "import pandas as pd"
   ]
  },
  {
   "cell_type": "code",
   "execution_count": 6,
   "id": "97536ce9-48e7-4bb5-b787-cbe6abe78c62",
   "metadata": {},
   "outputs": [],
   "source": [
    "data = pd.read_csv('data/train.csv')"
   ]
  },
  {
   "cell_type": "code",
   "execution_count": null,
   "id": "9a265f98-7fa3-4121-be46-36d3c021a5b0",
   "metadata": {},
   "outputs": [],
   "source": [
    "def changing_dtypes(data):\n",
    "    data['\n",
    "    "
   ]
  }
 ],
 "metadata": {
  "kernelspec": {
   "display_name": "Python [conda env:base] *",
   "language": "python",
   "name": "conda-base-py"
  },
  "language_info": {
   "codemirror_mode": {
    "name": "ipython",
    "version": 3
   },
   "file_extension": ".py",
   "mimetype": "text/x-python",
   "name": "python",
   "nbconvert_exporter": "python",
   "pygments_lexer": "ipython3",
   "version": "3.12.7"
  }
 },
 "nbformat": 4,
 "nbformat_minor": 5
}
